{
 "cells": [
  {
   "cell_type": "markdown",
   "id": "060a5e3c",
   "metadata": {},
   "source": [
    "#0.1 Importing Libraries"
   ]
  },
  {
   "cell_type": "code",
   "execution_count": 6,
   "id": "56699aac",
   "metadata": {},
   "outputs": [],
   "source": [
    "# Import libraries\n",
    "import pandas as pd\n",
    "import numpy as pd\n",
    "import os"
   ]
  },
  {
   "cell_type": "markdown",
   "id": "2eda5bea",
   "metadata": {},
   "source": [
    "#0.2.1 reaching 100"
   ]
  },
  {
   "cell_type": "code",
   "execution_count": 52,
   "id": "83d39844",
   "metadata": {},
   "outputs": [],
   "source": [
    "x=50"
   ]
  },
  {
   "cell_type": "code",
   "execution_count": 53,
   "id": "30e8cd5d",
   "metadata": {},
   "outputs": [
    {
     "name": "stdout",
     "output_type": "stream",
     "text": [
      "50\n"
     ]
    }
   ],
   "source": [
    "print(x)"
   ]
  },
  {
   "cell_type": "code",
   "execution_count": 54,
   "id": "26fa5a32",
   "metadata": {},
   "outputs": [],
   "source": [
    "y=25"
   ]
  },
  {
   "cell_type": "code",
   "execution_count": 55,
   "id": "045b2f0c",
   "metadata": {},
   "outputs": [
    {
     "name": "stdout",
     "output_type": "stream",
     "text": [
      "25\n"
     ]
    }
   ],
   "source": [
    "print(y)"
   ]
  },
  {
   "cell_type": "code",
   "execution_count": 56,
   "id": "dd8527de",
   "metadata": {},
   "outputs": [],
   "source": [
    "z=25"
   ]
  },
  {
   "cell_type": "code",
   "execution_count": 57,
   "id": "f605ef84",
   "metadata": {},
   "outputs": [
    {
     "name": "stdout",
     "output_type": "stream",
     "text": [
      "25\n"
     ]
    }
   ],
   "source": [
    "print(z)"
   ]
  },
  {
   "cell_type": "code",
   "execution_count": 58,
   "id": "4703f65c",
   "metadata": {},
   "outputs": [
    {
     "data": {
      "text/plain": [
       "100"
      ]
     },
     "execution_count": 58,
     "metadata": {},
     "output_type": "execute_result"
    }
   ],
   "source": [
    "x+y+z"
   ]
  },
  {
   "cell_type": "markdown",
   "id": "4b119f48",
   "metadata": {},
   "source": [
    "#0.2.2 reaching 100"
   ]
  },
  {
   "cell_type": "code",
   "execution_count": 59,
   "id": "677b68b7",
   "metadata": {},
   "outputs": [],
   "source": [
    "a=50"
   ]
  },
  {
   "cell_type": "code",
   "execution_count": 60,
   "id": "77f0b5d4",
   "metadata": {},
   "outputs": [
    {
     "name": "stdout",
     "output_type": "stream",
     "text": [
      "50\n"
     ]
    }
   ],
   "source": [
    "print(a)"
   ]
  },
  {
   "cell_type": "code",
   "execution_count": 61,
   "id": "bd62cab7",
   "metadata": {},
   "outputs": [],
   "source": [
    "b=50"
   ]
  },
  {
   "cell_type": "code",
   "execution_count": 62,
   "id": "28750e14",
   "metadata": {},
   "outputs": [
    {
     "name": "stdout",
     "output_type": "stream",
     "text": [
      "50\n"
     ]
    }
   ],
   "source": [
    "print(b)"
   ]
  },
  {
   "cell_type": "code",
   "execution_count": 63,
   "id": "ea7c2bbc",
   "metadata": {},
   "outputs": [
    {
     "data": {
      "text/plain": [
       "100"
      ]
     },
     "execution_count": 63,
     "metadata": {},
     "output_type": "execute_result"
    }
   ],
   "source": [
    "a+b"
   ]
  },
  {
   "cell_type": "markdown",
   "id": "b0e0bd69",
   "metadata": {},
   "source": [
    "#0.2.3 reaching 100"
   ]
  },
  {
   "cell_type": "code",
   "execution_count": 64,
   "id": "2862e87f",
   "metadata": {},
   "outputs": [],
   "source": [
    "j=75"
   ]
  },
  {
   "cell_type": "code",
   "execution_count": 65,
   "id": "8aecda35",
   "metadata": {},
   "outputs": [
    {
     "name": "stdout",
     "output_type": "stream",
     "text": [
      "75\n"
     ]
    }
   ],
   "source": [
    "print(j)"
   ]
  },
  {
   "cell_type": "code",
   "execution_count": 66,
   "id": "f1387197",
   "metadata": {},
   "outputs": [],
   "source": [
    "k=25"
   ]
  },
  {
   "cell_type": "code",
   "execution_count": 67,
   "id": "0e1f7e73",
   "metadata": {},
   "outputs": [
    {
     "name": "stdout",
     "output_type": "stream",
     "text": [
      "25\n"
     ]
    }
   ],
   "source": [
    "print(k)"
   ]
  },
  {
   "cell_type": "code",
   "execution_count": 68,
   "id": "4a8e3bb8",
   "metadata": {},
   "outputs": [
    {
     "data": {
      "text/plain": [
       "100"
      ]
     },
     "execution_count": 68,
     "metadata": {},
     "output_type": "execute_result"
    }
   ],
   "source": [
    "j+k"
   ]
  },
  {
   "cell_type": "markdown",
   "id": "e2935fdc",
   "metadata": {},
   "source": [
    "0.3 Floating-point variables"
   ]
  },
  {
   "cell_type": "markdown",
   "id": "6f94c1c4",
   "metadata": {},
   "source": [
    "#0.3.1 example 1"
   ]
  },
  {
   "cell_type": "code",
   "execution_count": 72,
   "id": "528f303e",
   "metadata": {},
   "outputs": [],
   "source": [
    "c = 2.35"
   ]
  },
  {
   "cell_type": "code",
   "execution_count": 73,
   "id": "5b86ba41",
   "metadata": {},
   "outputs": [
    {
     "name": "stdout",
     "output_type": "stream",
     "text": [
      "2.35\n"
     ]
    }
   ],
   "source": [
    "print(c)"
   ]
  },
  {
   "cell_type": "code",
   "execution_count": 74,
   "id": "e984ecdf",
   "metadata": {},
   "outputs": [],
   "source": [
    "d= 0.32"
   ]
  },
  {
   "cell_type": "code",
   "execution_count": 75,
   "id": "616128bf",
   "metadata": {},
   "outputs": [
    {
     "name": "stdout",
     "output_type": "stream",
     "text": [
      "0.32\n"
     ]
    }
   ],
   "source": [
    "print(d)"
   ]
  },
  {
   "cell_type": "code",
   "execution_count": 76,
   "id": "0c10f1a3",
   "metadata": {},
   "outputs": [
    {
     "data": {
      "text/plain": [
       "7.34375"
      ]
     },
     "execution_count": 76,
     "metadata": {},
     "output_type": "execute_result"
    }
   ],
   "source": [
    "c/d"
   ]
  },
  {
   "cell_type": "markdown",
   "id": "8b9eecf7",
   "metadata": {},
   "source": [
    "#0.3.2 example 2"
   ]
  },
  {
   "cell_type": "code",
   "execution_count": 77,
   "id": "6da8a6ed",
   "metadata": {},
   "outputs": [],
   "source": [
    "e= 7.2"
   ]
  },
  {
   "cell_type": "code",
   "execution_count": 78,
   "id": "6975275c",
   "metadata": {},
   "outputs": [
    {
     "name": "stdout",
     "output_type": "stream",
     "text": [
      "7.2\n"
     ]
    }
   ],
   "source": [
    "print(e)"
   ]
  },
  {
   "cell_type": "code",
   "execution_count": 79,
   "id": "25bd01c0",
   "metadata": {},
   "outputs": [],
   "source": [
    "f=0.752"
   ]
  },
  {
   "cell_type": "code",
   "execution_count": 81,
   "id": "4cf51216",
   "metadata": {},
   "outputs": [
    {
     "name": "stdout",
     "output_type": "stream",
     "text": [
      "0.752\n"
     ]
    }
   ],
   "source": [
    "print(f)"
   ]
  },
  {
   "cell_type": "code",
   "execution_count": 80,
   "id": "c99f9190",
   "metadata": {},
   "outputs": [
    {
     "data": {
      "text/plain": [
       "9.574468085106384"
      ]
     },
     "execution_count": 80,
     "metadata": {},
     "output_type": "execute_result"
    }
   ],
   "source": [
    "e/f"
   ]
  },
  {
   "cell_type": "markdown",
   "id": "f9778cb9",
   "metadata": {},
   "source": [
    "#0.4 Strings"
   ]
  },
  {
   "cell_type": "markdown",
   "id": "e3300968",
   "metadata": {},
   "source": [
    "#0.4.1 short word 1"
   ]
  },
  {
   "cell_type": "code",
   "execution_count": 98,
   "id": "fa29a18f",
   "metadata": {},
   "outputs": [],
   "source": [
    "h = \" Harry \""
   ]
  },
  {
   "cell_type": "code",
   "execution_count": 90,
   "id": "1caaeb65",
   "metadata": {},
   "outputs": [],
   "source": [
    "p = \"Potter \""
   ]
  },
  {
   "cell_type": "code",
   "execution_count": 99,
   "id": "12bba585",
   "metadata": {},
   "outputs": [
    {
     "data": {
      "text/plain": [
       "' Harry Potter '"
      ]
     },
     "execution_count": 99,
     "metadata": {},
     "output_type": "execute_result"
    }
   ],
   "source": [
    "h + p"
   ]
  },
  {
   "cell_type": "markdown",
   "id": "ef216584",
   "metadata": {},
   "source": [
    "#0.4.2 Short sentence 1"
   ]
  },
  {
   "cell_type": "code",
   "execution_count": 94,
   "id": "d59b7dd0",
   "metadata": {},
   "outputs": [],
   "source": [
    "o = \"is \""
   ]
  },
  {
   "cell_type": "code",
   "execution_count": 87,
   "id": "d03d87cd",
   "metadata": {},
   "outputs": [],
   "source": [
    "q = \"wiz\""
   ]
  },
  {
   "cell_type": "code",
   "execution_count": 95,
   "id": "8f2af4c4",
   "metadata": {},
   "outputs": [],
   "source": [
    "s = \"a \""
   ]
  },
  {
   "cell_type": "code",
   "execution_count": 88,
   "id": "9ce907fa",
   "metadata": {},
   "outputs": [],
   "source": [
    "r = \"ard\""
   ]
  },
  {
   "cell_type": "code",
   "execution_count": 100,
   "id": "5a4f5dc8",
   "metadata": {},
   "outputs": [
    {
     "data": {
      "text/plain": [
       "' Harry Potter is a wizard'"
      ]
     },
     "execution_count": 100,
     "metadata": {},
     "output_type": "execute_result"
    }
   ],
   "source": [
    "h+p+o+s+q+r"
   ]
  },
  {
   "cell_type": "markdown",
   "id": "b4f37084",
   "metadata": {},
   "source": [
    "#0.4.3 Short sentence 2"
   ]
  },
  {
   "cell_type": "code",
   "execution_count": 93,
   "id": "833772b0",
   "metadata": {},
   "outputs": [],
   "source": [
    "m = \"you're \""
   ]
  },
  {
   "cell_type": "code",
   "execution_count": 101,
   "id": "0c927d32",
   "metadata": {},
   "outputs": [
    {
     "data": {
      "text/plain": [
       "\"you're a wizard Harry \""
      ]
     },
     "execution_count": 101,
     "metadata": {},
     "output_type": "execute_result"
    }
   ],
   "source": [
    "m+s+q+r+h"
   ]
  }
 ],
 "metadata": {
  "kernelspec": {
   "display_name": "Python 3 (ipykernel)",
   "language": "python",
   "name": "python3"
  },
  "language_info": {
   "codemirror_mode": {
    "name": "ipython",
    "version": 3
   },
   "file_extension": ".py",
   "mimetype": "text/x-python",
   "name": "python",
   "nbconvert_exporter": "python",
   "pygments_lexer": "ipython3",
   "version": "3.9.12"
  }
 },
 "nbformat": 4,
 "nbformat_minor": 5
}
