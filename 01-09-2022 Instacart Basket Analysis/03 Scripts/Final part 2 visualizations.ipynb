{
 "cells": [
  {
   "cell_type": "markdown",
   "id": "3312675b",
   "metadata": {},
   "source": [
    "# Table of contents\n",
    "\n",
    "- Importing libraries\n",
    "- Question 6: creating visualizations for the customer profiles\n",
    "    - Are there products more popular than others?\n",
    "    - What’s the distribution among users in regards to their brand loyalty\n",
    "    - Are there differences in ordering habits based on a customer’s loyalty status? \n",
    "    - Are there differences in ordering habits based on a customer’s region? \n",
    "    - Compare your customer profiles with regions and departments. "
   ]
  },
  {
   "cell_type": "code",
   "execution_count": 1,
   "id": "74aceb13",
   "metadata": {},
   "outputs": [],
   "source": [
    "#Import Libraries\n",
    "import pandas as pd\n",
    "import numpy as np\n",
    "import os\n",
    "import matplotlib.pyplot as plt\n",
    "import seaborn as sns\n",
    "import scipy"
   ]
  },
  {
   "cell_type": "code",
   "execution_count": 2,
   "id": "f1ec6a6c",
   "metadata": {},
   "outputs": [],
   "source": [
    "path = r'C:\\Users\\alexa\\OneDrive\\Documents\\data analytics\\Achievement 4\\01-09-2022 Instacart Basket Analysis'"
   ]
  },
  {
   "cell_type": "code",
   "execution_count": 3,
   "id": "94344a7c",
   "metadata": {},
   "outputs": [],
   "source": [
    "df_total = pd.read_pickle(os.path.join(path, '02 Data', 'Prepared Data', 'Final_cust_profile.pkl'))"
   ]
  },
  {
   "cell_type": "markdown",
   "id": "baac5f5f",
   "metadata": {},
   "source": [
    "# Question 6: creating visualizations for the customer profiles"
   ]
  },
  {
   "cell_type": "code",
   "execution_count": 4,
   "id": "d572516e",
   "metadata": {},
   "outputs": [
    {
     "data": {
      "text/html": [
       "<div>\n",
       "<style scoped>\n",
       "    .dataframe tbody tr th:only-of-type {\n",
       "        vertical-align: middle;\n",
       "    }\n",
       "\n",
       "    .dataframe tbody tr th {\n",
       "        vertical-align: top;\n",
       "    }\n",
       "\n",
       "    .dataframe thead th {\n",
       "        text-align: right;\n",
       "    }\n",
       "</style>\n",
       "<table border=\"1\" class=\"dataframe\">\n",
       "  <thead>\n",
       "    <tr style=\"text-align: right;\">\n",
       "      <th></th>\n",
       "      <th>order_id</th>\n",
       "      <th>user_id</th>\n",
       "      <th>order_number</th>\n",
       "      <th>Order_day_of_week</th>\n",
       "      <th>order_hour_of_day</th>\n",
       "      <th>Days since last order</th>\n",
       "      <th>New customer</th>\n",
       "      <th>product_id</th>\n",
       "      <th>add_to_cart_order</th>\n",
       "      <th>reordered</th>\n",
       "      <th>...</th>\n",
       "      <th>income</th>\n",
       "      <th>Region</th>\n",
       "      <th>total_orders</th>\n",
       "      <th>activity_flag</th>\n",
       "      <th>age_group</th>\n",
       "      <th>dependent_flag</th>\n",
       "      <th>department</th>\n",
       "      <th>income_flag</th>\n",
       "      <th>Has_pets</th>\n",
       "      <th>Has_baby</th>\n",
       "    </tr>\n",
       "  </thead>\n",
       "  <tbody>\n",
       "    <tr>\n",
       "      <th>0</th>\n",
       "      <td>2539329</td>\n",
       "      <td>1</td>\n",
       "      <td>1</td>\n",
       "      <td>2</td>\n",
       "      <td>8</td>\n",
       "      <td>NaN</td>\n",
       "      <td>True</td>\n",
       "      <td>196.0</td>\n",
       "      <td>1.0</td>\n",
       "      <td>0.0</td>\n",
       "      <td>...</td>\n",
       "      <td>40423</td>\n",
       "      <td>South</td>\n",
       "      <td>59</td>\n",
       "      <td>Regular_activity</td>\n",
       "      <td>Adult</td>\n",
       "      <td>Parent</td>\n",
       "      <td>beverages</td>\n",
       "      <td>low income</td>\n",
       "      <td>no</td>\n",
       "      <td>no</td>\n",
       "    </tr>\n",
       "    <tr>\n",
       "      <th>1</th>\n",
       "      <td>2398795</td>\n",
       "      <td>1</td>\n",
       "      <td>2</td>\n",
       "      <td>3</td>\n",
       "      <td>7</td>\n",
       "      <td>15.0</td>\n",
       "      <td>False</td>\n",
       "      <td>196.0</td>\n",
       "      <td>1.0</td>\n",
       "      <td>1.0</td>\n",
       "      <td>...</td>\n",
       "      <td>40423</td>\n",
       "      <td>South</td>\n",
       "      <td>59</td>\n",
       "      <td>Regular_activity</td>\n",
       "      <td>Adult</td>\n",
       "      <td>Parent</td>\n",
       "      <td>beverages</td>\n",
       "      <td>low income</td>\n",
       "      <td>no</td>\n",
       "      <td>no</td>\n",
       "    </tr>\n",
       "    <tr>\n",
       "      <th>2</th>\n",
       "      <td>473747</td>\n",
       "      <td>1</td>\n",
       "      <td>3</td>\n",
       "      <td>3</td>\n",
       "      <td>12</td>\n",
       "      <td>21.0</td>\n",
       "      <td>False</td>\n",
       "      <td>196.0</td>\n",
       "      <td>1.0</td>\n",
       "      <td>1.0</td>\n",
       "      <td>...</td>\n",
       "      <td>40423</td>\n",
       "      <td>South</td>\n",
       "      <td>59</td>\n",
       "      <td>Regular_activity</td>\n",
       "      <td>Adult</td>\n",
       "      <td>Parent</td>\n",
       "      <td>beverages</td>\n",
       "      <td>low income</td>\n",
       "      <td>no</td>\n",
       "      <td>no</td>\n",
       "    </tr>\n",
       "    <tr>\n",
       "      <th>3</th>\n",
       "      <td>2254736</td>\n",
       "      <td>1</td>\n",
       "      <td>4</td>\n",
       "      <td>4</td>\n",
       "      <td>7</td>\n",
       "      <td>29.0</td>\n",
       "      <td>False</td>\n",
       "      <td>196.0</td>\n",
       "      <td>1.0</td>\n",
       "      <td>1.0</td>\n",
       "      <td>...</td>\n",
       "      <td>40423</td>\n",
       "      <td>South</td>\n",
       "      <td>59</td>\n",
       "      <td>Regular_activity</td>\n",
       "      <td>Adult</td>\n",
       "      <td>Parent</td>\n",
       "      <td>beverages</td>\n",
       "      <td>low income</td>\n",
       "      <td>no</td>\n",
       "      <td>no</td>\n",
       "    </tr>\n",
       "    <tr>\n",
       "      <th>4</th>\n",
       "      <td>431534</td>\n",
       "      <td>1</td>\n",
       "      <td>5</td>\n",
       "      <td>4</td>\n",
       "      <td>15</td>\n",
       "      <td>28.0</td>\n",
       "      <td>False</td>\n",
       "      <td>196.0</td>\n",
       "      <td>1.0</td>\n",
       "      <td>1.0</td>\n",
       "      <td>...</td>\n",
       "      <td>40423</td>\n",
       "      <td>South</td>\n",
       "      <td>59</td>\n",
       "      <td>Regular_activity</td>\n",
       "      <td>Adult</td>\n",
       "      <td>Parent</td>\n",
       "      <td>beverages</td>\n",
       "      <td>low income</td>\n",
       "      <td>no</td>\n",
       "      <td>no</td>\n",
       "    </tr>\n",
       "  </tbody>\n",
       "</table>\n",
       "<p>5 rows × 41 columns</p>\n",
       "</div>"
      ],
      "text/plain": [
       "   order_id  user_id  order_number  Order_day_of_week  order_hour_of_day  \\\n",
       "0   2539329        1             1                  2                  8   \n",
       "1   2398795        1             2                  3                  7   \n",
       "2    473747        1             3                  3                 12   \n",
       "3   2254736        1             4                  4                  7   \n",
       "4    431534        1             5                  4                 15   \n",
       "\n",
       "   Days since last order  New customer  product_id  add_to_cart_order  \\\n",
       "0                    NaN          True       196.0                1.0   \n",
       "1                   15.0         False       196.0                1.0   \n",
       "2                   21.0         False       196.0                1.0   \n",
       "3                   29.0         False       196.0                1.0   \n",
       "4                   28.0         False       196.0                1.0   \n",
       "\n",
       "   reordered  ... income  Region  total_orders     activity_flag age_group  \\\n",
       "0        0.0  ...  40423   South            59  Regular_activity     Adult   \n",
       "1        1.0  ...  40423   South            59  Regular_activity     Adult   \n",
       "2        1.0  ...  40423   South            59  Regular_activity     Adult   \n",
       "3        1.0  ...  40423   South            59  Regular_activity     Adult   \n",
       "4        1.0  ...  40423   South            59  Regular_activity     Adult   \n",
       "\n",
       "  dependent_flag department income_flag Has_pets  Has_baby  \n",
       "0         Parent  beverages  low income       no        no  \n",
       "1         Parent  beverages  low income       no        no  \n",
       "2         Parent  beverages  low income       no        no  \n",
       "3         Parent  beverages  low income       no        no  \n",
       "4         Parent  beverages  low income       no        no  \n",
       "\n",
       "[5 rows x 41 columns]"
      ]
     },
     "execution_count": 4,
     "metadata": {},
     "output_type": "execute_result"
    }
   ],
   "source": [
    "df_total.head()"
   ]
  },
  {
   "cell_type": "code",
   "execution_count": 5,
   "id": "205eebc7",
   "metadata": {},
   "outputs": [
    {
     "data": {
      "text/plain": [
       "Index(['order_id', 'user_id', 'order_number', 'Order_day_of_week',\n",
       "       'order_hour_of_day', 'Days since last order', 'New customer',\n",
       "       'product_id', 'add_to_cart_order', 'reordered', 'product_name',\n",
       "       'aisle_id', 'department_id', 'prices', '_merge', 'price_range_loc',\n",
       "       'Busiest day', '2 busy/slow days', 'busiest_period_of_day', 'max order',\n",
       "       'loyalty_flag', 'Mean_price', 'Spend_flag', 'Median_since_last_ordered',\n",
       "       'Order_frequency_flag', 'Gender', 'State', 'Age', 'Date joined',\n",
       "       'No of dependents', 'Marital status', 'income', 'Region',\n",
       "       'total_orders', 'activity_flag', 'age_group', 'dependent_flag',\n",
       "       'department', 'income_flag', 'Has_pets', 'Has_baby'],\n",
       "      dtype='object')"
      ]
     },
     "execution_count": 5,
     "metadata": {},
     "output_type": "execute_result"
    }
   ],
   "source": [
    "df_total.columns"
   ]
  },
  {
   "cell_type": "markdown",
   "id": "aa8edff1",
   "metadata": {},
   "source": [
    "# Are there products more popular than others?"
   ]
  },
  {
   "cell_type": "code",
   "execution_count": 6,
   "id": "5d405db4",
   "metadata": {},
   "outputs": [
    {
     "data": {
      "text/plain": [
       "produce            9109507\n",
       "dairy eggs         5188656\n",
       "snacks             2774135\n",
       "beverages          2582147\n",
       "frozen             2150710\n",
       "pantry             1802447\n",
       "bakery             1127577\n",
       "canned goods       1026965\n",
       "deli               1010388\n",
       "dry goods pasta     833013\n",
       "household           709970\n",
       "meat seafood        681740\n",
       "breakfast           676141\n",
       "personal care       430565\n",
       "babies              407558\n",
       "international       258750\n",
       "alcohol             147510\n",
       "pets                 94036\n",
       "missing              66678\n",
       "other                34945\n",
       "bulk                 33338\n",
       "Name: department, dtype: int64"
      ]
     },
     "execution_count": 6,
     "metadata": {},
     "output_type": "execute_result"
    }
   ],
   "source": [
    "df_total['department'].value_counts(dropna=False)"
   ]
  },
  {
   "cell_type": "code",
   "execution_count": 7,
   "id": "ecf28165",
   "metadata": {},
   "outputs": [
    {
     "data": {
      "image/png": "[encoded data removed]",
      "text/plain": [
       "<Figure size 432x288 with 1 Axes>"
      ]
     },
     "metadata": {
      "needs_background": "light"
     },
     "output_type": "display_data"
    }
   ],
   "source": [
    "#create bar chart on popular products\n",
    "bar_depart_orders=df_total['department'].value_counts(dropna=False).sort_values(ascending=True).plot.barh(color=['blue'])"
   ]
  },
  {
   "cell_type": "code",
   "execution_count": 8,
   "id": "9c67258c",
   "metadata": {},
   "outputs": [],
   "source": [
    "bar_depart_orders.figure.savefig(os.path.join(path, '04 Analysis', 'Visualizations', 'bar_depart_orders.final.png'))"
   ]
  },
  {
   "cell_type": "markdown",
   "id": "9f84c210",
   "metadata": {},
   "source": [
    "# What’s the distribution among users in regards to their brand loyalty"
   ]
  },
  {
   "cell_type": "code",
   "execution_count": 9,
   "id": "fd9fb70f",
   "metadata": {},
   "outputs": [],
   "source": [
    "# create a pie chart on the 'loyalty_flag' to demonstrate brand loyalty\n",
    "df_loyalty=df_total[['loyalty_flag', 'user_id']]\n",
    "df_loyalty_unique=df_loyalty.drop_duplicates()"
   ]
  },
  {
   "cell_type": "code",
   "execution_count": 10,
   "id": "40826932",
   "metadata": {},
   "outputs": [
    {
     "data": {
      "text/plain": [
       "New customer        107931\n",
       "Regular customer     73858\n",
       "Loyal customer       16334\n",
       "Name: loyalty_flag, dtype: int64"
      ]
     },
     "execution_count": 10,
     "metadata": {},
     "output_type": "execute_result"
    }
   ],
   "source": [
    "df_loyalty_unique['loyalty_flag'].value_counts()"
   ]
  },
  {
   "cell_type": "code",
   "execution_count": 11,
   "id": "c05aa3f0",
   "metadata": {},
   "outputs": [
    {
     "data": {
      "text/plain": [
       "(-1.1115149482990572,\n",
       " 1.11753674857566,\n",
       " -1.1106952390482736,\n",
       " 1.1005092970975368)"
      ]
     },
     "execution_count": 11,
     "metadata": {},
     "output_type": "execute_result"
    },
    {
     "data": {
      "image/png": "[encoded data removed]",
      "text/plain": [
       "<Figure size 432x288 with 1 Axes>"
      ]
     },
     "metadata": {},
     "output_type": "display_data"
    }
   ],
   "source": [
    "labels = 'Regular customer', 'Loyal customer', 'New customer'\n",
    "sizes = df_loyalty_unique['loyalty_flag'].value_counts()\n",
    "colors = ['#5D8AA8', '#00308F', '#004F98']\n",
    "textprops = {}\n",
    "\n",
    "loyal, ax = plt.subplots()\n",
    "ax.pie(sizes,labels=labels,colors=colors,autopct='%1.1f%%',\n",
    "        shadow=True, startangle=90,textprops=textprops)\n",
    "ax.axis('equal')  \n"
   ]
  },
  {
   "cell_type": "code",
   "execution_count": 12,
   "id": "b10e1e58",
   "metadata": {},
   "outputs": [],
   "source": [
    "loyal.figure.savefig(os.path.join(path, '04 Analysis', 'Visualizations', 'loyal_piechart.final.png'))"
   ]
  },
  {
   "cell_type": "markdown",
   "id": "558175fc",
   "metadata": {},
   "source": [
    "# Are there differences in ordering habits based on a customer’s loyalty status? "
   ]
  },
  {
   "cell_type": "code",
   "execution_count": 13,
   "id": "856a0b35",
   "metadata": {},
   "outputs": [
    {
     "data": {
      "text/html": [
       "<div>\n",
       "<style scoped>\n",
       "    .dataframe tbody tr th:only-of-type {\n",
       "        vertical-align: middle;\n",
       "    }\n",
       "\n",
       "    .dataframe tbody tr th {\n",
       "        vertical-align: top;\n",
       "    }\n",
       "\n",
       "    .dataframe thead tr th {\n",
       "        text-align: left;\n",
       "    }\n",
       "\n",
       "    .dataframe thead tr:last-of-type th {\n",
       "        text-align: right;\n",
       "    }\n",
       "</style>\n",
       "<table border=\"1\" class=\"dataframe\">\n",
       "  <thead>\n",
       "    <tr>\n",
       "      <th></th>\n",
       "      <th colspan=\"3\" halign=\"left\">prices</th>\n",
       "    </tr>\n",
       "    <tr>\n",
       "      <th></th>\n",
       "      <th>mean</th>\n",
       "      <th>max</th>\n",
       "      <th>min</th>\n",
       "    </tr>\n",
       "    <tr>\n",
       "      <th>loyalty_flag</th>\n",
       "      <th></th>\n",
       "      <th></th>\n",
       "      <th></th>\n",
       "    </tr>\n",
       "  </thead>\n",
       "  <tbody>\n",
       "    <tr>\n",
       "      <th>Loyal customer</th>\n",
       "      <td>7.773852</td>\n",
       "      <td>25.0</td>\n",
       "      <td>1.0</td>\n",
       "    </tr>\n",
       "    <tr>\n",
       "      <th>New customer</th>\n",
       "      <td>7.801210</td>\n",
       "      <td>25.0</td>\n",
       "      <td>1.0</td>\n",
       "    </tr>\n",
       "    <tr>\n",
       "      <th>Regular customer</th>\n",
       "      <td>7.798387</td>\n",
       "      <td>25.0</td>\n",
       "      <td>1.0</td>\n",
       "    </tr>\n",
       "  </tbody>\n",
       "</table>\n",
       "</div>"
      ],
      "text/plain": [
       "                    prices           \n",
       "                      mean   max  min\n",
       "loyalty_flag                         \n",
       "Loyal customer    7.773852  25.0  1.0\n",
       "New customer      7.801210  25.0  1.0\n",
       "Regular customer  7.798387  25.0  1.0"
      ]
     },
     "execution_count": 13,
     "metadata": {},
     "output_type": "execute_result"
    }
   ],
   "source": [
    "df_total.groupby('loyalty_flag').agg({'prices': ['mean', 'max', 'min']})"
   ]
  },
  {
   "cell_type": "code",
   "execution_count": 14,
   "id": "56a3b221",
   "metadata": {},
   "outputs": [
    {
     "data": {
      "text/html": [
       "<div>\n",
       "<style scoped>\n",
       "    .dataframe tbody tr th:only-of-type {\n",
       "        vertical-align: middle;\n",
       "    }\n",
       "\n",
       "    .dataframe tbody tr th {\n",
       "        vertical-align: top;\n",
       "    }\n",
       "\n",
       "    .dataframe thead tr th {\n",
       "        text-align: left;\n",
       "    }\n",
       "\n",
       "    .dataframe thead tr:last-of-type th {\n",
       "        text-align: right;\n",
       "    }\n",
       "</style>\n",
       "<table border=\"1\" class=\"dataframe\">\n",
       "  <thead>\n",
       "    <tr>\n",
       "      <th></th>\n",
       "      <th colspan=\"3\" halign=\"left\">Median_since_last_ordered</th>\n",
       "    </tr>\n",
       "    <tr>\n",
       "      <th></th>\n",
       "      <th>mean</th>\n",
       "      <th>max</th>\n",
       "      <th>min</th>\n",
       "    </tr>\n",
       "    <tr>\n",
       "      <th>loyalty_flag</th>\n",
       "      <th></th>\n",
       "      <th></th>\n",
       "      <th></th>\n",
       "    </tr>\n",
       "  </thead>\n",
       "  <tbody>\n",
       "    <tr>\n",
       "      <th>Loyal customer</th>\n",
       "      <td>5.168256</td>\n",
       "      <td>14.0</td>\n",
       "      <td>0.0</td>\n",
       "    </tr>\n",
       "    <tr>\n",
       "      <th>New customer</th>\n",
       "      <td>18.465342</td>\n",
       "      <td>30.0</td>\n",
       "      <td>0.0</td>\n",
       "    </tr>\n",
       "    <tr>\n",
       "      <th>Regular customer</th>\n",
       "      <td>10.609949</td>\n",
       "      <td>30.0</td>\n",
       "      <td>0.0</td>\n",
       "    </tr>\n",
       "  </tbody>\n",
       "</table>\n",
       "</div>"
      ],
      "text/plain": [
       "                 Median_since_last_ordered           \n",
       "                                      mean   max  min\n",
       "loyalty_flag                                         \n",
       "Loyal customer                    5.168256  14.0  0.0\n",
       "New customer                     18.465342  30.0  0.0\n",
       "Regular customer                 10.609949  30.0  0.0"
      ]
     },
     "execution_count": 14,
     "metadata": {},
     "output_type": "execute_result"
    }
   ],
   "source": [
    "df_total.groupby('loyalty_flag').agg({'Median_since_last_ordered': ['mean', 'max', 'min']})"
   ]
  },
  {
   "cell_type": "code",
   "execution_count": 15,
   "id": "3619a12e",
   "metadata": {},
   "outputs": [
    {
     "data": {
      "text/html": [
       "<div>\n",
       "<style scoped>\n",
       "    .dataframe tbody tr th:only-of-type {\n",
       "        vertical-align: middle;\n",
       "    }\n",
       "\n",
       "    .dataframe tbody tr th {\n",
       "        vertical-align: top;\n",
       "    }\n",
       "\n",
       "    .dataframe thead th {\n",
       "        text-align: right;\n",
       "    }\n",
       "</style>\n",
       "<table border=\"1\" class=\"dataframe\">\n",
       "  <thead>\n",
       "    <tr style=\"text-align: right;\">\n",
       "      <th>loyalty_flag</th>\n",
       "      <th>New customer</th>\n",
       "      <th>Regular customer</th>\n",
       "      <th>Loyal customer</th>\n",
       "    </tr>\n",
       "    <tr>\n",
       "      <th>price_range_loc</th>\n",
       "      <th></th>\n",
       "      <th></th>\n",
       "      <th></th>\n",
       "    </tr>\n",
       "  </thead>\n",
       "  <tbody>\n",
       "    <tr>\n",
       "      <th>High-range products</th>\n",
       "      <td>33</td>\n",
       "      <td>9</td>\n",
       "      <td>0</td>\n",
       "    </tr>\n",
       "    <tr>\n",
       "      <th>Low range products</th>\n",
       "      <td>35763</td>\n",
       "      <td>23657</td>\n",
       "      <td>4711</td>\n",
       "    </tr>\n",
       "    <tr>\n",
       "      <th>Mid range products</th>\n",
       "      <td>4416</td>\n",
       "      <td>4200</td>\n",
       "      <td>1137</td>\n",
       "    </tr>\n",
       "  </tbody>\n",
       "</table>\n",
       "</div>"
      ],
      "text/plain": [
       "loyalty_flag         New customer  Regular customer  Loyal customer\n",
       "price_range_loc                                                    \n",
       "High-range products            33                 9               0\n",
       "Low range products          35763             23657            4711\n",
       "Mid range products           4416              4200            1137"
      ]
     },
     "execution_count": 15,
     "metadata": {},
     "output_type": "execute_result"
    }
   ],
   "source": [
    "#measuring loyalty on the spend_flag\n",
    "df_loyalty2=pd.crosstab(df_total['price_range_loc'], df_loyalty_unique['loyalty_flag'], normalize='index')\n",
    "df_loyalty2=df_loyalty2.reindex(['New customer', 'Regular customer', 'Loyal customer'], axis='columns')\n",
    "df_loyalty2_labels=pd.crosstab(index=df_total['price_range_loc'], columns=df_loyalty_unique['loyalty_flag'])\n",
    "df_loyalty2_labels=df_loyalty2_labels.reindex(['New customer', 'Regular customer', 'Loyal customer'], axis='columns')\n",
    "df_loyalty2_labels"
   ]
  },
  {
   "cell_type": "code",
   "execution_count": 44,
   "id": "1d1259fb",
   "metadata": {},
   "outputs": [
    {
     "data": {
      "image/png": "[encoded data removed]",
      "text/plain": [
       "<Figure size 432x288 with 1 Axes>"
      ]
     },
     "metadata": {
      "needs_background": "light"
     },
     "output_type": "display_data"
    }
   ],
   "source": [
    "bar_loyalty2=df_loyalty2.plot.bar(stacked=True,color=['#5D8AA8', '#00308F', '#004F98'])\n",
    "plt.title('measuring loyalty on the spend_flag')\n",
    "plt.xlabel('Number of customers')\n",
    "plt.legend(bbox_to_anchor=(1.02, 0.1), loc='upper left', borderaxespad=0)\n",
    "for n, y in enumerate([*df_loyalty2.index.values]):\n",
    "    for (proportion, count, x_loc) in zip(df_loyalty2.loc[y],\n",
    "                                     df_loyalty2_labels.loc[y],\n",
    "                                        df_loyalty2.loc[y].cumsum()):\n",
    "                \n",
    "        plt.text(y=(x_loc - proportion) + (proportion / 2),\n",
    "                 x=n - 0.11,\n",
    "                 s=f'{count}\\n({np.round(proportion * 100, 1)}%)', \n",
    "                 color=\"white\")"
   ]
  },
  {
   "cell_type": "code",
   "execution_count": 45,
   "id": "9cf09c63",
   "metadata": {},
   "outputs": [],
   "source": [
    "bar_loyalty2.figure.savefig(os.path.join(path, '04 Analysis', 'Visualizations', 'bar_loyalty_spend.final.png'))"
   ]
  },
  {
   "cell_type": "code",
   "execution_count": 18,
   "id": "94ca2426",
   "metadata": {},
   "outputs": [
    {
     "data": {
      "text/html": [
       "<div>\n",
       "<style scoped>\n",
       "    .dataframe tbody tr th:only-of-type {\n",
       "        vertical-align: middle;\n",
       "    }\n",
       "\n",
       "    .dataframe tbody tr th {\n",
       "        vertical-align: top;\n",
       "    }\n",
       "\n",
       "    .dataframe thead th {\n",
       "        text-align: right;\n",
       "    }\n",
       "</style>\n",
       "<table border=\"1\" class=\"dataframe\">\n",
       "  <thead>\n",
       "    <tr style=\"text-align: right;\">\n",
       "      <th>income_flag</th>\n",
       "      <th>Middle class</th>\n",
       "      <th>low income</th>\n",
       "      <th>upper class</th>\n",
       "    </tr>\n",
       "    <tr>\n",
       "      <th>loyalty_flag</th>\n",
       "      <th></th>\n",
       "      <th></th>\n",
       "      <th></th>\n",
       "    </tr>\n",
       "  </thead>\n",
       "  <tbody>\n",
       "    <tr>\n",
       "      <th>Loyal customer</th>\n",
       "      <td>7861385</td>\n",
       "      <td>1073971</td>\n",
       "      <td>937078</td>\n",
       "    </tr>\n",
       "    <tr>\n",
       "      <th>New customer</th>\n",
       "      <td>4620139</td>\n",
       "      <td>880752</td>\n",
       "      <td>500770</td>\n",
       "    </tr>\n",
       "    <tr>\n",
       "      <th>Regular customer</th>\n",
       "      <td>12092723</td>\n",
       "      <td>1770668</td>\n",
       "      <td>1409290</td>\n",
       "    </tr>\n",
       "  </tbody>\n",
       "</table>\n",
       "</div>"
      ],
      "text/plain": [
       "income_flag       Middle class  low income  upper class\n",
       "loyalty_flag                                           \n",
       "Loyal customer         7861385     1073971       937078\n",
       "New customer           4620139      880752       500770\n",
       "Regular customer      12092723     1770668      1409290"
      ]
     },
     "execution_count": 18,
     "metadata": {},
     "output_type": "execute_result"
    }
   ],
   "source": [
    "#measuring Loyalty_flag by income_flag\n",
    "income_loyalty=pd.crosstab(df_total['loyalty_flag'], df_total['income_flag'])\n",
    "income_loyalty"
   ]
  },
  {
   "cell_type": "markdown",
   "id": "1f56ff7a",
   "metadata": {},
   "source": [
    "# Are there differences in ordering habits based on a customer’s region? "
   ]
  },
  {
   "cell_type": "code",
   "execution_count": 19,
   "id": "0101c5a2",
   "metadata": {},
   "outputs": [
    {
     "data": {
      "text/html": [
       "<div>\n",
       "<style scoped>\n",
       "    .dataframe tbody tr th:only-of-type {\n",
       "        vertical-align: middle;\n",
       "    }\n",
       "\n",
       "    .dataframe tbody tr th {\n",
       "        vertical-align: top;\n",
       "    }\n",
       "\n",
       "    .dataframe thead th {\n",
       "        text-align: right;\n",
       "    }\n",
       "</style>\n",
       "<table border=\"1\" class=\"dataframe\">\n",
       "  <thead>\n",
       "    <tr style=\"text-align: right;\">\n",
       "      <th></th>\n",
       "      <th>user_id</th>\n",
       "    </tr>\n",
       "    <tr>\n",
       "      <th>Region</th>\n",
       "      <th></th>\n",
       "    </tr>\n",
       "  </thead>\n",
       "  <tbody>\n",
       "    <tr>\n",
       "      <th>South</th>\n",
       "      <td>68737</td>\n",
       "    </tr>\n",
       "    <tr>\n",
       "      <th>West</th>\n",
       "      <td>52565</td>\n",
       "    </tr>\n",
       "    <tr>\n",
       "      <th>Midwest</th>\n",
       "      <td>48519</td>\n",
       "    </tr>\n",
       "    <tr>\n",
       "      <th>Northeast</th>\n",
       "      <td>28302</td>\n",
       "    </tr>\n",
       "  </tbody>\n",
       "</table>\n",
       "</div>"
      ],
      "text/plain": [
       "           user_id\n",
       "Region            \n",
       "South        68737\n",
       "West         52565\n",
       "Midwest      48519\n",
       "Northeast    28302"
      ]
     },
     "execution_count": 19,
     "metadata": {},
     "output_type": "execute_result"
    }
   ],
   "source": [
    "# which region has more customers?\n",
    "df_total[['Region', 'user_id']].groupby('Region').agg({'user_id': pd.Series.nunique,}).sort_values(by='user_id',ascending=False)"
   ]
  },
  {
   "cell_type": "code",
   "execution_count": 20,
   "id": "c0f4453a",
   "metadata": {},
   "outputs": [
    {
     "data": {
      "image/png": "[encoded data removed]",
      "text/plain": [
       "<Figure size 432x288 with 1 Axes>"
      ]
     },
     "metadata": {
      "needs_background": "light"
     },
     "output_type": "display_data"
    }
   ],
   "source": [
    "#creating a bar chart based on regional customer counts\n",
    "region_bar=df_total['Region'].value_counts().plot.bar(color='blue')"
   ]
  },
  {
   "cell_type": "code",
   "execution_count": 21,
   "id": "c8876b88",
   "metadata": {},
   "outputs": [],
   "source": [
    "region_bar.figure.savefig(os.path.join(path, '04 Analysis', 'Visualizations', 'region_bar.final.png'))"
   ]
  },
  {
   "cell_type": "code",
   "execution_count": 22,
   "id": "3d31d49e",
   "metadata": {},
   "outputs": [
    {
     "data": {
      "text/html": [
       "<div>\n",
       "<style scoped>\n",
       "    .dataframe tbody tr th:only-of-type {\n",
       "        vertical-align: middle;\n",
       "    }\n",
       "\n",
       "    .dataframe tbody tr th {\n",
       "        vertical-align: top;\n",
       "    }\n",
       "\n",
       "    .dataframe thead th {\n",
       "        text-align: right;\n",
       "    }\n",
       "</style>\n",
       "<table border=\"1\" class=\"dataframe\">\n",
       "  <thead>\n",
       "    <tr style=\"text-align: right;\">\n",
       "      <th></th>\n",
       "      <th>State</th>\n",
       "    </tr>\n",
       "    <tr>\n",
       "      <th>Region</th>\n",
       "      <th></th>\n",
       "    </tr>\n",
       "  </thead>\n",
       "  <tbody>\n",
       "    <tr>\n",
       "      <th>South</th>\n",
       "      <td>17</td>\n",
       "    </tr>\n",
       "    <tr>\n",
       "      <th>West</th>\n",
       "      <td>13</td>\n",
       "    </tr>\n",
       "    <tr>\n",
       "      <th>Midwest</th>\n",
       "      <td>12</td>\n",
       "    </tr>\n",
       "    <tr>\n",
       "      <th>Northeast</th>\n",
       "      <td>7</td>\n",
       "    </tr>\n",
       "  </tbody>\n",
       "</table>\n",
       "</div>"
      ],
      "text/plain": [
       "           State\n",
       "Region          \n",
       "South         17\n",
       "West          13\n",
       "Midwest       12\n",
       "Northeast      7"
      ]
     },
     "execution_count": 22,
     "metadata": {},
     "output_type": "execute_result"
    }
   ],
   "source": [
    "# Please note that the South also has the most states \n",
    "df_total[['Region', 'State']].groupby('Region').agg({'State': pd.Series.nunique,}).sort_values(by='State',\n",
    "                                                                                          ascending=False)"
   ]
  },
  {
   "cell_type": "code",
   "execution_count": 23,
   "id": "4cdca681",
   "metadata": {},
   "outputs": [
    {
     "data": {
      "text/html": [
       "<div>\n",
       "<style scoped>\n",
       "    .dataframe tbody tr th:only-of-type {\n",
       "        vertical-align: middle;\n",
       "    }\n",
       "\n",
       "    .dataframe tbody tr th {\n",
       "        vertical-align: top;\n",
       "    }\n",
       "\n",
       "    .dataframe thead th {\n",
       "        text-align: right;\n",
       "    }\n",
       "</style>\n",
       "<table border=\"1\" class=\"dataframe\">\n",
       "  <thead>\n",
       "    <tr style=\"text-align: right;\">\n",
       "      <th></th>\n",
       "      <th>prices</th>\n",
       "    </tr>\n",
       "    <tr>\n",
       "      <th>Region</th>\n",
       "      <th></th>\n",
       "    </tr>\n",
       "  </thead>\n",
       "  <tbody>\n",
       "    <tr>\n",
       "      <th>South</th>\n",
       "      <td>84107910.4</td>\n",
       "    </tr>\n",
       "    <tr>\n",
       "      <th>West</th>\n",
       "      <td>64595126.7</td>\n",
       "    </tr>\n",
       "    <tr>\n",
       "      <th>Midwest</th>\n",
       "      <td>59192977.7</td>\n",
       "    </tr>\n",
       "    <tr>\n",
       "      <th>Northeast</th>\n",
       "      <td>34734646.7</td>\n",
       "    </tr>\n",
       "  </tbody>\n",
       "</table>\n",
       "</div>"
      ],
      "text/plain": [
       "               prices\n",
       "Region               \n",
       "South      84107910.4\n",
       "West       64595126.7\n",
       "Midwest    59192977.7\n",
       "Northeast  34734646.7"
      ]
     },
     "execution_count": 23,
     "metadata": {},
     "output_type": "execute_result"
    }
   ],
   "source": [
    "# Which region spends the most?\n",
    "df_total[['prices', 'Region']].groupby('Region').agg('sum').sort_values(by ='prices', ascending=False)"
   ]
  },
  {
   "cell_type": "code",
   "execution_count": 24,
   "id": "2dc8315f",
   "metadata": {},
   "outputs": [
    {
     "data": {
      "text/html": [
       "<div>\n",
       "<style scoped>\n",
       "    .dataframe tbody tr th:only-of-type {\n",
       "        vertical-align: middle;\n",
       "    }\n",
       "\n",
       "    .dataframe tbody tr th {\n",
       "        vertical-align: top;\n",
       "    }\n",
       "\n",
       "    .dataframe thead th {\n",
       "        text-align: right;\n",
       "    }\n",
       "</style>\n",
       "<table border=\"1\" class=\"dataframe\">\n",
       "  <thead>\n",
       "    <tr style=\"text-align: right;\">\n",
       "      <th>Spend_flag</th>\n",
       "      <th>High spender</th>\n",
       "      <th>Low spender</th>\n",
       "    </tr>\n",
       "    <tr>\n",
       "      <th>Region</th>\n",
       "      <th></th>\n",
       "      <th></th>\n",
       "    </tr>\n",
       "  </thead>\n",
       "  <tbody>\n",
       "    <tr>\n",
       "      <th>Midwest</th>\n",
       "      <td>155975</td>\n",
       "      <td>7441350</td>\n",
       "    </tr>\n",
       "    <tr>\n",
       "      <th>Northeast</th>\n",
       "      <td>85088</td>\n",
       "      <td>4379565</td>\n",
       "    </tr>\n",
       "    <tr>\n",
       "      <th>South</th>\n",
       "      <td>209691</td>\n",
       "      <td>10582194</td>\n",
       "    </tr>\n",
       "    <tr>\n",
       "      <th>West</th>\n",
       "      <td>160354</td>\n",
       "      <td>8132559</td>\n",
       "    </tr>\n",
       "  </tbody>\n",
       "</table>\n",
       "</div>"
      ],
      "text/plain": [
       "Spend_flag  High spender  Low spender\n",
       "Region                               \n",
       "Midwest           155975      7441350\n",
       "Northeast          85088      4379565\n",
       "South             209691     10582194\n",
       "West              160354      8132559"
      ]
     },
     "execution_count": 24,
     "metadata": {},
     "output_type": "execute_result"
    }
   ],
   "source": [
    "# comparing region vs spend_flag\n",
    "cross = pd.crosstab(df_total['Region'], df_total['Spend_flag'], dropna=False).sort_index()\n",
    "cross"
   ]
  },
  {
   "cell_type": "code",
   "execution_count": 25,
   "id": "ff391a38",
   "metadata": {},
   "outputs": [],
   "source": [
    "#creating a stacked bar chart to measure income between the regions\n",
    "\n",
    "income_region = pd.crosstab(index=df_total['Region'], columns=df_total['income_flag'], normalize=\"index\")"
   ]
  },
  {
   "cell_type": "code",
   "execution_count": 46,
   "id": "48f6390c",
   "metadata": {},
   "outputs": [
    {
     "data": {
      "image/png": "[encoded data removed]",
      "text/plain": [
       "<Figure size 864x720 with 1 Axes>"
      ]
     },
     "metadata": {
      "needs_background": "light"
     },
     "output_type": "display_data"
    }
   ],
   "source": [
    "#creating cross tab to display labels\n",
    "\n",
    "income_region_labels = pd.crosstab(index=df_total['Region'],columns=df_total['income_flag'])\n",
    "#plotting chart\n",
    "income_region_dist=income_region.plot(kind='bar', \n",
    "                        stacked=True, \n",
    "                        color=['#5D8AA8', '#00308F', '#004F98'], \n",
    "                        figsize=(12,10))\n",
    "\n",
    "plt.legend(loc=\"upper center\", ncol=4)\n",
    "plt.ylabel(\"proportion\")\n",
    "plt.xlabel(\"region\")\n",
    "\n",
    "\n",
    "for n, y in enumerate([*income_region_labels.index.values]):\n",
    "    for (proportion, count, x_loc) in zip(income_region.loc[y],\n",
    "                                         income_region_labels.loc[y],\n",
    "                                          income_region.loc[y].cumsum()):\n",
    "                \n",
    "        plt.text(y=(x_loc - proportion) + (proportion / 2),\n",
    "                 x=n - 0.11,\n",
    "                 s=f'{count}\\n({np.round(proportion * 100, 1)}%)', \n",
    "                 color=\"white\",\n",
    "                 fontsize=12)\n",
    "\n",
    "plt.show()"
   ]
  },
  {
   "cell_type": "code",
   "execution_count": 47,
   "id": "f3b36654",
   "metadata": {},
   "outputs": [],
   "source": [
    "income_region_dist.figure.savefig(os.path.join(path, '04 Analysis', 'Visualizations', 'income_region_distincome.final.png'))"
   ]
  },
  {
   "cell_type": "code",
   "execution_count": 28,
   "id": "89ada73a",
   "metadata": {},
   "outputs": [
    {
     "data": {
      "text/html": [
       "<div>\n",
       "<style scoped>\n",
       "    .dataframe tbody tr th:only-of-type {\n",
       "        vertical-align: middle;\n",
       "    }\n",
       "\n",
       "    .dataframe tbody tr th {\n",
       "        vertical-align: top;\n",
       "    }\n",
       "\n",
       "    .dataframe thead th {\n",
       "        text-align: right;\n",
       "    }\n",
       "</style>\n",
       "<table border=\"1\" class=\"dataframe\">\n",
       "  <thead>\n",
       "    <tr style=\"text-align: right;\">\n",
       "      <th>Order_frequency_flag</th>\n",
       "      <th>Frequent cust</th>\n",
       "      <th>Non-frequent cust</th>\n",
       "      <th>Regular cust</th>\n",
       "    </tr>\n",
       "    <tr>\n",
       "      <th>Region</th>\n",
       "      <th></th>\n",
       "      <th></th>\n",
       "      <th></th>\n",
       "    </tr>\n",
       "  </thead>\n",
       "  <tbody>\n",
       "    <tr>\n",
       "      <th>Midwest</th>\n",
       "      <td>5017709</td>\n",
       "      <td>863419</td>\n",
       "      <td>1716197</td>\n",
       "    </tr>\n",
       "    <tr>\n",
       "      <th>Northeast</th>\n",
       "      <td>2970065</td>\n",
       "      <td>491986</td>\n",
       "      <td>1002602</td>\n",
       "    </tr>\n",
       "    <tr>\n",
       "      <th>South</th>\n",
       "      <td>7192372</td>\n",
       "      <td>1215088</td>\n",
       "      <td>2384420</td>\n",
       "    </tr>\n",
       "    <tr>\n",
       "      <th>West</th>\n",
       "      <td>5545206</td>\n",
       "      <td>927748</td>\n",
       "      <td>1819959</td>\n",
       "    </tr>\n",
       "  </tbody>\n",
       "</table>\n",
       "</div>"
      ],
      "text/plain": [
       "Order_frequency_flag  Frequent cust  Non-frequent cust  Regular cust\n",
       "Region                                                              \n",
       "Midwest                     5017709             863419       1716197\n",
       "Northeast                   2970065             491986       1002602\n",
       "South                       7192372            1215088       2384420\n",
       "West                        5545206             927748       1819959"
      ]
     },
     "execution_count": 28,
     "metadata": {},
     "output_type": "execute_result"
    }
   ],
   "source": [
    "# measuring order frequency by region\n",
    "cross2 = pd.crosstab(df_total['Region'], df_total['Order_frequency_flag'], dropna=False).sort_index()\n",
    "cross2"
   ]
  },
  {
   "cell_type": "code",
   "execution_count": 29,
   "id": "eacbb549",
   "metadata": {},
   "outputs": [
    {
     "data": {
      "text/html": [
       "<div>\n",
       "<style scoped>\n",
       "    .dataframe tbody tr th:only-of-type {\n",
       "        vertical-align: middle;\n",
       "    }\n",
       "\n",
       "    .dataframe tbody tr th {\n",
       "        vertical-align: top;\n",
       "    }\n",
       "\n",
       "    .dataframe thead th {\n",
       "        text-align: right;\n",
       "    }\n",
       "</style>\n",
       "<table border=\"1\" class=\"dataframe\">\n",
       "  <thead>\n",
       "    <tr style=\"text-align: right;\">\n",
       "      <th>loyalty_flag</th>\n",
       "      <th>Loyal customer</th>\n",
       "      <th>New customer</th>\n",
       "      <th>Regular customer</th>\n",
       "    </tr>\n",
       "    <tr>\n",
       "      <th>Region</th>\n",
       "      <th></th>\n",
       "      <th></th>\n",
       "      <th></th>\n",
       "    </tr>\n",
       "  </thead>\n",
       "  <tbody>\n",
       "    <tr>\n",
       "      <th>Midwest</th>\n",
       "      <td>2373774</td>\n",
       "      <td>1472573</td>\n",
       "      <td>3750978</td>\n",
       "    </tr>\n",
       "    <tr>\n",
       "      <th>Northeast</th>\n",
       "      <td>1430126</td>\n",
       "      <td>857878</td>\n",
       "      <td>2176649</td>\n",
       "    </tr>\n",
       "    <tr>\n",
       "      <th>South</th>\n",
       "      <td>3405844</td>\n",
       "      <td>2074410</td>\n",
       "      <td>5311631</td>\n",
       "    </tr>\n",
       "    <tr>\n",
       "      <th>West</th>\n",
       "      <td>2662690</td>\n",
       "      <td>1596800</td>\n",
       "      <td>4033423</td>\n",
       "    </tr>\n",
       "  </tbody>\n",
       "</table>\n",
       "</div>"
      ],
      "text/plain": [
       "loyalty_flag  Loyal customer  New customer  Regular customer\n",
       "Region                                                      \n",
       "Midwest              2373774       1472573           3750978\n",
       "Northeast            1430126        857878           2176649\n",
       "South                3405844       2074410           5311631\n",
       "West                 2662690       1596800           4033423"
      ]
     },
     "execution_count": 29,
     "metadata": {},
     "output_type": "execute_result"
    }
   ],
   "source": [
    "# measuring customer loyalty by region\n",
    "cross3 = pd.crosstab(df_total['Region'], df_total['loyalty_flag'], dropna=False).sort_index()\n",
    "cross3"
   ]
  },
  {
   "cell_type": "markdown",
   "id": "ccaa1770",
   "metadata": {},
   "source": [
    "# Is there a connection between age and family status in terms of ordering habits?"
   ]
  },
  {
   "cell_type": "code",
   "execution_count": 48,
   "id": "73944f19",
   "metadata": {},
   "outputs": [
    {
     "data": {
      "image/png": "[encoded data removed]",
      "text/plain": [
       "<Figure size 432x288 with 1 Axes>"
      ]
     },
     "metadata": {
      "needs_background": "light"
     },
     "output_type": "display_data"
    }
   ],
   "source": [
    "# creating a stacked bar chart to measure age vs income\n",
    "bar_age_income=df_total.groupby('age_group')['income_flag'].value_counts().unstack().plot.bar(stacked=True,\n",
    "                                                    ylabel='counts',color=['#5D8AA8', '#00308F', '#004F98'])"
   ]
  },
  {
   "cell_type": "code",
   "execution_count": 49,
   "id": "f172a6b0",
   "metadata": {},
   "outputs": [],
   "source": [
    "bar_age_income.figure.savefig(os.path.join(path, '04 Analysis', 'Visualizations', 'bar_age_income.final.png'))"
   ]
  },
  {
   "cell_type": "code",
   "execution_count": 32,
   "id": "b7953427",
   "metadata": {},
   "outputs": [
    {
     "data": {
      "image/png": "[encoded data removed]",
      "text/plain": [
       "<Figure size 432x288 with 1 Axes>"
      ]
     },
     "metadata": {
      "needs_background": "light"
     },
     "output_type": "display_data"
    }
   ],
   "source": [
    "#bar chart measuring marital status\n",
    "bar_marital=df_total['Marital status'].value_counts().sort_values().plot.barh(color='blue')"
   ]
  },
  {
   "cell_type": "code",
   "execution_count": 33,
   "id": "b8e67988",
   "metadata": {},
   "outputs": [],
   "source": [
    "bar_marital.figure.savefig(os.path.join(path, '04 Analysis', 'Visualizations', 'bar_marital.final.png'))"
   ]
  },
  {
   "cell_type": "code",
   "execution_count": 34,
   "id": "864b4331",
   "metadata": {},
   "outputs": [
    {
     "data": {
      "image/png": "[encoded data removed]",
      "text/plain": [
       "<Figure size 432x288 with 1 Axes>"
      ]
     },
     "metadata": {
      "needs_background": "light"
     },
     "output_type": "display_data"
    }
   ],
   "source": [
    "#bar chart measuring number of dependents\n",
    "bar_dependent=df_total['dependent_flag'].value_counts().sort_values().plot.bar(color='blue')"
   ]
  },
  {
   "cell_type": "code",
   "execution_count": 35,
   "id": "66c4b091",
   "metadata": {},
   "outputs": [],
   "source": [
    "bar_dependent.figure.savefig(os.path.join(path, '04 Analysis', 'Visualizations', 'bar_dependent.png'))"
   ]
  },
  {
   "cell_type": "code",
   "execution_count": 36,
   "id": "5bc11622",
   "metadata": {},
   "outputs": [
    {
     "data": {
      "text/html": [
       "<div>\n",
       "<style scoped>\n",
       "    .dataframe tbody tr th:only-of-type {\n",
       "        vertical-align: middle;\n",
       "    }\n",
       "\n",
       "    .dataframe tbody tr th {\n",
       "        vertical-align: top;\n",
       "    }\n",
       "\n",
       "    .dataframe thead th {\n",
       "        text-align: right;\n",
       "    }\n",
       "</style>\n",
       "<table border=\"1\" class=\"dataframe\">\n",
       "  <thead>\n",
       "    <tr style=\"text-align: right;\">\n",
       "      <th>age_group</th>\n",
       "      <th>Young adult</th>\n",
       "      <th>Adult</th>\n",
       "      <th>Senior</th>\n",
       "    </tr>\n",
       "    <tr>\n",
       "      <th>order_hour_of_day</th>\n",
       "      <th></th>\n",
       "      <th></th>\n",
       "      <th></th>\n",
       "    </tr>\n",
       "  </thead>\n",
       "  <tbody>\n",
       "    <tr>\n",
       "      <th>0</th>\n",
       "      <td>24153</td>\n",
       "      <td>131898</td>\n",
       "      <td>54128</td>\n",
       "    </tr>\n",
       "    <tr>\n",
       "      <th>1</th>\n",
       "      <td>13145</td>\n",
       "      <td>69259</td>\n",
       "      <td>28631</td>\n",
       "    </tr>\n",
       "    <tr>\n",
       "      <th>2</th>\n",
       "      <td>8371</td>\n",
       "      <td>40895</td>\n",
       "      <td>17517</td>\n",
       "    </tr>\n",
       "    <tr>\n",
       "      <th>3</th>\n",
       "      <td>5399</td>\n",
       "      <td>30596</td>\n",
       "      <td>13322</td>\n",
       "    </tr>\n",
       "    <tr>\n",
       "      <th>4</th>\n",
       "      <td>6419</td>\n",
       "      <td>31189</td>\n",
       "      <td>13706</td>\n",
       "    </tr>\n",
       "    <tr>\n",
       "      <th>5</th>\n",
       "      <td>10041</td>\n",
       "      <td>51515</td>\n",
       "      <td>23015</td>\n",
       "    </tr>\n",
       "    <tr>\n",
       "      <th>6</th>\n",
       "      <td>33843</td>\n",
       "      <td>170783</td>\n",
       "      <td>74337</td>\n",
       "    </tr>\n",
       "    <tr>\n",
       "      <th>7</th>\n",
       "      <td>94331</td>\n",
       "      <td>531170</td>\n",
       "      <td>229281</td>\n",
       "    </tr>\n",
       "    <tr>\n",
       "      <th>8</th>\n",
       "      <td>180267</td>\n",
       "      <td>1033375</td>\n",
       "      <td>437219</td>\n",
       "    </tr>\n",
       "    <tr>\n",
       "      <th>9</th>\n",
       "      <td>257487</td>\n",
       "      <td>1476683</td>\n",
       "      <td>624532</td>\n",
       "    </tr>\n",
       "    <tr>\n",
       "      <th>10</th>\n",
       "      <td>292224</td>\n",
       "      <td>1662154</td>\n",
       "      <td>701267</td>\n",
       "    </tr>\n",
       "    <tr>\n",
       "      <th>11</th>\n",
       "      <td>294370</td>\n",
       "      <td>1643365</td>\n",
       "      <td>691012</td>\n",
       "    </tr>\n",
       "    <tr>\n",
       "      <th>12</th>\n",
       "      <td>276115</td>\n",
       "      <td>1575749</td>\n",
       "      <td>665551</td>\n",
       "    </tr>\n",
       "    <tr>\n",
       "      <th>13</th>\n",
       "      <td>281989</td>\n",
       "      <td>1601932</td>\n",
       "      <td>673644</td>\n",
       "    </tr>\n",
       "    <tr>\n",
       "      <th>14</th>\n",
       "      <td>284878</td>\n",
       "      <td>1612747</td>\n",
       "      <td>687026</td>\n",
       "    </tr>\n",
       "    <tr>\n",
       "      <th>15</th>\n",
       "      <td>283678</td>\n",
       "      <td>1607712</td>\n",
       "      <td>668782</td>\n",
       "    </tr>\n",
       "    <tr>\n",
       "      <th>16</th>\n",
       "      <td>271343</td>\n",
       "      <td>1525422</td>\n",
       "      <td>642866</td>\n",
       "    </tr>\n",
       "    <tr>\n",
       "      <th>17</th>\n",
       "      <td>222537</td>\n",
       "      <td>1254008</td>\n",
       "      <td>531206</td>\n",
       "    </tr>\n",
       "    <tr>\n",
       "      <th>18</th>\n",
       "      <td>171591</td>\n",
       "      <td>981299</td>\n",
       "      <td>419557</td>\n",
       "    </tr>\n",
       "    <tr>\n",
       "      <th>19</th>\n",
       "      <td>132828</td>\n",
       "      <td>753917</td>\n",
       "      <td>323441</td>\n",
       "    </tr>\n",
       "    <tr>\n",
       "      <th>20</th>\n",
       "      <td>103391</td>\n",
       "      <td>586760</td>\n",
       "      <td>248022</td>\n",
       "    </tr>\n",
       "    <tr>\n",
       "      <th>21</th>\n",
       "      <td>83149</td>\n",
       "      <td>476131</td>\n",
       "      <td>205117</td>\n",
       "    </tr>\n",
       "    <tr>\n",
       "      <th>22</th>\n",
       "      <td>65502</td>\n",
       "      <td>381478</td>\n",
       "      <td>160775</td>\n",
       "    </tr>\n",
       "    <tr>\n",
       "      <th>23</th>\n",
       "      <td>41458</td>\n",
       "      <td>242246</td>\n",
       "      <td>102030</td>\n",
       "    </tr>\n",
       "  </tbody>\n",
       "</table>\n",
       "</div>"
      ],
      "text/plain": [
       "age_group          Young adult    Adult  Senior\n",
       "order_hour_of_day                              \n",
       "0                        24153   131898   54128\n",
       "1                        13145    69259   28631\n",
       "2                         8371    40895   17517\n",
       "3                         5399    30596   13322\n",
       "4                         6419    31189   13706\n",
       "5                        10041    51515   23015\n",
       "6                        33843   170783   74337\n",
       "7                        94331   531170  229281\n",
       "8                       180267  1033375  437219\n",
       "9                       257487  1476683  624532\n",
       "10                      292224  1662154  701267\n",
       "11                      294370  1643365  691012\n",
       "12                      276115  1575749  665551\n",
       "13                      281989  1601932  673644\n",
       "14                      284878  1612747  687026\n",
       "15                      283678  1607712  668782\n",
       "16                      271343  1525422  642866\n",
       "17                      222537  1254008  531206\n",
       "18                      171591   981299  419557\n",
       "19                      132828   753917  323441\n",
       "20                      103391   586760  248022\n",
       "21                       83149   476131  205117\n",
       "22                       65502   381478  160775\n",
       "23                       41458   242246  102030"
      ]
     },
     "execution_count": 36,
     "metadata": {},
     "output_type": "execute_result"
    }
   ],
   "source": [
    "#chart measuring which type age of customers shop when\n",
    "age_order_time=pd.crosstab(df_total['order_hour_of_day'], df_total['age_group'])\n",
    "age_order_time=age_order_time.reindex(['Young adult', 'Adult', 'Senior'], axis=\"columns\")\n",
    "age_order_time"
   ]
  },
  {
   "cell_type": "code",
   "execution_count": 37,
   "id": "64effe2c",
   "metadata": {},
   "outputs": [
    {
     "data": {
      "text/plain": [
       "<matplotlib.legend.Legend at 0x23918ca6280>"
      ]
     },
     "execution_count": 37,
     "metadata": {},
     "output_type": "execute_result"
    },
    {
     "data": {
      "image/png": "[encoded data removed]",
      "text/plain": [
       "<Figure size 432x288 with 1 Axes>"
      ]
     },
     "metadata": {
      "needs_background": "light"
     },
     "output_type": "display_data"
    }
   ],
   "source": [
    "#Line chart measyring of orders by age groups\n",
    "line_age_order_time=age_order_time.plot(kind='line', color=['#5D8AA8', '#00308F', '#004F98'])\n",
    "plt.title('When do age_groups buy? ')\n",
    "plt.xlabel('Order hour')\n",
    "plt.ylabel('Number of orders')\n",
    "plt.legend()"
   ]
  },
  {
   "cell_type": "code",
   "execution_count": 38,
   "id": "de28c443",
   "metadata": {},
   "outputs": [],
   "source": [
    "line_age_order_time.figure.savefig(os.path.join(path, '04 Analysis', 'Visualizations', 'line_age_order_time.png'))"
   ]
  },
  {
   "cell_type": "code",
   "execution_count": 39,
   "id": "436aacfc",
   "metadata": {},
   "outputs": [
    {
     "data": {
      "text/plain": [
       "<matplotlib.legend.Legend at 0x23919169e50>"
      ]
     },
     "execution_count": 39,
     "metadata": {},
     "output_type": "execute_result"
    },
    {
     "data": {
      "image/png": "[encoded data removed]",
      "text/plain": [
       "<Figure size 432x288 with 1 Axes>"
      ]
     },
     "metadata": {
      "needs_background": "light"
     },
     "output_type": "display_data"
    }
   ],
   "source": [
    "#Line chart measuring the number of orders during a certain day for eage age group\n",
    "age_order_day=pd.crosstab(df_total['Order_day_of_week'], df_total['age_group'])\n",
    "age_order_day=age_order_day.reindex(['Young adult', 'Adult', 'Senior'], axis=\"columns\")\n",
    "age_order_day\n",
    "\n",
    "line_age_order_day=age_order_day.plot(kind='line', color=['#5D8AA8', '#00308F', '#004F98'])\n",
    "plt.title('Distribution of orders by day of the week across age groups ')\n",
    "plt.xlabel('Order day')\n",
    "plt.ylabel('Number of orders')\n",
    "plt.legend()"
   ]
  },
  {
   "cell_type": "code",
   "execution_count": 40,
   "id": "ddd0bbf7",
   "metadata": {},
   "outputs": [],
   "source": [
    "line_age_order_day.figure.savefig(os.path.join(path, '04 Analysis', 'Visualizations', 'line_age_order_day.png'))"
   ]
  },
  {
   "cell_type": "code",
   "execution_count": null,
   "id": "fbef78b0",
   "metadata": {},
   "outputs": [],
   "source": []
  }
 ],
 "metadata": {
  "kernelspec": {
   "display_name": "Python 3 (ipykernel)",
   "language": "python",
   "name": "python3"
  },
  "language_info": {
   "codemirror_mode": {
    "name": "ipython",
    "version": 3
   },
   "file_extension": ".py",
   "mimetype": "text/x-python",
   "name": "python",
   "nbconvert_exporter": "python",
   "pygments_lexer": "ipython3",
   "version": "3.9.12"
  }
 },
 "nbformat": 4,
 "nbformat_minor": 5
}
