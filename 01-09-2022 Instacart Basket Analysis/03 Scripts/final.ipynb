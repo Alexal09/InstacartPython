{
 "cells": [
  {
   "cell_type": "markdown",
   "id": "fd63f5b1",
   "metadata": {},
   "source": [
    "# Table of contents\n",
    "\n",
    "- Importing libraries\n",
    "- Question 2: security implications\n",
    "- Questions 3: \n",
    "    - a. Regional data segmentations\n",
    "    - b. Establishing the spending habits between regions\n",
    "- Question 4: eliminating low spenders\n",
    "- Questions 5,7,8: \n",
    "    - creating customer profiles based on: age, income, marital status and dependents\n",
    "    - aggregate mean, max, min to customer profiles\n",
    "    - Compare your customer profiles with regions and departments. "
   ]
  },
  {
   "cell_type": "code",
   "execution_count": 1,
   "id": "2fb9bbcd",
   "metadata": {},
   "outputs": [],
   "source": [
    "#Import Libraries\n",
    "import pandas as pd\n",
    "import numpy as np\n",
    "import os\n",
    "import matplotlib.pyplot as plt\n",
    "import seaborn as sns\n",
    "import scipy"
   ]
  },
  {
   "cell_type": "code",
   "execution_count": 2,
   "id": "1799c0eb",
   "metadata": {},
   "outputs": [],
   "source": [
    "path = r'C:\\Users\\alexa\\OneDrive\\Documents\\data analytics\\Achievement 4\\01-09-2022 Instacart Basket Analysis'"
   ]
  },
  {
   "cell_type": "code",
   "execution_count": 3,
   "id": "c51f7d17",
   "metadata": {},
   "outputs": [],
   "source": [
    "df_total = pd.read_pickle(os.path.join(path, '02 Data', 'Prepared Data', 'orders_products_cust_combined.pkl'))"
   ]
  },
  {
   "cell_type": "markdown",
   "id": "1ce26816",
   "metadata": {},
   "source": [
    "# Question 2: security implications\n",
    "in this data set we find, cust name, state, age, number of dependents, marital status and income. These present security risks. If we remove the customer name. They will no longer be identifiable."
   ]
  },
  {
   "cell_type": "code",
   "execution_count": 4,
   "id": "d06abcd7",
   "metadata": {},
   "outputs": [],
   "source": [
    "#remove names from dataframe\n",
    "df_total.drop(['First Name', 'Last Name'],inplace=True, axis=1)"
   ]
  },
  {
   "cell_type": "markdown",
   "id": "56a2e841",
   "metadata": {},
   "source": [
    "# Question 3: Regional data segmentation"
   ]
  },
  {
   "cell_type": "code",
   "execution_count": 5,
   "id": "e2cbe163",
   "metadata": {},
   "outputs": [],
   "source": [
    "#join region dataframe to this set\n",
    "df_regions = pd.read_csv(os.path.join(path, '02 Data', 'Original Data', 'regions.csv'), index_col = False)"
   ]
  },
  {
   "cell_type": "code",
   "execution_count": 6,
   "id": "42e7ab0e",
   "metadata": {},
   "outputs": [],
   "source": [
    "df_merged = df_total.merge(df_regions, on = 'State')"
   ]
  },
  {
   "cell_type": "code",
   "execution_count": 7,
   "id": "579deebd",
   "metadata": {},
   "outputs": [
    {
     "data": {
      "text/html": [
       "<div>\n",
       "<style scoped>\n",
       "    .dataframe tbody tr th:only-of-type {\n",
       "        vertical-align: middle;\n",
       "    }\n",
       "\n",
       "    .dataframe tbody tr th {\n",
       "        vertical-align: top;\n",
       "    }\n",
       "\n",
       "    .dataframe thead th {\n",
       "        text-align: right;\n",
       "    }\n",
       "</style>\n",
       "<table border=\"1\" class=\"dataframe\">\n",
       "  <thead>\n",
       "    <tr style=\"text-align: right;\">\n",
       "      <th></th>\n",
       "      <th>order_id</th>\n",
       "      <th>user_id</th>\n",
       "      <th>order_number</th>\n",
       "      <th>Order_day_of_week</th>\n",
       "      <th>order_hour_of_day</th>\n",
       "      <th>Days since last order</th>\n",
       "      <th>New customer</th>\n",
       "      <th>product_id</th>\n",
       "      <th>add_to_cart_order</th>\n",
       "      <th>reordered</th>\n",
       "      <th>...</th>\n",
       "      <th>Median_since_last_ordered</th>\n",
       "      <th>Order_frequency_flag</th>\n",
       "      <th>Gender</th>\n",
       "      <th>State</th>\n",
       "      <th>Age</th>\n",
       "      <th>Date joined</th>\n",
       "      <th>No of dependents</th>\n",
       "      <th>Marital status</th>\n",
       "      <th>income</th>\n",
       "      <th>Region</th>\n",
       "    </tr>\n",
       "  </thead>\n",
       "  <tbody>\n",
       "    <tr>\n",
       "      <th>0</th>\n",
       "      <td>2539329</td>\n",
       "      <td>1</td>\n",
       "      <td>1</td>\n",
       "      <td>2</td>\n",
       "      <td>8</td>\n",
       "      <td>NaN</td>\n",
       "      <td>True</td>\n",
       "      <td>196.0</td>\n",
       "      <td>1.0</td>\n",
       "      <td>0.0</td>\n",
       "      <td>...</td>\n",
       "      <td>20.5</td>\n",
       "      <td>Non-frequent cust</td>\n",
       "      <td>Female</td>\n",
       "      <td>Alabama</td>\n",
       "      <td>31</td>\n",
       "      <td>2/17/2019</td>\n",
       "      <td>3</td>\n",
       "      <td>married</td>\n",
       "      <td>40423</td>\n",
       "      <td>South</td>\n",
       "    </tr>\n",
       "    <tr>\n",
       "      <th>1</th>\n",
       "      <td>2398795</td>\n",
       "      <td>1</td>\n",
       "      <td>2</td>\n",
       "      <td>3</td>\n",
       "      <td>7</td>\n",
       "      <td>15.0</td>\n",
       "      <td>False</td>\n",
       "      <td>196.0</td>\n",
       "      <td>1.0</td>\n",
       "      <td>1.0</td>\n",
       "      <td>...</td>\n",
       "      <td>20.5</td>\n",
       "      <td>Non-frequent cust</td>\n",
       "      <td>Female</td>\n",
       "      <td>Alabama</td>\n",
       "      <td>31</td>\n",
       "      <td>2/17/2019</td>\n",
       "      <td>3</td>\n",
       "      <td>married</td>\n",
       "      <td>40423</td>\n",
       "      <td>South</td>\n",
       "    </tr>\n",
       "    <tr>\n",
       "      <th>2</th>\n",
       "      <td>473747</td>\n",
       "      <td>1</td>\n",
       "      <td>3</td>\n",
       "      <td>3</td>\n",
       "      <td>12</td>\n",
       "      <td>21.0</td>\n",
       "      <td>False</td>\n",
       "      <td>196.0</td>\n",
       "      <td>1.0</td>\n",
       "      <td>1.0</td>\n",
       "      <td>...</td>\n",
       "      <td>20.5</td>\n",
       "      <td>Non-frequent cust</td>\n",
       "      <td>Female</td>\n",
       "      <td>Alabama</td>\n",
       "      <td>31</td>\n",
       "      <td>2/17/2019</td>\n",
       "      <td>3</td>\n",
       "      <td>married</td>\n",
       "      <td>40423</td>\n",
       "      <td>South</td>\n",
       "    </tr>\n",
       "    <tr>\n",
       "      <th>3</th>\n",
       "      <td>2254736</td>\n",
       "      <td>1</td>\n",
       "      <td>4</td>\n",
       "      <td>4</td>\n",
       "      <td>7</td>\n",
       "      <td>29.0</td>\n",
       "      <td>False</td>\n",
       "      <td>196.0</td>\n",
       "      <td>1.0</td>\n",
       "      <td>1.0</td>\n",
       "      <td>...</td>\n",
       "      <td>20.5</td>\n",
       "      <td>Non-frequent cust</td>\n",
       "      <td>Female</td>\n",
       "      <td>Alabama</td>\n",
       "      <td>31</td>\n",
       "      <td>2/17/2019</td>\n",
       "      <td>3</td>\n",
       "      <td>married</td>\n",
       "      <td>40423</td>\n",
       "      <td>South</td>\n",
       "    </tr>\n",
       "    <tr>\n",
       "      <th>4</th>\n",
       "      <td>431534</td>\n",
       "      <td>1</td>\n",
       "      <td>5</td>\n",
       "      <td>4</td>\n",
       "      <td>15</td>\n",
       "      <td>28.0</td>\n",
       "      <td>False</td>\n",
       "      <td>196.0</td>\n",
       "      <td>1.0</td>\n",
       "      <td>1.0</td>\n",
       "      <td>...</td>\n",
       "      <td>20.5</td>\n",
       "      <td>Non-frequent cust</td>\n",
       "      <td>Female</td>\n",
       "      <td>Alabama</td>\n",
       "      <td>31</td>\n",
       "      <td>2/17/2019</td>\n",
       "      <td>3</td>\n",
       "      <td>married</td>\n",
       "      <td>40423</td>\n",
       "      <td>South</td>\n",
       "    </tr>\n",
       "  </tbody>\n",
       "</table>\n",
       "<p>5 rows × 33 columns</p>\n",
       "</div>"
      ],
      "text/plain": [
       "   order_id  user_id  order_number  Order_day_of_week  order_hour_of_day  \\\n",
       "0   2539329        1             1                  2                  8   \n",
       "1   2398795        1             2                  3                  7   \n",
       "2    473747        1             3                  3                 12   \n",
       "3   2254736        1             4                  4                  7   \n",
       "4    431534        1             5                  4                 15   \n",
       "\n",
       "   Days since last order  New customer  product_id  add_to_cart_order  \\\n",
       "0                    NaN          True       196.0                1.0   \n",
       "1                   15.0         False       196.0                1.0   \n",
       "2                   21.0         False       196.0                1.0   \n",
       "3                   29.0         False       196.0                1.0   \n",
       "4                   28.0         False       196.0                1.0   \n",
       "\n",
       "   reordered  ... Median_since_last_ordered  Order_frequency_flag  Gender  \\\n",
       "0        0.0  ...                      20.5     Non-frequent cust  Female   \n",
       "1        1.0  ...                      20.5     Non-frequent cust  Female   \n",
       "2        1.0  ...                      20.5     Non-frequent cust  Female   \n",
       "3        1.0  ...                      20.5     Non-frequent cust  Female   \n",
       "4        1.0  ...                      20.5     Non-frequent cust  Female   \n",
       "\n",
       "     State Age Date joined No of dependents Marital status income  Region  \n",
       "0  Alabama  31   2/17/2019                3        married  40423   South  \n",
       "1  Alabama  31   2/17/2019                3        married  40423   South  \n",
       "2  Alabama  31   2/17/2019                3        married  40423   South  \n",
       "3  Alabama  31   2/17/2019                3        married  40423   South  \n",
       "4  Alabama  31   2/17/2019                3        married  40423   South  \n",
       "\n",
       "[5 rows x 33 columns]"
      ]
     },
     "execution_count": 7,
     "metadata": {},
     "output_type": "execute_result"
    }
   ],
   "source": [
    "df_merged.head()"
   ]
  },
  {
   "cell_type": "code",
   "execution_count": 8,
   "id": "2c0359c6",
   "metadata": {},
   "outputs": [
    {
     "data": {
      "text/plain": [
       "South        10791885\n",
       "West          8292913\n",
       "Midwest       7597325\n",
       "Northeast     4464653\n",
       "Name: Region, dtype: int64"
      ]
     },
     "execution_count": 8,
     "metadata": {},
     "output_type": "execute_result"
    }
   ],
   "source": [
    "df_merged['Region'].value_counts()"
   ]
  },
  {
   "cell_type": "code",
   "execution_count": 9,
   "id": "5406dd0e",
   "metadata": {},
   "outputs": [
    {
     "data": {
      "image/png": "[encoded data removed]",
      "text/plain": [
       "<Figure size 432x288 with 1 Axes>"
      ]
     },
     "metadata": {
      "needs_background": "light"
     },
     "output_type": "display_data"
    }
   ],
   "source": [
    "#create bar chart\n",
    "bar_region=df_merged['Region'].value_counts(dropna=False).sort_values(ascending=True).plot.bar(color=['blue'])"
   ]
  },
  {
   "cell_type": "code",
   "execution_count": 10,
   "id": "39cc98f4",
   "metadata": {},
   "outputs": [],
   "source": [
    "bar_region.figure.savefig(os.path.join(path, '04 Analysis', 'Visualizations', 'bar_region.final.png'))"
   ]
  },
  {
   "cell_type": "markdown",
   "id": "51dc07fa",
   "metadata": {},
   "source": [
    "# Question 3b: establishing the spending habits between regions"
   ]
  },
  {
   "cell_type": "code",
   "execution_count": 11,
   "id": "9592aaa3",
   "metadata": {},
   "outputs": [
    {
     "data": {
      "text/plain": [
       "Index(['order_id', 'user_id', 'order_number', 'Order_day_of_week',\n",
       "       'order_hour_of_day', 'Days since last order', 'New customer',\n",
       "       'product_id', 'add_to_cart_order', 'reordered', 'product_name',\n",
       "       'aisle_id', 'department_id', 'prices', '_merge', 'price_range_loc',\n",
       "       'Busiest day', '2 busy/slow days', 'busiest_period_of_day', 'max order',\n",
       "       'loyalty_flag', 'Mean_price', 'Spend_flag', 'Median_since_last_ordered',\n",
       "       'Order_frequency_flag', 'Gender', 'State', 'Age', 'Date joined',\n",
       "       'No of dependents', 'Marital status', 'income', 'Region'],\n",
       "      dtype='object')"
      ]
     },
     "execution_count": 11,
     "metadata": {},
     "output_type": "execute_result"
    }
   ],
   "source": [
    "#looking at all columns within dataframe\n",
    "df_merged.columns"
   ]
  },
  {
   "cell_type": "code",
   "execution_count": 12,
   "id": "342685a0",
   "metadata": {},
   "outputs": [],
   "source": [
    "#removing prices above 100$\n",
    "df_merged.loc[df_merged['prices'] >100, 'prices'] = np.nan"
   ]
  },
  {
   "cell_type": "code",
   "execution_count": 13,
   "id": "c3e1d8f4",
   "metadata": {},
   "outputs": [
    {
     "data": {
      "text/html": [
       "<div>\n",
       "<style scoped>\n",
       "    .dataframe tbody tr th:only-of-type {\n",
       "        vertical-align: middle;\n",
       "    }\n",
       "\n",
       "    .dataframe tbody tr th {\n",
       "        vertical-align: top;\n",
       "    }\n",
       "\n",
       "    .dataframe thead tr th {\n",
       "        text-align: left;\n",
       "    }\n",
       "\n",
       "    .dataframe thead tr:last-of-type th {\n",
       "        text-align: right;\n",
       "    }\n",
       "</style>\n",
       "<table border=\"1\" class=\"dataframe\">\n",
       "  <thead>\n",
       "    <tr>\n",
       "      <th></th>\n",
       "      <th colspan=\"3\" halign=\"left\">prices</th>\n",
       "    </tr>\n",
       "    <tr>\n",
       "      <th></th>\n",
       "      <th>mean</th>\n",
       "      <th>min</th>\n",
       "      <th>max</th>\n",
       "    </tr>\n",
       "    <tr>\n",
       "      <th>Region</th>\n",
       "      <th></th>\n",
       "      <th></th>\n",
       "      <th></th>\n",
       "    </tr>\n",
       "  </thead>\n",
       "  <tbody>\n",
       "    <tr>\n",
       "      <th>Midwest</th>\n",
       "      <td>7.792584</td>\n",
       "      <td>1.0</td>\n",
       "      <td>25.0</td>\n",
       "    </tr>\n",
       "    <tr>\n",
       "      <th>Northeast</th>\n",
       "      <td>7.781106</td>\n",
       "      <td>1.0</td>\n",
       "      <td>25.0</td>\n",
       "    </tr>\n",
       "    <tr>\n",
       "      <th>South</th>\n",
       "      <td>7.794918</td>\n",
       "      <td>1.0</td>\n",
       "      <td>25.0</td>\n",
       "    </tr>\n",
       "    <tr>\n",
       "      <th>West</th>\n",
       "      <td>7.790355</td>\n",
       "      <td>1.0</td>\n",
       "      <td>25.0</td>\n",
       "    </tr>\n",
       "  </tbody>\n",
       "</table>\n",
       "</div>"
      ],
      "text/plain": [
       "             prices           \n",
       "               mean  min   max\n",
       "Region                        \n",
       "Midwest    7.792584  1.0  25.0\n",
       "Northeast  7.781106  1.0  25.0\n",
       "South      7.794918  1.0  25.0\n",
       "West       7.790355  1.0  25.0"
      ]
     },
     "execution_count": 13,
     "metadata": {},
     "output_type": "execute_result"
    }
   ],
   "source": [
    "df_merged.groupby('Region').agg({'prices': ['mean', 'min', 'max']})"
   ]
  },
  {
   "cell_type": "code",
   "execution_count": 14,
   "id": "c3b56845",
   "metadata": {},
   "outputs": [
    {
     "data": {
      "text/html": [
       "<div>\n",
       "<style scoped>\n",
       "    .dataframe tbody tr th:only-of-type {\n",
       "        vertical-align: middle;\n",
       "    }\n",
       "\n",
       "    .dataframe tbody tr th {\n",
       "        vertical-align: top;\n",
       "    }\n",
       "\n",
       "    .dataframe thead tr th {\n",
       "        text-align: left;\n",
       "    }\n",
       "\n",
       "    .dataframe thead tr:last-of-type th {\n",
       "        text-align: right;\n",
       "    }\n",
       "</style>\n",
       "<table border=\"1\" class=\"dataframe\">\n",
       "  <thead>\n",
       "    <tr>\n",
       "      <th></th>\n",
       "      <th colspan=\"3\" halign=\"left\">Median_since_last_ordered</th>\n",
       "    </tr>\n",
       "    <tr>\n",
       "      <th></th>\n",
       "      <th>mean</th>\n",
       "      <th>min</th>\n",
       "      <th>max</th>\n",
       "    </tr>\n",
       "    <tr>\n",
       "      <th>Region</th>\n",
       "      <th></th>\n",
       "      <th></th>\n",
       "      <th></th>\n",
       "    </tr>\n",
       "  </thead>\n",
       "  <tbody>\n",
       "    <tr>\n",
       "      <th>Midwest</th>\n",
       "      <td>10.458222</td>\n",
       "      <td>0.0</td>\n",
       "      <td>30.0</td>\n",
       "    </tr>\n",
       "    <tr>\n",
       "      <th>Northeast</th>\n",
       "      <td>10.374010</td>\n",
       "      <td>0.0</td>\n",
       "      <td>30.0</td>\n",
       "    </tr>\n",
       "    <tr>\n",
       "      <th>South</th>\n",
       "      <td>10.396853</td>\n",
       "      <td>0.0</td>\n",
       "      <td>30.0</td>\n",
       "    </tr>\n",
       "    <tr>\n",
       "      <th>West</th>\n",
       "      <td>10.360148</td>\n",
       "      <td>0.0</td>\n",
       "      <td>30.0</td>\n",
       "    </tr>\n",
       "  </tbody>\n",
       "</table>\n",
       "</div>"
      ],
      "text/plain": [
       "          Median_since_last_ordered           \n",
       "                               mean  min   max\n",
       "Region                                        \n",
       "Midwest                   10.458222  0.0  30.0\n",
       "Northeast                 10.374010  0.0  30.0\n",
       "South                     10.396853  0.0  30.0\n",
       "West                      10.360148  0.0  30.0"
      ]
     },
     "execution_count": 14,
     "metadata": {},
     "output_type": "execute_result"
    }
   ],
   "source": [
    "df_merged.groupby('Region').agg({'Median_since_last_ordered': ['mean', 'min', 'max']})"
   ]
  },
  {
   "cell_type": "markdown",
   "id": "35def301",
   "metadata": {},
   "source": [
    "as we can see above the numbers between regions are quite the same."
   ]
  },
  {
   "cell_type": "markdown",
   "id": "46790661",
   "metadata": {},
   "source": [
    "# Question 4: eliminating the low spenders"
   ]
  },
  {
   "cell_type": "code",
   "execution_count": 15,
   "id": "ed261feb",
   "metadata": {},
   "outputs": [],
   "source": [
    "# create total order column to establish the level of user activity:\n",
    "df_merged['total_orders']=df_merged.groupby(['user_id']).user_id.transform('count')"
   ]
  },
  {
   "cell_type": "code",
   "execution_count": 16,
   "id": "eeeeb887",
   "metadata": {},
   "outputs": [],
   "source": [
    "result = []\n",
    "\n",
    "for value in df_merged['total_orders']:\n",
    "    if value <5:\n",
    "        result.append('Low_activity')\n",
    "    else:\n",
    "                result.append('Regular_activity')"
   ]
  },
  {
   "cell_type": "code",
   "execution_count": 17,
   "id": "101952fc",
   "metadata": {},
   "outputs": [],
   "source": [
    "#creating activity flag column\n",
    "df_merged['activity_flag']=result"
   ]
  },
  {
   "cell_type": "code",
   "execution_count": 18,
   "id": "640e244f",
   "metadata": {},
   "outputs": [
    {
     "data": {
      "text/plain": [
       "Regular_activity    31143977\n",
       "Low_activity            2799\n",
       "Name: activity_flag, dtype: int64"
      ]
     },
     "execution_count": 18,
     "metadata": {},
     "output_type": "execute_result"
    }
   ],
   "source": [
    "df_merged['activity_flag'].value_counts(dropna=False)"
   ]
  },
  {
   "cell_type": "code",
   "execution_count": 19,
   "id": "b3d5b055",
   "metadata": {},
   "outputs": [
    {
     "data": {
      "image/png": "[encoded data removed]",
      "text/plain": [
       "<Figure size 432x288 with 1 Axes>"
      ]
     },
     "metadata": {
      "needs_background": "light"
     },
     "output_type": "display_data"
    }
   ],
   "source": [
    "#create bar chart\n",
    "bar_activityflag=df_merged['activity_flag'].value_counts(dropna=False).sort_values(ascending=True).plot.bar(color=['blue'])"
   ]
  },
  {
   "cell_type": "code",
   "execution_count": 20,
   "id": "3442d6d8",
   "metadata": {},
   "outputs": [],
   "source": [
    "bar_activityflag.figure.savefig(os.path.join(path, '04 Analysis', 'Visualizations', 'bar_activityflag.final.png'))"
   ]
  },
  {
   "cell_type": "code",
   "execution_count": 21,
   "id": "80632e58",
   "metadata": {},
   "outputs": [],
   "source": [
    "#creating subset for low activity customers\n",
    "df_low_activity_cust= df_merged[df_merged['activity_flag']=='Low Activity']"
   ]
  },
  {
   "cell_type": "code",
   "execution_count": 22,
   "id": "b70d90c8",
   "metadata": {},
   "outputs": [],
   "source": [
    "#exporting subset data frame\n",
    "df_low_activity_cust.to_pickle(os.path.join(path, '02 Data','Prepared data', 'low_activity_cust.pkl'))"
   ]
  },
  {
   "cell_type": "code",
   "execution_count": 23,
   "id": "2c5aa657",
   "metadata": {},
   "outputs": [],
   "source": [
    "#excluding sample from dataset\n",
    "df_merged.drop(df_merged[df_merged['activity_flag']=='Low Activity'].index, inplace=True)"
   ]
  },
  {
   "cell_type": "code",
   "execution_count": 24,
   "id": "bb0e8819",
   "metadata": {},
   "outputs": [
    {
     "data": {
      "text/plain": [
       "Regular_activity    31143977\n",
       "Low_activity            2799\n",
       "Name: activity_flag, dtype: int64"
      ]
     },
     "execution_count": 24,
     "metadata": {},
     "output_type": "execute_result"
    }
   ],
   "source": [
    "df_merged['activity_flag'].value_counts()"
   ]
  },
  {
   "cell_type": "code",
   "execution_count": 25,
   "id": "dc3fd966",
   "metadata": {},
   "outputs": [
    {
     "data": {
      "image/png": "[encoded data removed]",
      "text/plain": [
       "<Figure size 432x288 with 1 Axes>"
      ]
     },
     "metadata": {
      "needs_background": "light"
     },
     "output_type": "display_data"
    }
   ],
   "source": [
    "#create bar chart\n",
    "bar_activityflag2=df_merged['activity_flag'].value_counts(dropna=False).sort_values(ascending=True).plot.bar(color=['blue'])"
   ]
  },
  {
   "cell_type": "code",
   "execution_count": 26,
   "id": "df1dc284",
   "metadata": {},
   "outputs": [],
   "source": [
    "bar_activityflag2.figure.savefig(os.path.join(path, '04 Analysis', 'Visualizations', 'bar_activityflag2.final.png'))"
   ]
  },
  {
   "cell_type": "code",
   "execution_count": 27,
   "id": "f31237a2",
   "metadata": {},
   "outputs": [
    {
     "data": {
      "text/html": [
       "<div>\n",
       "<style scoped>\n",
       "    .dataframe tbody tr th:only-of-type {\n",
       "        vertical-align: middle;\n",
       "    }\n",
       "\n",
       "    .dataframe tbody tr th {\n",
       "        vertical-align: top;\n",
       "    }\n",
       "\n",
       "    .dataframe thead th {\n",
       "        text-align: right;\n",
       "    }\n",
       "</style>\n",
       "<table border=\"1\" class=\"dataframe\">\n",
       "  <thead>\n",
       "    <tr style=\"text-align: right;\">\n",
       "      <th></th>\n",
       "      <th>order_id</th>\n",
       "      <th>user_id</th>\n",
       "      <th>order_number</th>\n",
       "      <th>Order_day_of_week</th>\n",
       "      <th>order_hour_of_day</th>\n",
       "      <th>Days since last order</th>\n",
       "      <th>New customer</th>\n",
       "      <th>product_id</th>\n",
       "      <th>add_to_cart_order</th>\n",
       "      <th>reordered</th>\n",
       "      <th>product_name</th>\n",
       "      <th>aisle_id</th>\n",
       "      <th>department_id</th>\n",
       "      <th>prices</th>\n",
       "      <th>_merge</th>\n",
       "      <th>price_range_loc</th>\n",
       "      <th>Busiest day</th>\n",
       "      <th>2 busy/slow days</th>\n",
       "      <th>busiest_period_of_day</th>\n",
       "      <th>max order</th>\n",
       "      <th>loyalty_flag</th>\n",
       "      <th>Mean_price</th>\n",
       "      <th>Spend_flag</th>\n",
       "      <th>Median_since_last_ordered</th>\n",
       "      <th>Order_frequency_flag</th>\n",
       "      <th>Gender</th>\n",
       "      <th>State</th>\n",
       "      <th>Age</th>\n",
       "      <th>Date joined</th>\n",
       "      <th>No of dependents</th>\n",
       "      <th>Marital status</th>\n",
       "      <th>income</th>\n",
       "      <th>Region</th>\n",
       "      <th>total_orders</th>\n",
       "      <th>activity_flag</th>\n",
       "    </tr>\n",
       "  </thead>\n",
       "  <tbody>\n",
       "    <tr>\n",
       "      <th>0</th>\n",
       "      <td>2539329</td>\n",
       "      <td>1</td>\n",
       "      <td>1</td>\n",
       "      <td>2</td>\n",
       "      <td>8</td>\n",
       "      <td>NaN</td>\n",
       "      <td>True</td>\n",
       "      <td>196.0</td>\n",
       "      <td>1.0</td>\n",
       "      <td>0.0</td>\n",
       "      <td>Soda</td>\n",
       "      <td>77</td>\n",
       "      <td>7</td>\n",
       "      <td>9.0</td>\n",
       "      <td>both</td>\n",
       "      <td>Mid range products</td>\n",
       "      <td>Regular busy</td>\n",
       "      <td>Regular busy</td>\n",
       "      <td>Average orders</td>\n",
       "      <td>10</td>\n",
       "      <td>New customer</td>\n",
       "      <td>6.367797</td>\n",
       "      <td>Low spender</td>\n",
       "      <td>20.5</td>\n",
       "      <td>Non-frequent cust</td>\n",
       "      <td>Female</td>\n",
       "      <td>Alabama</td>\n",
       "      <td>31</td>\n",
       "      <td>2/17/2019</td>\n",
       "      <td>3</td>\n",
       "      <td>married</td>\n",
       "      <td>40423</td>\n",
       "      <td>South</td>\n",
       "      <td>59</td>\n",
       "      <td>Regular_activity</td>\n",
       "    </tr>\n",
       "    <tr>\n",
       "      <th>1</th>\n",
       "      <td>2398795</td>\n",
       "      <td>1</td>\n",
       "      <td>2</td>\n",
       "      <td>3</td>\n",
       "      <td>7</td>\n",
       "      <td>15.0</td>\n",
       "      <td>False</td>\n",
       "      <td>196.0</td>\n",
       "      <td>1.0</td>\n",
       "      <td>1.0</td>\n",
       "      <td>Soda</td>\n",
       "      <td>77</td>\n",
       "      <td>7</td>\n",
       "      <td>9.0</td>\n",
       "      <td>both</td>\n",
       "      <td>Mid range products</td>\n",
       "      <td>Regular busy</td>\n",
       "      <td>Two slowest days</td>\n",
       "      <td>Average orders</td>\n",
       "      <td>10</td>\n",
       "      <td>New customer</td>\n",
       "      <td>6.367797</td>\n",
       "      <td>Low spender</td>\n",
       "      <td>20.5</td>\n",
       "      <td>Non-frequent cust</td>\n",
       "      <td>Female</td>\n",
       "      <td>Alabama</td>\n",
       "      <td>31</td>\n",
       "      <td>2/17/2019</td>\n",
       "      <td>3</td>\n",
       "      <td>married</td>\n",
       "      <td>40423</td>\n",
       "      <td>South</td>\n",
       "      <td>59</td>\n",
       "      <td>Regular_activity</td>\n",
       "    </tr>\n",
       "    <tr>\n",
       "      <th>2</th>\n",
       "      <td>473747</td>\n",
       "      <td>1</td>\n",
       "      <td>3</td>\n",
       "      <td>3</td>\n",
       "      <td>12</td>\n",
       "      <td>21.0</td>\n",
       "      <td>False</td>\n",
       "      <td>196.0</td>\n",
       "      <td>1.0</td>\n",
       "      <td>1.0</td>\n",
       "      <td>Soda</td>\n",
       "      <td>77</td>\n",
       "      <td>7</td>\n",
       "      <td>9.0</td>\n",
       "      <td>both</td>\n",
       "      <td>Mid range products</td>\n",
       "      <td>Regular busy</td>\n",
       "      <td>Two slowest days</td>\n",
       "      <td>Most orders</td>\n",
       "      <td>10</td>\n",
       "      <td>New customer</td>\n",
       "      <td>6.367797</td>\n",
       "      <td>Low spender</td>\n",
       "      <td>20.5</td>\n",
       "      <td>Non-frequent cust</td>\n",
       "      <td>Female</td>\n",
       "      <td>Alabama</td>\n",
       "      <td>31</td>\n",
       "      <td>2/17/2019</td>\n",
       "      <td>3</td>\n",
       "      <td>married</td>\n",
       "      <td>40423</td>\n",
       "      <td>South</td>\n",
       "      <td>59</td>\n",
       "      <td>Regular_activity</td>\n",
       "    </tr>\n",
       "    <tr>\n",
       "      <th>3</th>\n",
       "      <td>2254736</td>\n",
       "      <td>1</td>\n",
       "      <td>4</td>\n",
       "      <td>4</td>\n",
       "      <td>7</td>\n",
       "      <td>29.0</td>\n",
       "      <td>False</td>\n",
       "      <td>196.0</td>\n",
       "      <td>1.0</td>\n",
       "      <td>1.0</td>\n",
       "      <td>Soda</td>\n",
       "      <td>77</td>\n",
       "      <td>7</td>\n",
       "      <td>9.0</td>\n",
       "      <td>both</td>\n",
       "      <td>Mid range products</td>\n",
       "      <td>Least busy</td>\n",
       "      <td>Two slowest days</td>\n",
       "      <td>Average orders</td>\n",
       "      <td>10</td>\n",
       "      <td>New customer</td>\n",
       "      <td>6.367797</td>\n",
       "      <td>Low spender</td>\n",
       "      <td>20.5</td>\n",
       "      <td>Non-frequent cust</td>\n",
       "      <td>Female</td>\n",
       "      <td>Alabama</td>\n",
       "      <td>31</td>\n",
       "      <td>2/17/2019</td>\n",
       "      <td>3</td>\n",
       "      <td>married</td>\n",
       "      <td>40423</td>\n",
       "      <td>South</td>\n",
       "      <td>59</td>\n",
       "      <td>Regular_activity</td>\n",
       "    </tr>\n",
       "    <tr>\n",
       "      <th>4</th>\n",
       "      <td>431534</td>\n",
       "      <td>1</td>\n",
       "      <td>5</td>\n",
       "      <td>4</td>\n",
       "      <td>15</td>\n",
       "      <td>28.0</td>\n",
       "      <td>False</td>\n",
       "      <td>196.0</td>\n",
       "      <td>1.0</td>\n",
       "      <td>1.0</td>\n",
       "      <td>Soda</td>\n",
       "      <td>77</td>\n",
       "      <td>7</td>\n",
       "      <td>9.0</td>\n",
       "      <td>both</td>\n",
       "      <td>Mid range products</td>\n",
       "      <td>Least busy</td>\n",
       "      <td>Two slowest days</td>\n",
       "      <td>Most orders</td>\n",
       "      <td>10</td>\n",
       "      <td>New customer</td>\n",
       "      <td>6.367797</td>\n",
       "      <td>Low spender</td>\n",
       "      <td>20.5</td>\n",
       "      <td>Non-frequent cust</td>\n",
       "      <td>Female</td>\n",
       "      <td>Alabama</td>\n",
       "      <td>31</td>\n",
       "      <td>2/17/2019</td>\n",
       "      <td>3</td>\n",
       "      <td>married</td>\n",
       "      <td>40423</td>\n",
       "      <td>South</td>\n",
       "      <td>59</td>\n",
       "      <td>Regular_activity</td>\n",
       "    </tr>\n",
       "  </tbody>\n",
       "</table>\n",
       "</div>"
      ],
      "text/plain": [
       "   order_id  user_id  order_number  Order_day_of_week  order_hour_of_day  \\\n",
       "0   2539329        1             1                  2                  8   \n",
       "1   2398795        1             2                  3                  7   \n",
       "2    473747        1             3                  3                 12   \n",
       "3   2254736        1             4                  4                  7   \n",
       "4    431534        1             5                  4                 15   \n",
       "\n",
       "   Days since last order  New customer  product_id  add_to_cart_order  \\\n",
       "0                    NaN          True       196.0                1.0   \n",
       "1                   15.0         False       196.0                1.0   \n",
       "2                   21.0         False       196.0                1.0   \n",
       "3                   29.0         False       196.0                1.0   \n",
       "4                   28.0         False       196.0                1.0   \n",
       "\n",
       "   reordered product_name  aisle_id  department_id  prices _merge  \\\n",
       "0        0.0         Soda        77              7     9.0   both   \n",
       "1        1.0         Soda        77              7     9.0   both   \n",
       "2        1.0         Soda        77              7     9.0   both   \n",
       "3        1.0         Soda        77              7     9.0   both   \n",
       "4        1.0         Soda        77              7     9.0   both   \n",
       "\n",
       "      price_range_loc   Busiest day  2 busy/slow days busiest_period_of_day  \\\n",
       "0  Mid range products  Regular busy      Regular busy        Average orders   \n",
       "1  Mid range products  Regular busy  Two slowest days        Average orders   \n",
       "2  Mid range products  Regular busy  Two slowest days           Most orders   \n",
       "3  Mid range products    Least busy  Two slowest days        Average orders   \n",
       "4  Mid range products    Least busy  Two slowest days           Most orders   \n",
       "\n",
       "   max order  loyalty_flag  Mean_price   Spend_flag  \\\n",
       "0         10  New customer    6.367797  Low spender   \n",
       "1         10  New customer    6.367797  Low spender   \n",
       "2         10  New customer    6.367797  Low spender   \n",
       "3         10  New customer    6.367797  Low spender   \n",
       "4         10  New customer    6.367797  Low spender   \n",
       "\n",
       "   Median_since_last_ordered Order_frequency_flag  Gender    State  Age  \\\n",
       "0                       20.5    Non-frequent cust  Female  Alabama   31   \n",
       "1                       20.5    Non-frequent cust  Female  Alabama   31   \n",
       "2                       20.5    Non-frequent cust  Female  Alabama   31   \n",
       "3                       20.5    Non-frequent cust  Female  Alabama   31   \n",
       "4                       20.5    Non-frequent cust  Female  Alabama   31   \n",
       "\n",
       "  Date joined  No of dependents Marital status  income Region  total_orders  \\\n",
       "0   2/17/2019                 3        married   40423  South            59   \n",
       "1   2/17/2019                 3        married   40423  South            59   \n",
       "2   2/17/2019                 3        married   40423  South            59   \n",
       "3   2/17/2019                 3        married   40423  South            59   \n",
       "4   2/17/2019                 3        married   40423  South            59   \n",
       "\n",
       "      activity_flag  \n",
       "0  Regular_activity  \n",
       "1  Regular_activity  \n",
       "2  Regular_activity  \n",
       "3  Regular_activity  \n",
       "4  Regular_activity  "
      ]
     },
     "execution_count": 27,
     "metadata": {},
     "output_type": "execute_result"
    }
   ],
   "source": [
    "pd.set_option('display.max_columns', None)\n",
    "df_merged.head()"
   ]
  },
  {
   "cell_type": "markdown",
   "id": "a117bcc0",
   "metadata": {},
   "source": [
    "# Questions 5,7,8: \n",
    "- creating customer profiles based on: age, income, marital status and dependents\n",
    "- aggregate mean, max, min to customer profiles\n",
    "- Compare your customer profiles with regions and departments. "
   ]
  },
  {
   "cell_type": "markdown",
   "id": "abca69ac",
   "metadata": {},
   "source": [
    "# creating customer profile: age groups"
   ]
  },
  {
   "cell_type": "code",
   "execution_count": 28,
   "id": "d02fa057",
   "metadata": {},
   "outputs": [
    {
     "data": {
      "text/plain": [
       "18"
      ]
     },
     "execution_count": 28,
     "metadata": {},
     "output_type": "execute_result"
    }
   ],
   "source": [
    "#age ranges\n",
    "df_merged['Age'].min()"
   ]
  },
  {
   "cell_type": "code",
   "execution_count": 29,
   "id": "668ddd2f",
   "metadata": {},
   "outputs": [
    {
     "data": {
      "text/plain": [
       "81"
      ]
     },
     "execution_count": 29,
     "metadata": {},
     "output_type": "execute_result"
    }
   ],
   "source": [
    "df_merged['Age'].max()"
   ]
  },
  {
   "cell_type": "code",
   "execution_count": 30,
   "id": "5bf0fb62",
   "metadata": {},
   "outputs": [
    {
     "data": {
      "text/plain": [
       "49.45561408988205"
      ]
     },
     "execution_count": 30,
     "metadata": {},
     "output_type": "execute_result"
    }
   ],
   "source": [
    "df_merged['Age'].mean()"
   ]
  },
  {
   "cell_type": "code",
   "execution_count": 31,
   "id": "671f8f41",
   "metadata": {},
   "outputs": [],
   "source": [
    "#creating age groups and age flag\n",
    "df_merged.loc[df_merged['Age'] <= 24, 'age_group'] = 'Young adult'\n",
    "df_merged.loc[(df_merged['Age'] >24) & (df_merged['Age'] <=64), 'age_group'] = 'Adult'\n",
    "df_merged.loc[df_merged['Age'] >= 65, 'age_group'] = 'Senior'"
   ]
  },
  {
   "cell_type": "code",
   "execution_count": 32,
   "id": "b74aed2a",
   "metadata": {},
   "outputs": [
    {
     "data": {
      "text/plain": [
       "Adult          19472283\n",
       "Senior          8235984\n",
       "Young adult     3438509\n",
       "Name: age_group, dtype: int64"
      ]
     },
     "execution_count": 32,
     "metadata": {},
     "output_type": "execute_result"
    }
   ],
   "source": [
    "df_merged['age_group'].value_counts()"
   ]
  },
  {
   "cell_type": "code",
   "execution_count": 33,
   "id": "166e7bb2",
   "metadata": {},
   "outputs": [
    {
     "data": {
      "image/png": "[encoded data removed]",
      "text/plain": [
       "<Figure size 432x288 with 1 Axes>"
      ]
     },
     "metadata": {
      "needs_background": "light"
     },
     "output_type": "display_data"
    }
   ],
   "source": [
    "#create bar chart\n",
    "bar_agegroup=df_merged['age_group'].value_counts(dropna=False).sort_values(ascending=True).plot.bar(color=['blue'])"
   ]
  },
  {
   "cell_type": "code",
   "execution_count": 34,
   "id": "a89d12ac",
   "metadata": {},
   "outputs": [],
   "source": [
    "bar_agegroup.figure.savefig(os.path.join(path, '04 Analysis', 'Visualizations', 'bar_agegroup.final.png'))"
   ]
  },
  {
   "cell_type": "markdown",
   "id": "c44b306f",
   "metadata": {},
   "source": [
    "# aggregating age groups"
   ]
  },
  {
   "cell_type": "code",
   "execution_count": 35,
   "id": "4c461bf4",
   "metadata": {},
   "outputs": [
    {
     "data": {
      "text/html": [
       "<div>\n",
       "<style scoped>\n",
       "    .dataframe tbody tr th:only-of-type {\n",
       "        vertical-align: middle;\n",
       "    }\n",
       "\n",
       "    .dataframe tbody tr th {\n",
       "        vertical-align: top;\n",
       "    }\n",
       "\n",
       "    .dataframe thead tr th {\n",
       "        text-align: left;\n",
       "    }\n",
       "\n",
       "    .dataframe thead tr:last-of-type th {\n",
       "        text-align: right;\n",
       "    }\n",
       "</style>\n",
       "<table border=\"1\" class=\"dataframe\">\n",
       "  <thead>\n",
       "    <tr>\n",
       "      <th></th>\n",
       "      <th colspan=\"3\" halign=\"left\">prices</th>\n",
       "    </tr>\n",
       "    <tr>\n",
       "      <th></th>\n",
       "      <th>mean</th>\n",
       "      <th>max</th>\n",
       "      <th>min</th>\n",
       "    </tr>\n",
       "    <tr>\n",
       "      <th>age_group</th>\n",
       "      <th></th>\n",
       "      <th></th>\n",
       "      <th></th>\n",
       "    </tr>\n",
       "  </thead>\n",
       "  <tbody>\n",
       "    <tr>\n",
       "      <th>Adult</th>\n",
       "      <td>7.788898</td>\n",
       "      <td>25.0</td>\n",
       "      <td>1.0</td>\n",
       "    </tr>\n",
       "    <tr>\n",
       "      <th>Senior</th>\n",
       "      <td>7.796425</td>\n",
       "      <td>25.0</td>\n",
       "      <td>1.0</td>\n",
       "    </tr>\n",
       "    <tr>\n",
       "      <th>Young adult</th>\n",
       "      <td>7.791304</td>\n",
       "      <td>25.0</td>\n",
       "      <td>1.0</td>\n",
       "    </tr>\n",
       "  </tbody>\n",
       "</table>\n",
       "</div>"
      ],
      "text/plain": [
       "               prices           \n",
       "                 mean   max  min\n",
       "age_group                       \n",
       "Adult        7.788898  25.0  1.0\n",
       "Senior       7.796425  25.0  1.0\n",
       "Young adult  7.791304  25.0  1.0"
      ]
     },
     "execution_count": 35,
     "metadata": {},
     "output_type": "execute_result"
    }
   ],
   "source": [
    "df_merged.groupby('age_group').agg({'prices': ['mean', 'max', 'min']})"
   ]
  },
  {
   "cell_type": "code",
   "execution_count": 36,
   "id": "de65eb50",
   "metadata": {},
   "outputs": [
    {
     "data": {
      "text/html": [
       "<div>\n",
       "<style scoped>\n",
       "    .dataframe tbody tr th:only-of-type {\n",
       "        vertical-align: middle;\n",
       "    }\n",
       "\n",
       "    .dataframe tbody tr th {\n",
       "        vertical-align: top;\n",
       "    }\n",
       "\n",
       "    .dataframe thead tr th {\n",
       "        text-align: left;\n",
       "    }\n",
       "\n",
       "    .dataframe thead tr:last-of-type th {\n",
       "        text-align: right;\n",
       "    }\n",
       "</style>\n",
       "<table border=\"1\" class=\"dataframe\">\n",
       "  <thead>\n",
       "    <tr>\n",
       "      <th></th>\n",
       "      <th colspan=\"3\" halign=\"left\">Median_since_last_ordered</th>\n",
       "    </tr>\n",
       "    <tr>\n",
       "      <th></th>\n",
       "      <th>mean</th>\n",
       "      <th>max</th>\n",
       "      <th>min</th>\n",
       "    </tr>\n",
       "    <tr>\n",
       "      <th>age_group</th>\n",
       "      <th></th>\n",
       "      <th></th>\n",
       "      <th></th>\n",
       "    </tr>\n",
       "  </thead>\n",
       "  <tbody>\n",
       "    <tr>\n",
       "      <th>Adult</th>\n",
       "      <td>10.416312</td>\n",
       "      <td>30.0</td>\n",
       "      <td>0.0</td>\n",
       "    </tr>\n",
       "    <tr>\n",
       "      <th>Senior</th>\n",
       "      <td>10.372803</td>\n",
       "      <td>30.0</td>\n",
       "      <td>0.0</td>\n",
       "    </tr>\n",
       "    <tr>\n",
       "      <th>Young adult</th>\n",
       "      <td>10.361674</td>\n",
       "      <td>30.0</td>\n",
       "      <td>0.0</td>\n",
       "    </tr>\n",
       "  </tbody>\n",
       "</table>\n",
       "</div>"
      ],
      "text/plain": [
       "            Median_since_last_ordered           \n",
       "                                 mean   max  min\n",
       "age_group                                       \n",
       "Adult                       10.416312  30.0  0.0\n",
       "Senior                      10.372803  30.0  0.0\n",
       "Young adult                 10.361674  30.0  0.0"
      ]
     },
     "execution_count": 36,
     "metadata": {},
     "output_type": "execute_result"
    }
   ],
   "source": [
    "df_merged.groupby('age_group').agg({'Median_since_last_ordered': ['mean', 'max', 'min']})"
   ]
  },
  {
   "cell_type": "markdown",
   "id": "16fdb5c7",
   "metadata": {},
   "source": [
    "# comparing profile with regions and departments:"
   ]
  },
  {
   "cell_type": "code",
   "execution_count": 37,
   "id": "fc5cfb72",
   "metadata": {},
   "outputs": [
    {
     "data": {
      "text/html": [
       "<div>\n",
       "<style scoped>\n",
       "    .dataframe tbody tr th:only-of-type {\n",
       "        vertical-align: middle;\n",
       "    }\n",
       "\n",
       "    .dataframe tbody tr th {\n",
       "        vertical-align: top;\n",
       "    }\n",
       "\n",
       "    .dataframe thead th {\n",
       "        text-align: right;\n",
       "    }\n",
       "</style>\n",
       "<table border=\"1\" class=\"dataframe\">\n",
       "  <thead>\n",
       "    <tr style=\"text-align: right;\">\n",
       "      <th>age_group</th>\n",
       "      <th>Young adult</th>\n",
       "      <th>Adult</th>\n",
       "      <th>Senior</th>\n",
       "    </tr>\n",
       "    <tr>\n",
       "      <th>Region</th>\n",
       "      <th></th>\n",
       "      <th></th>\n",
       "      <th></th>\n",
       "    </tr>\n",
       "  </thead>\n",
       "  <tbody>\n",
       "    <tr>\n",
       "      <th>South</th>\n",
       "      <td>1218210</td>\n",
       "      <td>6737418</td>\n",
       "      <td>2836257</td>\n",
       "    </tr>\n",
       "    <tr>\n",
       "      <th>West</th>\n",
       "      <td>896692</td>\n",
       "      <td>5202141</td>\n",
       "      <td>2194080</td>\n",
       "    </tr>\n",
       "    <tr>\n",
       "      <th>Midwest</th>\n",
       "      <td>827642</td>\n",
       "      <td>4778839</td>\n",
       "      <td>1990844</td>\n",
       "    </tr>\n",
       "    <tr>\n",
       "      <th>Northeast</th>\n",
       "      <td>495965</td>\n",
       "      <td>2753885</td>\n",
       "      <td>1214803</td>\n",
       "    </tr>\n",
       "  </tbody>\n",
       "</table>\n",
       "</div>"
      ],
      "text/plain": [
       "age_group  Young adult    Adult   Senior\n",
       "Region                                  \n",
       "South          1218210  6737418  2836257\n",
       "West            896692  5202141  2194080\n",
       "Midwest         827642  4778839  1990844\n",
       "Northeast       495965  2753885  1214803"
      ]
     },
     "execution_count": 37,
     "metadata": {},
     "output_type": "execute_result"
    }
   ],
   "source": [
    "# age_group in comparaison to region\n",
    "age_region=pd.crosstab(df_merged['Region'], df_merged['age_group'].sort_values(ascending=False))\n",
    "age_region=age_region.reindex(['Young adult', 'Adult', 'Senior'], axis=\"columns\").reindex(['South', 'West', 'Midwest', 'Northeast'])\n",
    "age_region"
   ]
  },
  {
   "cell_type": "code",
   "execution_count": 38,
   "id": "e6efb360",
   "metadata": {},
   "outputs": [
    {
     "data": {
      "text/plain": [
       "<matplotlib.legend.Legend at 0x1bd16b0e880>"
      ]
     },
     "execution_count": 38,
     "metadata": {},
     "output_type": "execute_result"
    },
    {
     "data": {
      "image/png": "[encoded data removed]",
      "text/plain": [
       "<Figure size 432x288 with 1 Axes>"
      ]
     },
     "metadata": {
      "needs_background": "light"
     },
     "output_type": "display_data"
    }
   ],
   "source": [
    "#Grouped bar chart. age_groups vs regions\n",
    "bar_age_region=age_region.plot.bar(color=['#5D8AA8', '#00308F', '#004F98'])\n",
    "plt.title('age_group in comparaison to region')\n",
    "plt.xlabel('Region')\n",
    "plt.ylabel('number of customers')\n",
    "plt.legend()"
   ]
  },
  {
   "cell_type": "code",
   "execution_count": 39,
   "id": "12bbc27a",
   "metadata": {},
   "outputs": [],
   "source": [
    "bar_age_region.figure.savefig(os.path.join(path, '04 Analysis', 'Visualizations', 'bar_age_region.final.png'))"
   ]
  },
  {
   "cell_type": "code",
   "execution_count": 40,
   "id": "4b84e77a",
   "metadata": {},
   "outputs": [
    {
     "data": {
      "text/plain": [
       "Adult          19472283\n",
       "Senior          8235984\n",
       "Young adult     3438509\n",
       "Name: age_group, dtype: int64"
      ]
     },
     "execution_count": 40,
     "metadata": {},
     "output_type": "execute_result"
    }
   ],
   "source": [
    "df_merged['age_group'].value_counts()"
   ]
  },
  {
   "cell_type": "code",
   "execution_count": 61,
   "id": "9c66c2de",
   "metadata": {},
   "outputs": [
    {
     "data": {
      "text/html": [
       "<div>\n",
       "<style scoped>\n",
       "    .dataframe tbody tr th:only-of-type {\n",
       "        vertical-align: middle;\n",
       "    }\n",
       "\n",
       "    .dataframe tbody tr th {\n",
       "        vertical-align: top;\n",
       "    }\n",
       "\n",
       "    .dataframe thead th {\n",
       "        text-align: right;\n",
       "    }\n",
       "</style>\n",
       "<table border=\"1\" class=\"dataframe\">\n",
       "  <thead>\n",
       "    <tr style=\"text-align: right;\">\n",
       "      <th>age_group</th>\n",
       "      <th>Young adult</th>\n",
       "      <th>Adult</th>\n",
       "      <th>Senior</th>\n",
       "    </tr>\n",
       "    <tr>\n",
       "      <th>department</th>\n",
       "      <th></th>\n",
       "      <th></th>\n",
       "      <th></th>\n",
       "    </tr>\n",
       "  </thead>\n",
       "  <tbody>\n",
       "    <tr>\n",
       "      <th>alcohol</th>\n",
       "      <td>17967</td>\n",
       "      <td>91480</td>\n",
       "      <td>38063</td>\n",
       "    </tr>\n",
       "    <tr>\n",
       "      <th>babies</th>\n",
       "      <td>45535</td>\n",
       "      <td>257390</td>\n",
       "      <td>104633</td>\n",
       "    </tr>\n",
       "    <tr>\n",
       "      <th>bakery</th>\n",
       "      <td>124637</td>\n",
       "      <td>705400</td>\n",
       "      <td>297540</td>\n",
       "    </tr>\n",
       "    <tr>\n",
       "      <th>beverages</th>\n",
       "      <td>281327</td>\n",
       "      <td>1614412</td>\n",
       "      <td>686408</td>\n",
       "    </tr>\n",
       "    <tr>\n",
       "      <th>breakfast</th>\n",
       "      <td>75980</td>\n",
       "      <td>423524</td>\n",
       "      <td>176637</td>\n",
       "    </tr>\n",
       "    <tr>\n",
       "      <th>bulk</th>\n",
       "      <td>3727</td>\n",
       "      <td>20704</td>\n",
       "      <td>8907</td>\n",
       "    </tr>\n",
       "    <tr>\n",
       "      <th>canned goods</th>\n",
       "      <td>113472</td>\n",
       "      <td>641919</td>\n",
       "      <td>271574</td>\n",
       "    </tr>\n",
       "    <tr>\n",
       "      <th>dairy eggs</th>\n",
       "      <td>574856</td>\n",
       "      <td>3243634</td>\n",
       "      <td>1370166</td>\n",
       "    </tr>\n",
       "    <tr>\n",
       "      <th>deli</th>\n",
       "      <td>110849</td>\n",
       "      <td>633206</td>\n",
       "      <td>266333</td>\n",
       "    </tr>\n",
       "    <tr>\n",
       "      <th>dry goods pasta</th>\n",
       "      <td>93252</td>\n",
       "      <td>520301</td>\n",
       "      <td>219460</td>\n",
       "    </tr>\n",
       "    <tr>\n",
       "      <th>frozen</th>\n",
       "      <td>237854</td>\n",
       "      <td>1342527</td>\n",
       "      <td>570329</td>\n",
       "    </tr>\n",
       "    <tr>\n",
       "      <th>household</th>\n",
       "      <td>78452</td>\n",
       "      <td>442128</td>\n",
       "      <td>189390</td>\n",
       "    </tr>\n",
       "    <tr>\n",
       "      <th>international</th>\n",
       "      <td>28896</td>\n",
       "      <td>161922</td>\n",
       "      <td>67932</td>\n",
       "    </tr>\n",
       "    <tr>\n",
       "      <th>meat seafood</th>\n",
       "      <td>76037</td>\n",
       "      <td>423055</td>\n",
       "      <td>182648</td>\n",
       "    </tr>\n",
       "    <tr>\n",
       "      <th>missing</th>\n",
       "      <td>7739</td>\n",
       "      <td>41506</td>\n",
       "      <td>17433</td>\n",
       "    </tr>\n",
       "    <tr>\n",
       "      <th>other</th>\n",
       "      <td>3976</td>\n",
       "      <td>21927</td>\n",
       "      <td>9042</td>\n",
       "    </tr>\n",
       "    <tr>\n",
       "      <th>pantry</th>\n",
       "      <td>199851</td>\n",
       "      <td>1125023</td>\n",
       "      <td>477573</td>\n",
       "    </tr>\n",
       "    <tr>\n",
       "      <th>personal care</th>\n",
       "      <td>47297</td>\n",
       "      <td>270295</td>\n",
       "      <td>112973</td>\n",
       "    </tr>\n",
       "    <tr>\n",
       "      <th>pets</th>\n",
       "      <td>11621</td>\n",
       "      <td>57312</td>\n",
       "      <td>25103</td>\n",
       "    </tr>\n",
       "    <tr>\n",
       "      <th>produce</th>\n",
       "      <td>1000757</td>\n",
       "      <td>5694760</td>\n",
       "      <td>2413990</td>\n",
       "    </tr>\n",
       "    <tr>\n",
       "      <th>snacks</th>\n",
       "      <td>304427</td>\n",
       "      <td>1739858</td>\n",
       "      <td>729850</td>\n",
       "    </tr>\n",
       "  </tbody>\n",
       "</table>\n",
       "</div>"
      ],
      "text/plain": [
       "age_group        Young adult    Adult   Senior\n",
       "department                                    \n",
       "alcohol                17967    91480    38063\n",
       "babies                 45535   257390   104633\n",
       "bakery                124637   705400   297540\n",
       "beverages             281327  1614412   686408\n",
       "breakfast              75980   423524   176637\n",
       "bulk                    3727    20704     8907\n",
       "canned goods          113472   641919   271574\n",
       "dairy eggs            574856  3243634  1370166\n",
       "deli                  110849   633206   266333\n",
       "dry goods pasta        93252   520301   219460\n",
       "frozen                237854  1342527   570329\n",
       "household              78452   442128   189390\n",
       "international          28896   161922    67932\n",
       "meat seafood           76037   423055   182648\n",
       "missing                 7739    41506    17433\n",
       "other                   3976    21927     9042\n",
       "pantry                199851  1125023   477573\n",
       "personal care          47297   270295   112973\n",
       "pets                   11621    57312    25103\n",
       "produce              1000757  5694760  2413990\n",
       "snacks                304427  1739858   729850"
      ]
     },
     "execution_count": 61,
     "metadata": {},
     "output_type": "execute_result"
    }
   ],
   "source": [
    "#Measuring departments vs age_group\n",
    "age_depart=pd.crosstab(df_merged['department'], df_merged['age_group'])\n",
    "age_depart=age_depart.reindex(['Young adult', 'Adult', 'Senior'], axis=\"columns\")\n",
    "age_depart"
   ]
  },
  {
   "cell_type": "code",
   "execution_count": 62,
   "id": "ccc8c528",
   "metadata": {},
   "outputs": [],
   "source": [
    "#since we established that the most popular overall departments are produce, dairy egg, snacks and beverages we will concentrate on the age_group for only these deparments\n",
    "df_age_depart2=df_merged.loc[df_merged['department'].isin(['produce', 'dairy eggs', 'snacks', 'beverages'])]"
   ]
  },
  {
   "cell_type": "code",
   "execution_count": 63,
   "id": "ebe6ae5a",
   "metadata": {},
   "outputs": [
    {
     "data": {
      "text/html": [
       "<div>\n",
       "<style scoped>\n",
       "    .dataframe tbody tr th:only-of-type {\n",
       "        vertical-align: middle;\n",
       "    }\n",
       "\n",
       "    .dataframe tbody tr th {\n",
       "        vertical-align: top;\n",
       "    }\n",
       "\n",
       "    .dataframe thead th {\n",
       "        text-align: right;\n",
       "    }\n",
       "</style>\n",
       "<table border=\"1\" class=\"dataframe\">\n",
       "  <thead>\n",
       "    <tr style=\"text-align: right;\">\n",
       "      <th>age_group</th>\n",
       "      <th>Young adult</th>\n",
       "      <th>Adult</th>\n",
       "      <th>Senior</th>\n",
       "    </tr>\n",
       "    <tr>\n",
       "      <th>department</th>\n",
       "      <th></th>\n",
       "      <th></th>\n",
       "      <th></th>\n",
       "    </tr>\n",
       "  </thead>\n",
       "  <tbody>\n",
       "    <tr>\n",
       "      <th>produce</th>\n",
       "      <td>0.109859</td>\n",
       "      <td>0.625145</td>\n",
       "      <td>0.264997</td>\n",
       "    </tr>\n",
       "    <tr>\n",
       "      <th>dairy eggs</th>\n",
       "      <td>0.110791</td>\n",
       "      <td>0.625140</td>\n",
       "      <td>0.264070</td>\n",
       "    </tr>\n",
       "    <tr>\n",
       "      <th>snacks</th>\n",
       "      <td>0.109738</td>\n",
       "      <td>0.627171</td>\n",
       "      <td>0.263091</td>\n",
       "    </tr>\n",
       "    <tr>\n",
       "      <th>beverages</th>\n",
       "      <td>0.108951</td>\n",
       "      <td>0.625221</td>\n",
       "      <td>0.265828</td>\n",
       "    </tr>\n",
       "  </tbody>\n",
       "</table>\n",
       "</div>"
      ],
      "text/plain": [
       "age_group   Young adult     Adult    Senior\n",
       "department                                 \n",
       "produce        0.109859  0.625145  0.264997\n",
       "dairy eggs     0.110791  0.625140  0.264070\n",
       "snacks         0.109738  0.627171  0.263091\n",
       "beverages      0.108951  0.625221  0.265828"
      ]
     },
     "execution_count": 63,
     "metadata": {},
     "output_type": "execute_result"
    }
   ],
   "source": [
    "#creating stacked bar chart of departments vs age_groups\n",
    "age_depart3=pd.crosstab(index=df_age_depart2['department'], columns=df_age_depart2['age_group'], normalize='index')\n",
    "age_depart3=age_depart3.reindex(['Young adult', 'Adult', 'Senior'], axis=\"columns\").reindex(['produce', 'dairy eggs', 'snacks', 'beverages'])\n",
    "age_depart3_labels=pd.crosstab(index=df_age_depart2['department'], columns=df_age_depart2['age_group'])\n",
    "age_depart3_labels=age_depart3_labels.reindex(['Young adult', 'Adult', 'Senior'], axis=\"columns\").reindex(['produce', 'dairy eggs', 'snacks', 'beverages'])\n",
    "age_depart3"
   ]
  },
  {
   "cell_type": "code",
   "execution_count": 128,
   "id": "d448fb54",
   "metadata": {},
   "outputs": [
    {
     "data": {
      "image/png": "[encoded data removed]",
      "text/plain": [
       "<Figure size 432x288 with 1 Axes>"
      ]
     },
     "metadata": {
      "needs_background": "light"
     },
     "output_type": "display_data"
    }
   ],
   "source": [
    "bar_age_depart=age_depart3.plot.bar(stacked=True,color=['#5D8AA8', '#00308F', '#004F98'])\n",
    "plt.title('departments vs age_groups')\n",
    "plt.xlabel('department')\n",
    "plt.legend(bbox_to_anchor=(1.02, 0.1), loc='upper left', borderaxespad=0)\n",
    "for n, y in enumerate([*age_depart3.index.values]):\n",
    "    for (proportion, count, x_loc) in zip(age_depart3.loc[y],\n",
    "                                         age_depart3_labels.loc[y],\n",
    "                                          age_depart3.loc[y].cumsum()):\n",
    "                \n",
    "        plt.text(y=(x_loc - proportion) + (proportion / 2),\n",
    "                 x=n - 0.11,\n",
    "                 s=f'{count}\\n({np.round(proportion * 100, 1)}%)', \n",
    "                 fontsize = 7.5,\n",
    "                 color='white')"
   ]
  },
  {
   "cell_type": "code",
   "execution_count": 182,
   "id": "9d809d1e",
   "metadata": {},
   "outputs": [],
   "source": [
    "bar_age_depart.figure.savefig(os.path.join(path, '04 Analysis', 'Visualizations', 'bar_age_depart2.final.png'))"
   ]
  },
  {
   "cell_type": "markdown",
   "id": "669410cc",
   "metadata": {},
   "source": [
    "# creating customer profile: income"
   ]
  },
  {
   "cell_type": "code",
   "execution_count": 66,
   "id": "ec07c5e7",
   "metadata": {},
   "outputs": [],
   "source": [
    "#creating income flag\n",
    "df_merged.loc[df_merged['income'] <=52000, 'income_flag'] ='low income'\n",
    "df_merged.loc[(df_merged['income'] > 52000) & (df_merged['income'] <=156000), 'income_flag'] = 'Middle class'\n",
    "df_merged.loc[df_merged['income'] >156000, 'income_flag'] = 'upper class'"
   ]
  },
  {
   "cell_type": "markdown",
   "id": "e77f32c1",
   "metadata": {},
   "source": [
    " tier class income based on a 2018 average american imcome"
   ]
  },
  {
   "cell_type": "code",
   "execution_count": 67,
   "id": "90fdb67d",
   "metadata": {},
   "outputs": [
    {
     "data": {
      "text/plain": [
       "Middle class    24574247\n",
       "low income       3725391\n",
       "upper class      2847138\n",
       "Name: income_flag, dtype: int64"
      ]
     },
     "execution_count": 67,
     "metadata": {},
     "output_type": "execute_result"
    }
   ],
   "source": [
    "df_merged['income_flag'].value_counts()"
   ]
  },
  {
   "cell_type": "code",
   "execution_count": 68,
   "id": "e1ee85c3",
   "metadata": {},
   "outputs": [
    {
     "data": {
      "image/png": "[encoded data removed]",
      "text/plain": [
       "<Figure size 432x288 with 1 Axes>"
      ]
     },
     "metadata": {
      "needs_background": "light"
     },
     "output_type": "display_data"
    }
   ],
   "source": [
    "#create bar chart\n",
    "bar_incomeflag=df_merged['income_flag'].value_counts(dropna=False).sort_values(ascending=True).plot.bar(color=['blue'])"
   ]
  },
  {
   "cell_type": "code",
   "execution_count": 69,
   "id": "5e2ff1b9",
   "metadata": {},
   "outputs": [],
   "source": [
    "bar_incomeflag.figure.savefig(os.path.join(path, '04 Analysis', 'Visualizations', 'bar_incomeflag.final.png'))"
   ]
  },
  {
   "cell_type": "markdown",
   "id": "14dcf8d9",
   "metadata": {},
   "source": [
    "# aggregating income flags"
   ]
  },
  {
   "cell_type": "code",
   "execution_count": 70,
   "id": "62b4baa2",
   "metadata": {},
   "outputs": [
    {
     "data": {
      "text/html": [
       "<div>\n",
       "<style scoped>\n",
       "    .dataframe tbody tr th:only-of-type {\n",
       "        vertical-align: middle;\n",
       "    }\n",
       "\n",
       "    .dataframe tbody tr th {\n",
       "        vertical-align: top;\n",
       "    }\n",
       "\n",
       "    .dataframe thead tr th {\n",
       "        text-align: left;\n",
       "    }\n",
       "\n",
       "    .dataframe thead tr:last-of-type th {\n",
       "        text-align: right;\n",
       "    }\n",
       "</style>\n",
       "<table border=\"1\" class=\"dataframe\">\n",
       "  <thead>\n",
       "    <tr>\n",
       "      <th></th>\n",
       "      <th colspan=\"3\" halign=\"left\">prices</th>\n",
       "    </tr>\n",
       "    <tr>\n",
       "      <th></th>\n",
       "      <th>mean</th>\n",
       "      <th>max</th>\n",
       "      <th>min</th>\n",
       "    </tr>\n",
       "    <tr>\n",
       "      <th>income_flag</th>\n",
       "      <th></th>\n",
       "      <th></th>\n",
       "      <th></th>\n",
       "    </tr>\n",
       "  </thead>\n",
       "  <tbody>\n",
       "    <tr>\n",
       "      <th>Middle class</th>\n",
       "      <td>7.932771</td>\n",
       "      <td>25.0</td>\n",
       "      <td>1.0</td>\n",
       "    </tr>\n",
       "    <tr>\n",
       "      <th>low income</th>\n",
       "      <td>6.741713</td>\n",
       "      <td>25.0</td>\n",
       "      <td>1.0</td>\n",
       "    </tr>\n",
       "    <tr>\n",
       "      <th>upper class</th>\n",
       "      <td>7.942249</td>\n",
       "      <td>25.0</td>\n",
       "      <td>1.0</td>\n",
       "    </tr>\n",
       "  </tbody>\n",
       "</table>\n",
       "</div>"
      ],
      "text/plain": [
       "                prices           \n",
       "                  mean   max  min\n",
       "income_flag                      \n",
       "Middle class  7.932771  25.0  1.0\n",
       "low income    6.741713  25.0  1.0\n",
       "upper class   7.942249  25.0  1.0"
      ]
     },
     "execution_count": 70,
     "metadata": {},
     "output_type": "execute_result"
    }
   ],
   "source": [
    "df_merged.groupby('income_flag').agg({'prices': ['mean', 'max', 'min']})"
   ]
  },
  {
   "cell_type": "code",
   "execution_count": 71,
   "id": "8762cd0e",
   "metadata": {},
   "outputs": [
    {
     "data": {
      "text/html": [
       "<div>\n",
       "<style scoped>\n",
       "    .dataframe tbody tr th:only-of-type {\n",
       "        vertical-align: middle;\n",
       "    }\n",
       "\n",
       "    .dataframe tbody tr th {\n",
       "        vertical-align: top;\n",
       "    }\n",
       "\n",
       "    .dataframe thead tr th {\n",
       "        text-align: left;\n",
       "    }\n",
       "\n",
       "    .dataframe thead tr:last-of-type th {\n",
       "        text-align: right;\n",
       "    }\n",
       "</style>\n",
       "<table border=\"1\" class=\"dataframe\">\n",
       "  <thead>\n",
       "    <tr>\n",
       "      <th></th>\n",
       "      <th colspan=\"3\" halign=\"left\">Median_since_last_ordered</th>\n",
       "    </tr>\n",
       "    <tr>\n",
       "      <th></th>\n",
       "      <th>mean</th>\n",
       "      <th>max</th>\n",
       "      <th>min</th>\n",
       "    </tr>\n",
       "    <tr>\n",
       "      <th>income_flag</th>\n",
       "      <th></th>\n",
       "      <th></th>\n",
       "      <th></th>\n",
       "    </tr>\n",
       "  </thead>\n",
       "  <tbody>\n",
       "    <tr>\n",
       "      <th>Middle class</th>\n",
       "      <td>10.324941</td>\n",
       "      <td>30.0</td>\n",
       "      <td>0.0</td>\n",
       "    </tr>\n",
       "    <tr>\n",
       "      <th>low income</th>\n",
       "      <td>11.090096</td>\n",
       "      <td>30.0</td>\n",
       "      <td>0.0</td>\n",
       "    </tr>\n",
       "    <tr>\n",
       "      <th>upper class</th>\n",
       "      <td>10.131480</td>\n",
       "      <td>30.0</td>\n",
       "      <td>0.0</td>\n",
       "    </tr>\n",
       "  </tbody>\n",
       "</table>\n",
       "</div>"
      ],
      "text/plain": [
       "             Median_since_last_ordered           \n",
       "                                  mean   max  min\n",
       "income_flag                                      \n",
       "Middle class                 10.324941  30.0  0.0\n",
       "low income                   11.090096  30.0  0.0\n",
       "upper class                  10.131480  30.0  0.0"
      ]
     },
     "execution_count": 71,
     "metadata": {},
     "output_type": "execute_result"
    }
   ],
   "source": [
    "df_merged.groupby('income_flag').agg({'Median_since_last_ordered': ['mean', 'max', 'min']})"
   ]
  },
  {
   "cell_type": "markdown",
   "id": "004e4782",
   "metadata": {},
   "source": [
    "# comparing profile with regions and departments:"
   ]
  },
  {
   "cell_type": "code",
   "execution_count": 72,
   "id": "37e0a05c",
   "metadata": {},
   "outputs": [
    {
     "data": {
      "text/html": [
       "<div>\n",
       "<style scoped>\n",
       "    .dataframe tbody tr th:only-of-type {\n",
       "        vertical-align: middle;\n",
       "    }\n",
       "\n",
       "    .dataframe tbody tr th {\n",
       "        vertical-align: top;\n",
       "    }\n",
       "\n",
       "    .dataframe thead th {\n",
       "        text-align: right;\n",
       "    }\n",
       "</style>\n",
       "<table border=\"1\" class=\"dataframe\">\n",
       "  <thead>\n",
       "    <tr style=\"text-align: right;\">\n",
       "      <th>income_flag</th>\n",
       "      <th>low income</th>\n",
       "      <th>Middle class</th>\n",
       "      <th>upper class</th>\n",
       "    </tr>\n",
       "    <tr>\n",
       "      <th>Region</th>\n",
       "      <th></th>\n",
       "      <th></th>\n",
       "      <th></th>\n",
       "    </tr>\n",
       "  </thead>\n",
       "  <tbody>\n",
       "    <tr>\n",
       "      <th>South</th>\n",
       "      <td>1315278</td>\n",
       "      <td>8482110</td>\n",
       "      <td>994497</td>\n",
       "    </tr>\n",
       "    <tr>\n",
       "      <th>West</th>\n",
       "      <td>970999</td>\n",
       "      <td>6565980</td>\n",
       "      <td>755934</td>\n",
       "    </tr>\n",
       "    <tr>\n",
       "      <th>Midwest</th>\n",
       "      <td>912447</td>\n",
       "      <td>5993969</td>\n",
       "      <td>690909</td>\n",
       "    </tr>\n",
       "    <tr>\n",
       "      <th>Northeast</th>\n",
       "      <td>526667</td>\n",
       "      <td>3532188</td>\n",
       "      <td>405798</td>\n",
       "    </tr>\n",
       "  </tbody>\n",
       "</table>\n",
       "</div>"
      ],
      "text/plain": [
       "income_flag  low income  Middle class  upper class\n",
       "Region                                            \n",
       "South           1315278       8482110       994497\n",
       "West             970999       6565980       755934\n",
       "Midwest          912447       5993969       690909\n",
       "Northeast        526667       3532188       405798"
      ]
     },
     "execution_count": 72,
     "metadata": {},
     "output_type": "execute_result"
    }
   ],
   "source": [
    "#Measuring income groups across regions\n",
    "income_region=pd.crosstab(df_merged['Region'], df_merged['income_flag'].sort_values(ascending=False))\n",
    "income_region=income_region.reindex(['low income', 'Middle class', 'upper class'], axis=\"columns\").reindex(['South', 'West', 'Midwest', 'Northeast'])\n",
    "income_region"
   ]
  },
  {
   "cell_type": "code",
   "execution_count": 73,
   "id": "58f9a3ae",
   "metadata": {},
   "outputs": [
    {
     "data": {
      "text/plain": [
       "<matplotlib.legend.Legend at 0x1bd283c67c0>"
      ]
     },
     "execution_count": 73,
     "metadata": {},
     "output_type": "execute_result"
    },
    {
     "data": {
      "image/png": "[encoded data removed]",
      "text/plain": [
       "<Figure size 432x288 with 1 Axes>"
      ]
     },
     "metadata": {
      "needs_background": "light"
     },
     "output_type": "display_data"
    }
   ],
   "source": [
    "#Bar chart of income groups vs regions\n",
    "bar_income_region=income_region.plot.bar(color=['#5D8AA8', '#00308F', '#004F98'])\n",
    "plt.title('Measuring income groups across regions')\n",
    "plt.xlabel('Region')\n",
    "plt.ylabel('number of customers')\n",
    "plt.legend()"
   ]
  },
  {
   "cell_type": "code",
   "execution_count": 74,
   "id": "8ca975fa",
   "metadata": {},
   "outputs": [],
   "source": [
    "bar_income_region.figure.savefig(os.path.join(path, '04 Analysis', 'Visualizations', 'bar_income_region2.final.png'))"
   ]
  },
  {
   "cell_type": "code",
   "execution_count": 75,
   "id": "dd2a278b",
   "metadata": {},
   "outputs": [
    {
     "data": {
      "text/plain": [
       "Low range products     9731785\n",
       "Mid range products      727149\n",
       "High-range products     401836\n",
       "Name: price_range_loc, dtype: int64"
      ]
     },
     "execution_count": 75,
     "metadata": {},
     "output_type": "execute_result"
    }
   ],
   "source": [
    "df_merged['price_range_loc'].value_counts()"
   ]
  },
  {
   "cell_type": "code",
   "execution_count": 76,
   "id": "86e10f7c",
   "metadata": {},
   "outputs": [
    {
     "data": {
      "text/plain": [
       "Middle class    24574247\n",
       "low income       3725391\n",
       "upper class      2847138\n",
       "Name: income_flag, dtype: int64"
      ]
     },
     "execution_count": 76,
     "metadata": {},
     "output_type": "execute_result"
    }
   ],
   "source": [
    "df_merged['income_flag'].value_counts()"
   ]
  },
  {
   "cell_type": "code",
   "execution_count": 77,
   "id": "4e725410",
   "metadata": {},
   "outputs": [
    {
     "data": {
      "text/html": [
       "<div>\n",
       "<style scoped>\n",
       "    .dataframe tbody tr th:only-of-type {\n",
       "        vertical-align: middle;\n",
       "    }\n",
       "\n",
       "    .dataframe tbody tr th {\n",
       "        vertical-align: top;\n",
       "    }\n",
       "\n",
       "    .dataframe thead th {\n",
       "        text-align: right;\n",
       "    }\n",
       "</style>\n",
       "<table border=\"1\" class=\"dataframe\">\n",
       "  <thead>\n",
       "    <tr style=\"text-align: right;\">\n",
       "      <th>income_flag</th>\n",
       "      <th>low income</th>\n",
       "      <th>Middle class</th>\n",
       "      <th>upper class</th>\n",
       "    </tr>\n",
       "    <tr>\n",
       "      <th>department</th>\n",
       "      <th></th>\n",
       "      <th></th>\n",
       "      <th></th>\n",
       "    </tr>\n",
       "  </thead>\n",
       "  <tbody>\n",
       "    <tr>\n",
       "      <th>produce</th>\n",
       "      <td>924512</td>\n",
       "      <td>7366932</td>\n",
       "      <td>818063</td>\n",
       "    </tr>\n",
       "    <tr>\n",
       "      <th>dairy eggs</th>\n",
       "      <td>557083</td>\n",
       "      <td>4149178</td>\n",
       "      <td>482395</td>\n",
       "    </tr>\n",
       "    <tr>\n",
       "      <th>snacks</th>\n",
       "      <td>602046</td>\n",
       "      <td>1950028</td>\n",
       "      <td>222061</td>\n",
       "    </tr>\n",
       "    <tr>\n",
       "      <th>beverages</th>\n",
       "      <td>414524</td>\n",
       "      <td>1937586</td>\n",
       "      <td>230037</td>\n",
       "    </tr>\n",
       "  </tbody>\n",
       "</table>\n",
       "</div>"
      ],
      "text/plain": [
       "income_flag  low income  Middle class  upper class\n",
       "department                                        \n",
       "produce          924512       7366932       818063\n",
       "dairy eggs       557083       4149178       482395\n",
       "snacks           602046       1950028       222061\n",
       "beverages        414524       1937586       230037"
      ]
     },
     "execution_count": 77,
     "metadata": {},
     "output_type": "execute_result"
    }
   ],
   "source": [
    "#Measuring and creating a bar chart for departments and income groups\n",
    "income_depart=pd.crosstab(index=df_age_depart2['department'], columns=df_merged['income_flag'], normalize='index')\n",
    "income_depart=income_depart.reindex(['low income', 'Middle class', 'upper class'], axis=\"columns\").reindex(['produce', 'dairy eggs', 'snacks', 'beverages'])\n",
    "income_depart_label=pd.crosstab(index=df_age_depart2['department'], columns=df_merged['income_flag'])\n",
    "income_depart_label=income_depart_label.reindex(['low income', 'Middle class', 'upper class'], axis=\"columns\").reindex(['produce', 'dairy eggs', 'snacks', 'beverages'])\n",
    "income_depart_label\n"
   ]
  },
  {
   "cell_type": "code",
   "execution_count": 131,
   "id": "45d974b8",
   "metadata": {},
   "outputs": [
    {
     "data": {
      "image/png": "[encoded data removed]",
      "text/plain": [
       "<Figure size 432x288 with 1 Axes>"
      ]
     },
     "metadata": {
      "needs_background": "light"
     },
     "output_type": "display_data"
    }
   ],
   "source": [
    "bar_income_depart=income_depart.plot.bar(stacked=True,color=['#5D8AA8', '#00308F', '#004F98'])\n",
    "plt.title('departments vs income groups')\n",
    "plt.xlabel('department')\n",
    "plt.legend(bbox_to_anchor=(1.02, 0.1), loc='upper left', borderaxespad=0)\n",
    "for n, y in enumerate([*age_depart3.index.values]):\n",
    "    for (proportion, count, x_loc) in zip(income_depart.loc[y],\n",
    "                                         income_depart_label.loc[y],\n",
    "                                          income_depart.loc[y].cumsum()):\n",
    "                \n",
    "        plt.text(y=(x_loc - proportion) + (proportion / 2),\n",
    "                 x=n - 0.11,\n",
    "                 s=f'{count}\\n({np.round(proportion * 100, 1)}%)', \n",
    "                 fontsize = 7,\n",
    "                 color=\"white\")"
   ]
  },
  {
   "cell_type": "code",
   "execution_count": 181,
   "id": "55593f2d",
   "metadata": {},
   "outputs": [],
   "source": [
    "bar_income_depart.figure.savefig(os.path.join(path, '04 Analysis', 'Visualizations', 'bar_income_depart2.final.png'))"
   ]
  },
  {
   "cell_type": "markdown",
   "id": "88970981",
   "metadata": {},
   "source": [
    "# creating customer profile: martial status"
   ]
  },
  {
   "cell_type": "markdown",
   "id": "3a5b078c",
   "metadata": {},
   "source": [
    "# martial status aggregate"
   ]
  },
  {
   "cell_type": "code",
   "execution_count": 80,
   "id": "7a2abde9",
   "metadata": {},
   "outputs": [
    {
     "data": {
      "text/plain": [
       "married                             21847076\n",
       "single                               5132016\n",
       "divorced/widowed                     2666413\n",
       "living with parents and siblings     1501271\n",
       "Name: Marital status, dtype: int64"
      ]
     },
     "execution_count": 80,
     "metadata": {},
     "output_type": "execute_result"
    }
   ],
   "source": [
    "df_merged['Marital status'].value_counts()"
   ]
  },
  {
   "cell_type": "code",
   "execution_count": 81,
   "id": "c9a81652",
   "metadata": {},
   "outputs": [
    {
     "data": {
      "image/png": "[encoded data removed]",
      "text/plain": [
       "<Figure size 432x288 with 1 Axes>"
      ]
     },
     "metadata": {
      "needs_background": "light"
     },
     "output_type": "display_data"
    }
   ],
   "source": [
    "#create bar chart\n",
    "bar_marital=df_merged['Marital status'].value_counts(dropna=False).sort_values(ascending=True).plot.bar(color=['blue'])"
   ]
  },
  {
   "cell_type": "code",
   "execution_count": 82,
   "id": "fd614fc3",
   "metadata": {},
   "outputs": [],
   "source": [
    "bar_marital.figure.savefig(os.path.join(path, '04 Analysis', 'Visualizations', 'bar_marital.final.png'))"
   ]
  },
  {
   "cell_type": "code",
   "execution_count": 83,
   "id": "ecf24290",
   "metadata": {},
   "outputs": [
    {
     "data": {
      "text/html": [
       "<div>\n",
       "<style scoped>\n",
       "    .dataframe tbody tr th:only-of-type {\n",
       "        vertical-align: middle;\n",
       "    }\n",
       "\n",
       "    .dataframe tbody tr th {\n",
       "        vertical-align: top;\n",
       "    }\n",
       "\n",
       "    .dataframe thead tr th {\n",
       "        text-align: left;\n",
       "    }\n",
       "\n",
       "    .dataframe thead tr:last-of-type th {\n",
       "        text-align: right;\n",
       "    }\n",
       "</style>\n",
       "<table border=\"1\" class=\"dataframe\">\n",
       "  <thead>\n",
       "    <tr>\n",
       "      <th></th>\n",
       "      <th colspan=\"3\" halign=\"left\">prices</th>\n",
       "    </tr>\n",
       "    <tr>\n",
       "      <th></th>\n",
       "      <th>mean</th>\n",
       "      <th>max</th>\n",
       "      <th>min</th>\n",
       "    </tr>\n",
       "    <tr>\n",
       "      <th>Marital status</th>\n",
       "      <th></th>\n",
       "      <th></th>\n",
       "      <th></th>\n",
       "    </tr>\n",
       "  </thead>\n",
       "  <tbody>\n",
       "    <tr>\n",
       "      <th>divorced/widowed</th>\n",
       "      <td>7.798819</td>\n",
       "      <td>25.0</td>\n",
       "      <td>1.0</td>\n",
       "    </tr>\n",
       "    <tr>\n",
       "      <th>living with parents and siblings</th>\n",
       "      <td>7.800265</td>\n",
       "      <td>25.0</td>\n",
       "      <td>1.0</td>\n",
       "    </tr>\n",
       "    <tr>\n",
       "      <th>married</th>\n",
       "      <td>7.791406</td>\n",
       "      <td>25.0</td>\n",
       "      <td>1.0</td>\n",
       "    </tr>\n",
       "    <tr>\n",
       "      <th>single</th>\n",
       "      <td>7.783433</td>\n",
       "      <td>25.0</td>\n",
       "      <td>1.0</td>\n",
       "    </tr>\n",
       "  </tbody>\n",
       "</table>\n",
       "</div>"
      ],
      "text/plain": [
       "                                    prices           \n",
       "                                      mean   max  min\n",
       "Marital status                                       \n",
       "divorced/widowed                  7.798819  25.0  1.0\n",
       "living with parents and siblings  7.800265  25.0  1.0\n",
       "married                           7.791406  25.0  1.0\n",
       "single                            7.783433  25.0  1.0"
      ]
     },
     "execution_count": 83,
     "metadata": {},
     "output_type": "execute_result"
    }
   ],
   "source": [
    "df_merged.groupby('Marital status').agg({'prices': ['mean', 'max', 'min']})"
   ]
  },
  {
   "cell_type": "code",
   "execution_count": 84,
   "id": "f777d201",
   "metadata": {},
   "outputs": [
    {
     "data": {
      "text/html": [
       "<div>\n",
       "<style scoped>\n",
       "    .dataframe tbody tr th:only-of-type {\n",
       "        vertical-align: middle;\n",
       "    }\n",
       "\n",
       "    .dataframe tbody tr th {\n",
       "        vertical-align: top;\n",
       "    }\n",
       "\n",
       "    .dataframe thead tr th {\n",
       "        text-align: left;\n",
       "    }\n",
       "\n",
       "    .dataframe thead tr:last-of-type th {\n",
       "        text-align: right;\n",
       "    }\n",
       "</style>\n",
       "<table border=\"1\" class=\"dataframe\">\n",
       "  <thead>\n",
       "    <tr>\n",
       "      <th></th>\n",
       "      <th colspan=\"3\" halign=\"left\">Median_since_last_ordered</th>\n",
       "    </tr>\n",
       "    <tr>\n",
       "      <th></th>\n",
       "      <th>mean</th>\n",
       "      <th>max</th>\n",
       "      <th>min</th>\n",
       "    </tr>\n",
       "    <tr>\n",
       "      <th>Marital status</th>\n",
       "      <th></th>\n",
       "      <th></th>\n",
       "      <th></th>\n",
       "    </tr>\n",
       "  </thead>\n",
       "  <tbody>\n",
       "    <tr>\n",
       "      <th>divorced/widowed</th>\n",
       "      <td>10.327257</td>\n",
       "      <td>30.0</td>\n",
       "      <td>0.0</td>\n",
       "    </tr>\n",
       "    <tr>\n",
       "      <th>living with parents and siblings</th>\n",
       "      <td>10.322749</td>\n",
       "      <td>30.0</td>\n",
       "      <td>0.0</td>\n",
       "    </tr>\n",
       "    <tr>\n",
       "      <th>married</th>\n",
       "      <td>10.417317</td>\n",
       "      <td>30.0</td>\n",
       "      <td>0.0</td>\n",
       "    </tr>\n",
       "    <tr>\n",
       "      <th>single</th>\n",
       "      <td>10.379239</td>\n",
       "      <td>30.0</td>\n",
       "      <td>0.0</td>\n",
       "    </tr>\n",
       "  </tbody>\n",
       "</table>\n",
       "</div>"
      ],
      "text/plain": [
       "                                 Median_since_last_ordered           \n",
       "                                                      mean   max  min\n",
       "Marital status                                                       \n",
       "divorced/widowed                                 10.327257  30.0  0.0\n",
       "living with parents and siblings                 10.322749  30.0  0.0\n",
       "married                                          10.417317  30.0  0.0\n",
       "single                                           10.379239  30.0  0.0"
      ]
     },
     "execution_count": 84,
     "metadata": {},
     "output_type": "execute_result"
    }
   ],
   "source": [
    "df_merged.groupby('Marital status').agg({'Median_since_last_ordered': ['mean', 'max', 'min']})"
   ]
  },
  {
   "cell_type": "markdown",
   "id": "32966542",
   "metadata": {},
   "source": [
    "# comparing profile with regions and departments:"
   ]
  },
  {
   "cell_type": "code",
   "execution_count": 132,
   "id": "0a4eab1f",
   "metadata": {},
   "outputs": [
    {
     "data": {
      "text/html": [
       "<div>\n",
       "<style scoped>\n",
       "    .dataframe tbody tr th:only-of-type {\n",
       "        vertical-align: middle;\n",
       "    }\n",
       "\n",
       "    .dataframe tbody tr th {\n",
       "        vertical-align: top;\n",
       "    }\n",
       "\n",
       "    .dataframe thead th {\n",
       "        text-align: right;\n",
       "    }\n",
       "</style>\n",
       "<table border=\"1\" class=\"dataframe\">\n",
       "  <thead>\n",
       "    <tr style=\"text-align: right;\">\n",
       "      <th>Marital status</th>\n",
       "      <th>divorced/widowed</th>\n",
       "      <th>living with parents and siblings</th>\n",
       "      <th>married</th>\n",
       "      <th>single</th>\n",
       "    </tr>\n",
       "    <tr>\n",
       "      <th>Region</th>\n",
       "      <th></th>\n",
       "      <th></th>\n",
       "      <th></th>\n",
       "      <th></th>\n",
       "    </tr>\n",
       "  </thead>\n",
       "  <tbody>\n",
       "    <tr>\n",
       "      <th>Midwest</th>\n",
       "      <td>646401</td>\n",
       "      <td>366517</td>\n",
       "      <td>5325608</td>\n",
       "      <td>1258799</td>\n",
       "    </tr>\n",
       "    <tr>\n",
       "      <th>Northeast</th>\n",
       "      <td>395660</td>\n",
       "      <td>218782</td>\n",
       "      <td>3126644</td>\n",
       "      <td>723567</td>\n",
       "    </tr>\n",
       "    <tr>\n",
       "      <th>South</th>\n",
       "      <td>920849</td>\n",
       "      <td>529584</td>\n",
       "      <td>7560642</td>\n",
       "      <td>1780810</td>\n",
       "    </tr>\n",
       "    <tr>\n",
       "      <th>West</th>\n",
       "      <td>703503</td>\n",
       "      <td>386388</td>\n",
       "      <td>5834182</td>\n",
       "      <td>1368840</td>\n",
       "    </tr>\n",
       "  </tbody>\n",
       "</table>\n",
       "</div>"
      ],
      "text/plain": [
       "Marital status  divorced/widowed  living with parents and siblings  married  \\\n",
       "Region                                                                        \n",
       "Midwest                   646401                            366517  5325608   \n",
       "Northeast                 395660                            218782  3126644   \n",
       "South                     920849                            529584  7560642   \n",
       "West                      703503                            386388  5834182   \n",
       "\n",
       "Marital status   single  \n",
       "Region                   \n",
       "Midwest         1258799  \n",
       "Northeast        723567  \n",
       "South           1780810  \n",
       "West            1368840  "
      ]
     },
     "execution_count": 132,
     "metadata": {},
     "output_type": "execute_result"
    }
   ],
   "source": [
    "# Measuring marital status in comparaison to region\n",
    "Marital_region=pd.crosstab(df_merged['Region'], df_merged['Marital status'].sort_values(ascending=False))\n",
    "Marital_region.reindex(['divorced/widowed', 'living with parents and sibilings', 'married', 'single'], axis=\"columns\").reindex(['South', 'West', 'Midwest', 'Northeast'])\n",
    "Marital_region"
   ]
  },
  {
   "cell_type": "code",
   "execution_count": 133,
   "id": "05eecd8d",
   "metadata": {},
   "outputs": [
    {
     "data": {
      "text/plain": [
       "<matplotlib.legend.Legend at 0x1bd641a2430>"
      ]
     },
     "execution_count": 133,
     "metadata": {},
     "output_type": "execute_result"
    },
    {
     "data": {
      "image/png": "[encoded data removed]",
      "text/plain": [
       "<Figure size 432x288 with 1 Axes>"
      ]
     },
     "metadata": {
      "needs_background": "light"
     },
     "output_type": "display_data"
    }
   ],
   "source": [
    "#Grouped bar chart. marital status vs regions\n",
    "bar_martial_region=Marital_region.plot.bar(color=['#5D8AA8', '#00308F', '#004F98'])\n",
    "plt.title('marital status in comparaison to region')\n",
    "plt.xlabel('Region')\n",
    "plt.ylabel('Marital status')\n",
    "plt.legend()"
   ]
  },
  {
   "cell_type": "code",
   "execution_count": 134,
   "id": "5ef78a7e",
   "metadata": {},
   "outputs": [],
   "source": [
    "bar_martial_region.figure.savefig(os.path.join(path, '04 Analysis', 'Visualizations', 'bar_martial_region.final.png'))"
   ]
  },
  {
   "cell_type": "code",
   "execution_count": 135,
   "id": "1cad5d1b",
   "metadata": {},
   "outputs": [
    {
     "data": {
      "text/html": [
       "<div>\n",
       "<style scoped>\n",
       "    .dataframe tbody tr th:only-of-type {\n",
       "        vertical-align: middle;\n",
       "    }\n",
       "\n",
       "    .dataframe tbody tr th {\n",
       "        vertical-align: top;\n",
       "    }\n",
       "\n",
       "    .dataframe thead th {\n",
       "        text-align: right;\n",
       "    }\n",
       "</style>\n",
       "<table border=\"1\" class=\"dataframe\">\n",
       "  <thead>\n",
       "    <tr style=\"text-align: right;\">\n",
       "      <th>Marital status</th>\n",
       "      <th>divorced/widowed</th>\n",
       "      <th>living with parents and siblings</th>\n",
       "      <th>married</th>\n",
       "      <th>single</th>\n",
       "    </tr>\n",
       "    <tr>\n",
       "      <th>department</th>\n",
       "      <th></th>\n",
       "      <th></th>\n",
       "      <th></th>\n",
       "      <th></th>\n",
       "    </tr>\n",
       "  </thead>\n",
       "  <tbody>\n",
       "    <tr>\n",
       "      <th>alcohol</th>\n",
       "      <td>12317</td>\n",
       "      <td>8794</td>\n",
       "      <td>101699</td>\n",
       "      <td>24700</td>\n",
       "    </tr>\n",
       "    <tr>\n",
       "      <th>babies</th>\n",
       "      <td>33844</td>\n",
       "      <td>19764</td>\n",
       "      <td>284816</td>\n",
       "      <td>69134</td>\n",
       "    </tr>\n",
       "    <tr>\n",
       "      <th>bakery</th>\n",
       "      <td>97108</td>\n",
       "      <td>54522</td>\n",
       "      <td>788912</td>\n",
       "      <td>187035</td>\n",
       "    </tr>\n",
       "    <tr>\n",
       "      <th>beverages</th>\n",
       "      <td>222365</td>\n",
       "      <td>120220</td>\n",
       "      <td>1812508</td>\n",
       "      <td>427054</td>\n",
       "    </tr>\n",
       "    <tr>\n",
       "      <th>breakfast</th>\n",
       "      <td>57330</td>\n",
       "      <td>33614</td>\n",
       "      <td>474270</td>\n",
       "      <td>110927</td>\n",
       "    </tr>\n",
       "    <tr>\n",
       "      <th>bulk</th>\n",
       "      <td>2647</td>\n",
       "      <td>1622</td>\n",
       "      <td>23779</td>\n",
       "      <td>5290</td>\n",
       "    </tr>\n",
       "    <tr>\n",
       "      <th>canned goods</th>\n",
       "      <td>85575</td>\n",
       "      <td>49556</td>\n",
       "      <td>722793</td>\n",
       "      <td>169041</td>\n",
       "    </tr>\n",
       "    <tr>\n",
       "      <th>dairy eggs</th>\n",
       "      <td>444495</td>\n",
       "      <td>253372</td>\n",
       "      <td>3635629</td>\n",
       "      <td>855160</td>\n",
       "    </tr>\n",
       "    <tr>\n",
       "      <th>deli</th>\n",
       "      <td>87139</td>\n",
       "      <td>48928</td>\n",
       "      <td>705880</td>\n",
       "      <td>168441</td>\n",
       "    </tr>\n",
       "    <tr>\n",
       "      <th>dry goods pasta</th>\n",
       "      <td>71292</td>\n",
       "      <td>40531</td>\n",
       "      <td>584915</td>\n",
       "      <td>136275</td>\n",
       "    </tr>\n",
       "    <tr>\n",
       "      <th>frozen</th>\n",
       "      <td>186975</td>\n",
       "      <td>105287</td>\n",
       "      <td>1508072</td>\n",
       "      <td>350376</td>\n",
       "    </tr>\n",
       "    <tr>\n",
       "      <th>household</th>\n",
       "      <td>59699</td>\n",
       "      <td>33952</td>\n",
       "      <td>501627</td>\n",
       "      <td>114692</td>\n",
       "    </tr>\n",
       "    <tr>\n",
       "      <th>international</th>\n",
       "      <td>22063</td>\n",
       "      <td>12673</td>\n",
       "      <td>181032</td>\n",
       "      <td>42982</td>\n",
       "    </tr>\n",
       "    <tr>\n",
       "      <th>meat seafood</th>\n",
       "      <td>58157</td>\n",
       "      <td>32946</td>\n",
       "      <td>481216</td>\n",
       "      <td>109421</td>\n",
       "    </tr>\n",
       "    <tr>\n",
       "      <th>missing</th>\n",
       "      <td>5329</td>\n",
       "      <td>3481</td>\n",
       "      <td>46704</td>\n",
       "      <td>11164</td>\n",
       "    </tr>\n",
       "    <tr>\n",
       "      <th>other</th>\n",
       "      <td>2891</td>\n",
       "      <td>1872</td>\n",
       "      <td>24268</td>\n",
       "      <td>5914</td>\n",
       "    </tr>\n",
       "    <tr>\n",
       "      <th>pantry</th>\n",
       "      <td>153689</td>\n",
       "      <td>87677</td>\n",
       "      <td>1266059</td>\n",
       "      <td>295022</td>\n",
       "    </tr>\n",
       "    <tr>\n",
       "      <th>personal care</th>\n",
       "      <td>37209</td>\n",
       "      <td>20667</td>\n",
       "      <td>301906</td>\n",
       "      <td>70783</td>\n",
       "    </tr>\n",
       "    <tr>\n",
       "      <th>pets</th>\n",
       "      <td>8070</td>\n",
       "      <td>5481</td>\n",
       "      <td>64770</td>\n",
       "      <td>15715</td>\n",
       "    </tr>\n",
       "    <tr>\n",
       "      <th>produce</th>\n",
       "      <td>780293</td>\n",
       "      <td>433676</td>\n",
       "      <td>6389507</td>\n",
       "      <td>1506031</td>\n",
       "    </tr>\n",
       "    <tr>\n",
       "      <th>snacks</th>\n",
       "      <td>237926</td>\n",
       "      <td>132636</td>\n",
       "      <td>1946714</td>\n",
       "      <td>456859</td>\n",
       "    </tr>\n",
       "  </tbody>\n",
       "</table>\n",
       "</div>"
      ],
      "text/plain": [
       "Marital status   divorced/widowed  living with parents and siblings  married  \\\n",
       "department                                                                     \n",
       "alcohol                     12317                              8794   101699   \n",
       "babies                      33844                             19764   284816   \n",
       "bakery                      97108                             54522   788912   \n",
       "beverages                  222365                            120220  1812508   \n",
       "breakfast                   57330                             33614   474270   \n",
       "bulk                         2647                              1622    23779   \n",
       "canned goods                85575                             49556   722793   \n",
       "dairy eggs                 444495                            253372  3635629   \n",
       "deli                        87139                             48928   705880   \n",
       "dry goods pasta             71292                             40531   584915   \n",
       "frozen                     186975                            105287  1508072   \n",
       "household                   59699                             33952   501627   \n",
       "international               22063                             12673   181032   \n",
       "meat seafood                58157                             32946   481216   \n",
       "missing                      5329                              3481    46704   \n",
       "other                        2891                              1872    24268   \n",
       "pantry                     153689                             87677  1266059   \n",
       "personal care               37209                             20667   301906   \n",
       "pets                         8070                              5481    64770   \n",
       "produce                    780293                            433676  6389507   \n",
       "snacks                     237926                            132636  1946714   \n",
       "\n",
       "Marital status    single  \n",
       "department                \n",
       "alcohol            24700  \n",
       "babies             69134  \n",
       "bakery            187035  \n",
       "beverages         427054  \n",
       "breakfast         110927  \n",
       "bulk                5290  \n",
       "canned goods      169041  \n",
       "dairy eggs        855160  \n",
       "deli              168441  \n",
       "dry goods pasta   136275  \n",
       "frozen            350376  \n",
       "household         114692  \n",
       "international      42982  \n",
       "meat seafood      109421  \n",
       "missing            11164  \n",
       "other               5914  \n",
       "pantry            295022  \n",
       "personal care      70783  \n",
       "pets               15715  \n",
       "produce          1506031  \n",
       "snacks            456859  "
      ]
     },
     "execution_count": 135,
     "metadata": {},
     "output_type": "execute_result"
    }
   ],
   "source": [
    "#Measuring departments vs Marital status\n",
    "Marital_depart2=pd.crosstab(df_merged['department'], df_merged['Marital status'])\n",
    "Marital_depart2=Marital_depart2.reindex(['divorced/widowed', 'living with parents and siblings', 'married', 'single'], axis=\"columns\")\n",
    "Marital_depart2"
   ]
  },
  {
   "cell_type": "code",
   "execution_count": 136,
   "id": "127418c0",
   "metadata": {},
   "outputs": [
    {
     "data": {
      "text/html": [
       "<div>\n",
       "<style scoped>\n",
       "    .dataframe tbody tr th:only-of-type {\n",
       "        vertical-align: middle;\n",
       "    }\n",
       "\n",
       "    .dataframe tbody tr th {\n",
       "        vertical-align: top;\n",
       "    }\n",
       "\n",
       "    .dataframe thead th {\n",
       "        text-align: right;\n",
       "    }\n",
       "</style>\n",
       "<table border=\"1\" class=\"dataframe\">\n",
       "  <thead>\n",
       "    <tr style=\"text-align: right;\">\n",
       "      <th>Marital status</th>\n",
       "      <th>divorced/widowed</th>\n",
       "      <th>living with parents and siblings</th>\n",
       "      <th>married</th>\n",
       "      <th>single</th>\n",
       "    </tr>\n",
       "    <tr>\n",
       "      <th>department</th>\n",
       "      <th></th>\n",
       "      <th></th>\n",
       "      <th></th>\n",
       "      <th></th>\n",
       "    </tr>\n",
       "  </thead>\n",
       "  <tbody>\n",
       "    <tr>\n",
       "      <th>produce</th>\n",
       "      <td>0.085657</td>\n",
       "      <td>0.047607</td>\n",
       "      <td>0.701411</td>\n",
       "      <td>0.165325</td>\n",
       "    </tr>\n",
       "    <tr>\n",
       "      <th>dairy eggs</th>\n",
       "      <td>0.085667</td>\n",
       "      <td>0.048832</td>\n",
       "      <td>0.700688</td>\n",
       "      <td>0.164813</td>\n",
       "    </tr>\n",
       "    <tr>\n",
       "      <th>snacks</th>\n",
       "      <td>0.085766</td>\n",
       "      <td>0.047812</td>\n",
       "      <td>0.701737</td>\n",
       "      <td>0.164685</td>\n",
       "    </tr>\n",
       "    <tr>\n",
       "      <th>beverages</th>\n",
       "      <td>0.086116</td>\n",
       "      <td>0.046558</td>\n",
       "      <td>0.701938</td>\n",
       "      <td>0.165387</td>\n",
       "    </tr>\n",
       "  </tbody>\n",
       "</table>\n",
       "</div>"
      ],
      "text/plain": [
       "Marital status  divorced/widowed  living with parents and siblings   married  \\\n",
       "department                                                                     \n",
       "produce                 0.085657                          0.047607  0.701411   \n",
       "dairy eggs              0.085667                          0.048832  0.700688   \n",
       "snacks                  0.085766                          0.047812  0.701737   \n",
       "beverages               0.086116                          0.046558  0.701938   \n",
       "\n",
       "Marital status    single  \n",
       "department                \n",
       "produce         0.165325  \n",
       "dairy eggs      0.164813  \n",
       "snacks          0.164685  \n",
       "beverages       0.165387  "
      ]
     },
     "execution_count": 136,
     "metadata": {},
     "output_type": "execute_result"
    }
   ],
   "source": [
    "#creating a bar chart for department vs marital status\n",
    "Marital_depart3=pd.crosstab(index=df_age_depart2['department'], columns=df_merged['Marital status'], normalize='index')\n",
    "Marital_depart3=Marital_depart3.reindex(['divorced/widowed', 'living with parents and siblings', 'married', 'single'], axis=\"columns\").reindex(['produce', 'dairy eggs', 'snacks', 'beverages'])\n",
    "Marital_depart3_labels=pd.crosstab(index=df_age_depart2['department'], columns=df_merged['Marital status'])\n",
    "Marital_depart3_labels=Marital_depart3_labels.reindex(['divorced/widowed', 'living with parents and siblings', 'married', 'single'], axis=\"columns\").reindex(['produce', 'dairy eggs', 'snacks', 'beverages'])\n",
    "Marital_depart3"
   ]
  },
  {
   "cell_type": "code",
   "execution_count": 173,
   "id": "d34d7bb6",
   "metadata": {},
   "outputs": [
    {
     "data": {
      "image/png": "[encoded data removed]",
      "text/plain": [
       "<Figure size 432x288 with 1 Axes>"
      ]
     },
     "metadata": {
      "needs_background": "light"
     },
     "output_type": "display_data"
    }
   ],
   "source": [
    "bar_Martial_depart=Marital_depart3.plot.bar(stacked=True,color=['#5D8AA8', '#00308F', '#004F98','blue'])\n",
    "plt.title('department vs marital status')\n",
    "plt.xlabel('department')\n",
    "plt.legend(bbox_to_anchor=(1.02, 0.1), loc='upper left', borderaxespad=0)\n",
    "for n, y in enumerate([*age_depart3.index.values]):\n",
    "    for (proportion, count, x_loc) in zip(Marital_depart3.loc[y],\n",
    "                                         Marital_depart3_labels.loc[y],\n",
    "                                          Marital_depart3.loc[y].cumsum()):\n",
    "                \n",
    "        plt.text(y=(x_loc - proportion) + (proportion / 2),\n",
    "                 x=n - 0.11,\n",
    "                 s=f'{count}\\n({np.round(proportion * 100, 1)}%)', \n",
    "                 fontsize = 5,\n",
    "                 color=\"white\")"
   ]
  },
  {
   "cell_type": "code",
   "execution_count": 180,
   "id": "80e0d07e",
   "metadata": {},
   "outputs": [],
   "source": [
    "bar_Martial_depart.figure.savefig(os.path.join(path, '04 Analysis', 'Visualizations', 'bar_Martial_depart.final.png'))"
   ]
  },
  {
   "cell_type": "markdown",
   "id": "7f35be17",
   "metadata": {},
   "source": [
    "# creating customer profile: Dependent flag"
   ]
  },
  {
   "cell_type": "code",
   "execution_count": 42,
   "id": "49872b7d",
   "metadata": {},
   "outputs": [],
   "source": [
    "#creating a depended flag\n",
    "df_merged.loc[df_merged['No of dependents']==0, 'dependent_flag'] = 'No dependents'\n",
    "df_merged.loc[df_merged['No of dependents'] >0, 'dependent_flag'] = 'Parent'"
   ]
  },
  {
   "cell_type": "code",
   "execution_count": 43,
   "id": "8c0c5cf2",
   "metadata": {},
   "outputs": [
    {
     "data": {
      "text/plain": [
       "Parent           23348347\n",
       "No dependents     7798429\n",
       "Name: dependent_flag, dtype: int64"
      ]
     },
     "execution_count": 43,
     "metadata": {},
     "output_type": "execute_result"
    }
   ],
   "source": [
    "df_merged['dependent_flag'].value_counts()"
   ]
  },
  {
   "cell_type": "code",
   "execution_count": 44,
   "id": "d4f5ca1f",
   "metadata": {},
   "outputs": [
    {
     "data": {
      "image/png": "[encoded data removed]",
      "text/plain": [
       "<Figure size 432x288 with 1 Axes>"
      ]
     },
     "metadata": {
      "needs_background": "light"
     },
     "output_type": "display_data"
    }
   ],
   "source": [
    "#create bar chart\n",
    "bar_dependentflag=df_merged['dependent_flag'].value_counts(dropna=False).sort_values(ascending=True).plot.bar(color=['blue'])"
   ]
  },
  {
   "cell_type": "code",
   "execution_count": 45,
   "id": "24751131",
   "metadata": {},
   "outputs": [],
   "source": [
    "bar_dependentflag.figure.savefig(os.path.join(path, '04 Analysis', 'Visualizations', 'bar_dependentflag.final.png'))"
   ]
  },
  {
   "cell_type": "markdown",
   "id": "aab3a32e",
   "metadata": {},
   "source": [
    "# aggregating the dependent flag"
   ]
  },
  {
   "cell_type": "code",
   "execution_count": 46,
   "id": "6a2c7c0d",
   "metadata": {},
   "outputs": [
    {
     "data": {
      "text/html": [
       "<div>\n",
       "<style scoped>\n",
       "    .dataframe tbody tr th:only-of-type {\n",
       "        vertical-align: middle;\n",
       "    }\n",
       "\n",
       "    .dataframe tbody tr th {\n",
       "        vertical-align: top;\n",
       "    }\n",
       "\n",
       "    .dataframe thead tr th {\n",
       "        text-align: left;\n",
       "    }\n",
       "\n",
       "    .dataframe thead tr:last-of-type th {\n",
       "        text-align: right;\n",
       "    }\n",
       "</style>\n",
       "<table border=\"1\" class=\"dataframe\">\n",
       "  <thead>\n",
       "    <tr>\n",
       "      <th></th>\n",
       "      <th colspan=\"3\" halign=\"left\">prices</th>\n",
       "    </tr>\n",
       "    <tr>\n",
       "      <th></th>\n",
       "      <th>mean</th>\n",
       "      <th>max</th>\n",
       "      <th>min</th>\n",
       "    </tr>\n",
       "    <tr>\n",
       "      <th>dependent_flag</th>\n",
       "      <th></th>\n",
       "      <th></th>\n",
       "      <th></th>\n",
       "    </tr>\n",
       "  </thead>\n",
       "  <tbody>\n",
       "    <tr>\n",
       "      <th>No dependents</th>\n",
       "      <td>7.788694</td>\n",
       "      <td>25.0</td>\n",
       "      <td>1.0</td>\n",
       "    </tr>\n",
       "    <tr>\n",
       "      <th>Parent</th>\n",
       "      <td>7.791976</td>\n",
       "      <td>25.0</td>\n",
       "      <td>1.0</td>\n",
       "    </tr>\n",
       "  </tbody>\n",
       "</table>\n",
       "</div>"
      ],
      "text/plain": [
       "                  prices           \n",
       "                    mean   max  min\n",
       "dependent_flag                     \n",
       "No dependents   7.788694  25.0  1.0\n",
       "Parent          7.791976  25.0  1.0"
      ]
     },
     "execution_count": 46,
     "metadata": {},
     "output_type": "execute_result"
    }
   ],
   "source": [
    "df_merged.groupby('dependent_flag').agg({'prices': ['mean', 'max', 'min']})"
   ]
  },
  {
   "cell_type": "code",
   "execution_count": 47,
   "id": "08a61e9c",
   "metadata": {},
   "outputs": [
    {
     "data": {
      "text/html": [
       "<div>\n",
       "<style scoped>\n",
       "    .dataframe tbody tr th:only-of-type {\n",
       "        vertical-align: middle;\n",
       "    }\n",
       "\n",
       "    .dataframe tbody tr th {\n",
       "        vertical-align: top;\n",
       "    }\n",
       "\n",
       "    .dataframe thead tr th {\n",
       "        text-align: left;\n",
       "    }\n",
       "\n",
       "    .dataframe thead tr:last-of-type th {\n",
       "        text-align: right;\n",
       "    }\n",
       "</style>\n",
       "<table border=\"1\" class=\"dataframe\">\n",
       "  <thead>\n",
       "    <tr>\n",
       "      <th></th>\n",
       "      <th colspan=\"3\" halign=\"left\">Median_since_last_ordered</th>\n",
       "    </tr>\n",
       "    <tr>\n",
       "      <th></th>\n",
       "      <th>mean</th>\n",
       "      <th>max</th>\n",
       "      <th>min</th>\n",
       "    </tr>\n",
       "    <tr>\n",
       "      <th>dependent_flag</th>\n",
       "      <th></th>\n",
       "      <th></th>\n",
       "      <th></th>\n",
       "    </tr>\n",
       "  </thead>\n",
       "  <tbody>\n",
       "    <tr>\n",
       "      <th>No dependents</th>\n",
       "      <td>10.361465</td>\n",
       "      <td>30.0</td>\n",
       "      <td>0.0</td>\n",
       "    </tr>\n",
       "    <tr>\n",
       "      <th>Parent</th>\n",
       "      <td>10.411236</td>\n",
       "      <td>30.0</td>\n",
       "      <td>0.0</td>\n",
       "    </tr>\n",
       "  </tbody>\n",
       "</table>\n",
       "</div>"
      ],
      "text/plain": [
       "               Median_since_last_ordered           \n",
       "                                    mean   max  min\n",
       "dependent_flag                                     \n",
       "No dependents                  10.361465  30.0  0.0\n",
       "Parent                         10.411236  30.0  0.0"
      ]
     },
     "execution_count": 47,
     "metadata": {},
     "output_type": "execute_result"
    }
   ],
   "source": [
    "df_merged.groupby('dependent_flag').agg({'Median_since_last_ordered': ['mean', 'max', 'min']})"
   ]
  },
  {
   "cell_type": "markdown",
   "id": "db0690e8",
   "metadata": {},
   "source": [
    "# comparing profile with regions and departments:"
   ]
  },
  {
   "cell_type": "code",
   "execution_count": 48,
   "id": "c481165c",
   "metadata": {},
   "outputs": [
    {
     "data": {
      "text/html": [
       "<div>\n",
       "<style scoped>\n",
       "    .dataframe tbody tr th:only-of-type {\n",
       "        vertical-align: middle;\n",
       "    }\n",
       "\n",
       "    .dataframe tbody tr th {\n",
       "        vertical-align: top;\n",
       "    }\n",
       "\n",
       "    .dataframe thead th {\n",
       "        text-align: right;\n",
       "    }\n",
       "</style>\n",
       "<table border=\"1\" class=\"dataframe\">\n",
       "  <thead>\n",
       "    <tr style=\"text-align: right;\">\n",
       "      <th>dependent_flag</th>\n",
       "      <th>No dependents</th>\n",
       "      <th>Parent</th>\n",
       "    </tr>\n",
       "    <tr>\n",
       "      <th>Region</th>\n",
       "      <th></th>\n",
       "      <th></th>\n",
       "    </tr>\n",
       "  </thead>\n",
       "  <tbody>\n",
       "    <tr>\n",
       "      <th>South</th>\n",
       "      <td>2701659</td>\n",
       "      <td>8090226</td>\n",
       "    </tr>\n",
       "    <tr>\n",
       "      <th>West</th>\n",
       "      <td>2072343</td>\n",
       "      <td>6220570</td>\n",
       "    </tr>\n",
       "    <tr>\n",
       "      <th>Midwest</th>\n",
       "      <td>1905200</td>\n",
       "      <td>5692125</td>\n",
       "    </tr>\n",
       "    <tr>\n",
       "      <th>Northeast</th>\n",
       "      <td>1119227</td>\n",
       "      <td>3345426</td>\n",
       "    </tr>\n",
       "  </tbody>\n",
       "</table>\n",
       "</div>"
      ],
      "text/plain": [
       "dependent_flag  No dependents   Parent\n",
       "Region                                \n",
       "South                 2701659  8090226\n",
       "West                  2072343  6220570\n",
       "Midwest               1905200  5692125\n",
       "Northeast             1119227  3345426"
      ]
     },
     "execution_count": 48,
     "metadata": {},
     "output_type": "execute_result"
    }
   ],
   "source": [
    "# dependent_flag in comparaison to region\n",
    "dependent_region=pd.crosstab(df_merged['Region'], df_merged['dependent_flag'].sort_values(ascending=False))\n",
    "dependent_region=dependent_region.reindex(['No dependents', 'Parent'], axis=\"columns\").reindex(['South', 'West', 'Midwest', 'Northeast'])\n",
    "dependent_region"
   ]
  },
  {
   "cell_type": "code",
   "execution_count": 49,
   "id": "9b569f95",
   "metadata": {},
   "outputs": [
    {
     "data": {
      "text/plain": [
       "<matplotlib.legend.Legend at 0x1bd16ae2280>"
      ]
     },
     "execution_count": 49,
     "metadata": {},
     "output_type": "execute_result"
    },
    {
     "data": {
      "image/png": "[encoded data removed]",
      "text/plain": [
       "<Figure size 432x288 with 1 Axes>"
      ]
     },
     "metadata": {
      "needs_background": "light"
     },
     "output_type": "display_data"
    }
   ],
   "source": [
    "#Grouped bar chart. dependent vs regions\n",
    "bar_dependent_region=dependent_region.plot.bar(color=['#5D8AA8', '#00308F'])\n",
    "plt.title('dependent vs regions')\n",
    "plt.xlabel('Region')\n",
    "plt.ylabel('dependent_flag')\n",
    "plt.legend()"
   ]
  },
  {
   "cell_type": "code",
   "execution_count": 50,
   "id": "7e77e136",
   "metadata": {},
   "outputs": [],
   "source": [
    "bar_dependent_region.figure.savefig(os.path.join(path, '04 Analysis', 'Visualizations', 'bar_dependent_region.final.png'))"
   ]
  },
  {
   "cell_type": "code",
   "execution_count": 139,
   "id": "7773cf77",
   "metadata": {},
   "outputs": [
    {
     "data": {
      "text/html": [
       "<div>\n",
       "<style scoped>\n",
       "    .dataframe tbody tr th:only-of-type {\n",
       "        vertical-align: middle;\n",
       "    }\n",
       "\n",
       "    .dataframe tbody tr th {\n",
       "        vertical-align: top;\n",
       "    }\n",
       "\n",
       "    .dataframe thead th {\n",
       "        text-align: right;\n",
       "    }\n",
       "</style>\n",
       "<table border=\"1\" class=\"dataframe\">\n",
       "  <thead>\n",
       "    <tr style=\"text-align: right;\">\n",
       "      <th>dependent_flag</th>\n",
       "      <th>No dependents</th>\n",
       "      <th>Parent</th>\n",
       "    </tr>\n",
       "    <tr>\n",
       "      <th>department</th>\n",
       "      <th></th>\n",
       "      <th></th>\n",
       "    </tr>\n",
       "  </thead>\n",
       "  <tbody>\n",
       "    <tr>\n",
       "      <th>alcohol</th>\n",
       "      <td>37017</td>\n",
       "      <td>110493</td>\n",
       "    </tr>\n",
       "    <tr>\n",
       "      <th>babies</th>\n",
       "      <td>102978</td>\n",
       "      <td>304580</td>\n",
       "    </tr>\n",
       "    <tr>\n",
       "      <th>bakery</th>\n",
       "      <td>284143</td>\n",
       "      <td>843434</td>\n",
       "    </tr>\n",
       "    <tr>\n",
       "      <th>beverages</th>\n",
       "      <td>649419</td>\n",
       "      <td>1932728</td>\n",
       "    </tr>\n",
       "    <tr>\n",
       "      <th>breakfast</th>\n",
       "      <td>168257</td>\n",
       "      <td>507884</td>\n",
       "    </tr>\n",
       "    <tr>\n",
       "      <th>bulk</th>\n",
       "      <td>7937</td>\n",
       "      <td>25401</td>\n",
       "    </tr>\n",
       "    <tr>\n",
       "      <th>canned goods</th>\n",
       "      <td>254616</td>\n",
       "      <td>772349</td>\n",
       "    </tr>\n",
       "    <tr>\n",
       "      <th>dairy eggs</th>\n",
       "      <td>1299655</td>\n",
       "      <td>3889001</td>\n",
       "    </tr>\n",
       "    <tr>\n",
       "      <th>deli</th>\n",
       "      <td>255580</td>\n",
       "      <td>754808</td>\n",
       "    </tr>\n",
       "    <tr>\n",
       "      <th>dry goods pasta</th>\n",
       "      <td>207567</td>\n",
       "      <td>625446</td>\n",
       "    </tr>\n",
       "    <tr>\n",
       "      <th>frozen</th>\n",
       "      <td>537351</td>\n",
       "      <td>1613359</td>\n",
       "    </tr>\n",
       "    <tr>\n",
       "      <th>household</th>\n",
       "      <td>174391</td>\n",
       "      <td>535579</td>\n",
       "    </tr>\n",
       "    <tr>\n",
       "      <th>international</th>\n",
       "      <td>65045</td>\n",
       "      <td>193705</td>\n",
       "    </tr>\n",
       "    <tr>\n",
       "      <th>meat seafood</th>\n",
       "      <td>167578</td>\n",
       "      <td>514162</td>\n",
       "    </tr>\n",
       "    <tr>\n",
       "      <th>missing</th>\n",
       "      <td>16493</td>\n",
       "      <td>50185</td>\n",
       "    </tr>\n",
       "    <tr>\n",
       "      <th>other</th>\n",
       "      <td>8805</td>\n",
       "      <td>26140</td>\n",
       "    </tr>\n",
       "    <tr>\n",
       "      <th>pantry</th>\n",
       "      <td>448711</td>\n",
       "      <td>1353736</td>\n",
       "    </tr>\n",
       "    <tr>\n",
       "      <th>personal care</th>\n",
       "      <td>107992</td>\n",
       "      <td>322573</td>\n",
       "    </tr>\n",
       "    <tr>\n",
       "      <th>pets</th>\n",
       "      <td>23785</td>\n",
       "      <td>70251</td>\n",
       "    </tr>\n",
       "    <tr>\n",
       "      <th>produce</th>\n",
       "      <td>2286324</td>\n",
       "      <td>6823183</td>\n",
       "    </tr>\n",
       "    <tr>\n",
       "      <th>snacks</th>\n",
       "      <td>694785</td>\n",
       "      <td>2079350</td>\n",
       "    </tr>\n",
       "  </tbody>\n",
       "</table>\n",
       "</div>"
      ],
      "text/plain": [
       "dependent_flag   No dependents   Parent\n",
       "department                             \n",
       "alcohol                  37017   110493\n",
       "babies                  102978   304580\n",
       "bakery                  284143   843434\n",
       "beverages               649419  1932728\n",
       "breakfast               168257   507884\n",
       "bulk                      7937    25401\n",
       "canned goods            254616   772349\n",
       "dairy eggs             1299655  3889001\n",
       "deli                    255580   754808\n",
       "dry goods pasta         207567   625446\n",
       "frozen                  537351  1613359\n",
       "household               174391   535579\n",
       "international            65045   193705\n",
       "meat seafood            167578   514162\n",
       "missing                  16493    50185\n",
       "other                     8805    26140\n",
       "pantry                  448711  1353736\n",
       "personal care           107992   322573\n",
       "pets                     23785    70251\n",
       "produce                2286324  6823183\n",
       "snacks                  694785  2079350"
      ]
     },
     "execution_count": 139,
     "metadata": {},
     "output_type": "execute_result"
    }
   ],
   "source": [
    "#Measuring departments vs dependent_flag\n",
    "Dependent_depart2=pd.crosstab(df_merged['department'], df_merged['dependent_flag'])\n",
    "Dependent_depart2=Dependent_depart2.reindex(['No dependents', 'Parent'], axis=\"columns\")\n",
    "Dependent_depart2"
   ]
  },
  {
   "cell_type": "code",
   "execution_count": 140,
   "id": "192d79e9",
   "metadata": {},
   "outputs": [
    {
     "data": {
      "text/html": [
       "<div>\n",
       "<style scoped>\n",
       "    .dataframe tbody tr th:only-of-type {\n",
       "        vertical-align: middle;\n",
       "    }\n",
       "\n",
       "    .dataframe tbody tr th {\n",
       "        vertical-align: top;\n",
       "    }\n",
       "\n",
       "    .dataframe thead th {\n",
       "        text-align: right;\n",
       "    }\n",
       "</style>\n",
       "<table border=\"1\" class=\"dataframe\">\n",
       "  <thead>\n",
       "    <tr style=\"text-align: right;\">\n",
       "      <th>dependent_flag</th>\n",
       "      <th>No dependents</th>\n",
       "      <th>Parent</th>\n",
       "    </tr>\n",
       "    <tr>\n",
       "      <th>department</th>\n",
       "      <th></th>\n",
       "      <th></th>\n",
       "    </tr>\n",
       "  </thead>\n",
       "  <tbody>\n",
       "    <tr>\n",
       "      <th>produce</th>\n",
       "      <td>0.250982</td>\n",
       "      <td>0.749018</td>\n",
       "    </tr>\n",
       "    <tr>\n",
       "      <th>dairy eggs</th>\n",
       "      <td>0.250480</td>\n",
       "      <td>0.749520</td>\n",
       "    </tr>\n",
       "    <tr>\n",
       "      <th>snacks</th>\n",
       "      <td>0.250451</td>\n",
       "      <td>0.749549</td>\n",
       "    </tr>\n",
       "    <tr>\n",
       "      <th>beverages</th>\n",
       "      <td>0.251503</td>\n",
       "      <td>0.748497</td>\n",
       "    </tr>\n",
       "  </tbody>\n",
       "</table>\n",
       "</div>"
      ],
      "text/plain": [
       "dependent_flag  No dependents    Parent\n",
       "department                             \n",
       "produce              0.250982  0.749018\n",
       "dairy eggs           0.250480  0.749520\n",
       "snacks               0.250451  0.749549\n",
       "beverages            0.251503  0.748497"
      ]
     },
     "execution_count": 140,
     "metadata": {},
     "output_type": "execute_result"
    }
   ],
   "source": [
    "#creating a bar chart for department vs dependent_flag\n",
    "Dependent_depart3=pd.crosstab(index=df_age_depart2['department'], columns=df_merged['dependent_flag'], normalize='index')\n",
    "Dependent_depart3=Dependent_depart3.reindex(['No dependents', 'Parent'], axis=\"columns\").reindex(['produce', 'dairy eggs', 'snacks', 'beverages'])\n",
    "Dependent_depart3_labels=pd.crosstab(index=df_age_depart2['department'], columns=df_merged['dependent_flag'])\n",
    "Dependent_depart3_labels=Dependent_depart3_labels.reindex(['No dependents', 'Parent'], axis=\"columns\").reindex(['produce', 'dairy eggs', 'snacks', 'beverages'])\n",
    "Dependent_depart3"
   ]
  },
  {
   "cell_type": "code",
   "execution_count": 141,
   "id": "9f01ffec",
   "metadata": {},
   "outputs": [
    {
     "data": {
      "image/png": "[encoded data removed]",
      "text/plain": [
       "<Figure size 432x288 with 1 Axes>"
      ]
     },
     "metadata": {
      "needs_background": "light"
     },
     "output_type": "display_data"
    }
   ],
   "source": [
    "bar_Dependent_depart3=Dependent_depart3.plot.bar(stacked=True,color=['#5D8AA8', '#00308F'])\n",
    "plt.title('department vs marital status')\n",
    "plt.xlabel('department')\n",
    "plt.legend()\n",
    "for n, y in enumerate([*age_depart3.index.values]):\n",
    "    for (proportion, count, x_loc) in zip(Dependent_depart3.loc[y],\n",
    "                                         Dependent_depart3_labels.loc[y],\n",
    "                                          Dependent_depart3.loc[y].cumsum()):\n",
    "                \n",
    "        plt.text(y=(x_loc - proportion) + (proportion / 2),\n",
    "                 x=n - 0.11,\n",
    "                 s=f'{count}\\n({np.round(proportion * 100, 1)}%)', \n",
    "                 color=\"white\")"
   ]
  },
  {
   "cell_type": "code",
   "execution_count": 142,
   "id": "77497424",
   "metadata": {},
   "outputs": [],
   "source": [
    "bar_Dependent_depart3.figure.savefig(os.path.join(path, '04 Analysis', 'Visualizations', 'bar_Dependent_depart3.final.png'))"
   ]
  },
  {
   "cell_type": "markdown",
   "id": "ab6cd273",
   "metadata": {},
   "source": [
    "# Determening which departements to create flags"
   ]
  },
  {
   "cell_type": "code",
   "execution_count": 52,
   "id": "0a6f0365",
   "metadata": {},
   "outputs": [],
   "source": [
    "#flag based on certain food departments\n",
    "df_depart=pd.read_csv(os.path.join(path, '02 Data', 'Prepared data', 'departments_wrangled.csv'),index_col=False)"
   ]
  },
  {
   "cell_type": "code",
   "execution_count": 53,
   "id": "028ad50e",
   "metadata": {},
   "outputs": [
    {
     "data": {
      "text/html": [
       "<div>\n",
       "<style scoped>\n",
       "    .dataframe tbody tr th:only-of-type {\n",
       "        vertical-align: middle;\n",
       "    }\n",
       "\n",
       "    .dataframe tbody tr th {\n",
       "        vertical-align: top;\n",
       "    }\n",
       "\n",
       "    .dataframe thead th {\n",
       "        text-align: right;\n",
       "    }\n",
       "</style>\n",
       "<table border=\"1\" class=\"dataframe\">\n",
       "  <thead>\n",
       "    <tr style=\"text-align: right;\">\n",
       "      <th></th>\n",
       "      <th>Unnamed: 0</th>\n",
       "      <th>department</th>\n",
       "    </tr>\n",
       "  </thead>\n",
       "  <tbody>\n",
       "    <tr>\n",
       "      <th>0</th>\n",
       "      <td>1</td>\n",
       "      <td>frozen</td>\n",
       "    </tr>\n",
       "    <tr>\n",
       "      <th>1</th>\n",
       "      <td>2</td>\n",
       "      <td>other</td>\n",
       "    </tr>\n",
       "    <tr>\n",
       "      <th>2</th>\n",
       "      <td>3</td>\n",
       "      <td>bakery</td>\n",
       "    </tr>\n",
       "    <tr>\n",
       "      <th>3</th>\n",
       "      <td>4</td>\n",
       "      <td>produce</td>\n",
       "    </tr>\n",
       "    <tr>\n",
       "      <th>4</th>\n",
       "      <td>5</td>\n",
       "      <td>alcohol</td>\n",
       "    </tr>\n",
       "    <tr>\n",
       "      <th>5</th>\n",
       "      <td>6</td>\n",
       "      <td>international</td>\n",
       "    </tr>\n",
       "    <tr>\n",
       "      <th>6</th>\n",
       "      <td>7</td>\n",
       "      <td>beverages</td>\n",
       "    </tr>\n",
       "    <tr>\n",
       "      <th>7</th>\n",
       "      <td>8</td>\n",
       "      <td>pets</td>\n",
       "    </tr>\n",
       "    <tr>\n",
       "      <th>8</th>\n",
       "      <td>9</td>\n",
       "      <td>dry goods pasta</td>\n",
       "    </tr>\n",
       "    <tr>\n",
       "      <th>9</th>\n",
       "      <td>10</td>\n",
       "      <td>bulk</td>\n",
       "    </tr>\n",
       "    <tr>\n",
       "      <th>10</th>\n",
       "      <td>11</td>\n",
       "      <td>personal care</td>\n",
       "    </tr>\n",
       "    <tr>\n",
       "      <th>11</th>\n",
       "      <td>12</td>\n",
       "      <td>meat seafood</td>\n",
       "    </tr>\n",
       "    <tr>\n",
       "      <th>12</th>\n",
       "      <td>13</td>\n",
       "      <td>pantry</td>\n",
       "    </tr>\n",
       "    <tr>\n",
       "      <th>13</th>\n",
       "      <td>14</td>\n",
       "      <td>breakfast</td>\n",
       "    </tr>\n",
       "    <tr>\n",
       "      <th>14</th>\n",
       "      <td>15</td>\n",
       "      <td>canned goods</td>\n",
       "    </tr>\n",
       "    <tr>\n",
       "      <th>15</th>\n",
       "      <td>16</td>\n",
       "      <td>dairy eggs</td>\n",
       "    </tr>\n",
       "    <tr>\n",
       "      <th>16</th>\n",
       "      <td>17</td>\n",
       "      <td>household</td>\n",
       "    </tr>\n",
       "    <tr>\n",
       "      <th>17</th>\n",
       "      <td>18</td>\n",
       "      <td>babies</td>\n",
       "    </tr>\n",
       "    <tr>\n",
       "      <th>18</th>\n",
       "      <td>19</td>\n",
       "      <td>snacks</td>\n",
       "    </tr>\n",
       "    <tr>\n",
       "      <th>19</th>\n",
       "      <td>20</td>\n",
       "      <td>deli</td>\n",
       "    </tr>\n",
       "    <tr>\n",
       "      <th>20</th>\n",
       "      <td>21</td>\n",
       "      <td>missing</td>\n",
       "    </tr>\n",
       "  </tbody>\n",
       "</table>\n",
       "</div>"
      ],
      "text/plain": [
       "    Unnamed: 0       department\n",
       "0            1           frozen\n",
       "1            2            other\n",
       "2            3           bakery\n",
       "3            4          produce\n",
       "4            5          alcohol\n",
       "5            6    international\n",
       "6            7        beverages\n",
       "7            8             pets\n",
       "8            9  dry goods pasta\n",
       "9           10             bulk\n",
       "10          11    personal care\n",
       "11          12     meat seafood\n",
       "12          13           pantry\n",
       "13          14        breakfast\n",
       "14          15     canned goods\n",
       "15          16       dairy eggs\n",
       "16          17        household\n",
       "17          18           babies\n",
       "18          19           snacks\n",
       "19          20             deli\n",
       "20          21          missing"
      ]
     },
     "execution_count": 53,
     "metadata": {},
     "output_type": "execute_result"
    }
   ],
   "source": [
    "df_depart.head(25)"
   ]
  },
  {
   "cell_type": "markdown",
   "id": "b5c06156",
   "metadata": {},
   "source": [
    "# creating customer profile: Pet flag"
   ]
  },
  {
   "cell_type": "code",
   "execution_count": 54,
   "id": "6246415b",
   "metadata": {},
   "outputs": [],
   "source": [
    "#creating a pet flag\n",
    "df_depart.rename(columns = {'Unnamed: 0': 'department_id'}, inplace=True)"
   ]
  },
  {
   "cell_type": "code",
   "execution_count": 55,
   "id": "d8a05f07",
   "metadata": {},
   "outputs": [
    {
     "data": {
      "text/html": [
       "<div>\n",
       "<style scoped>\n",
       "    .dataframe tbody tr th:only-of-type {\n",
       "        vertical-align: middle;\n",
       "    }\n",
       "\n",
       "    .dataframe tbody tr th {\n",
       "        vertical-align: top;\n",
       "    }\n",
       "\n",
       "    .dataframe thead th {\n",
       "        text-align: right;\n",
       "    }\n",
       "</style>\n",
       "<table border=\"1\" class=\"dataframe\">\n",
       "  <thead>\n",
       "    <tr style=\"text-align: right;\">\n",
       "      <th></th>\n",
       "      <th>department_id</th>\n",
       "      <th>department</th>\n",
       "    </tr>\n",
       "  </thead>\n",
       "  <tbody>\n",
       "    <tr>\n",
       "      <th>0</th>\n",
       "      <td>1</td>\n",
       "      <td>frozen</td>\n",
       "    </tr>\n",
       "    <tr>\n",
       "      <th>1</th>\n",
       "      <td>2</td>\n",
       "      <td>other</td>\n",
       "    </tr>\n",
       "    <tr>\n",
       "      <th>2</th>\n",
       "      <td>3</td>\n",
       "      <td>bakery</td>\n",
       "    </tr>\n",
       "    <tr>\n",
       "      <th>3</th>\n",
       "      <td>4</td>\n",
       "      <td>produce</td>\n",
       "    </tr>\n",
       "    <tr>\n",
       "      <th>4</th>\n",
       "      <td>5</td>\n",
       "      <td>alcohol</td>\n",
       "    </tr>\n",
       "    <tr>\n",
       "      <th>5</th>\n",
       "      <td>6</td>\n",
       "      <td>international</td>\n",
       "    </tr>\n",
       "    <tr>\n",
       "      <th>6</th>\n",
       "      <td>7</td>\n",
       "      <td>beverages</td>\n",
       "    </tr>\n",
       "    <tr>\n",
       "      <th>7</th>\n",
       "      <td>8</td>\n",
       "      <td>pets</td>\n",
       "    </tr>\n",
       "    <tr>\n",
       "      <th>8</th>\n",
       "      <td>9</td>\n",
       "      <td>dry goods pasta</td>\n",
       "    </tr>\n",
       "    <tr>\n",
       "      <th>9</th>\n",
       "      <td>10</td>\n",
       "      <td>bulk</td>\n",
       "    </tr>\n",
       "    <tr>\n",
       "      <th>10</th>\n",
       "      <td>11</td>\n",
       "      <td>personal care</td>\n",
       "    </tr>\n",
       "    <tr>\n",
       "      <th>11</th>\n",
       "      <td>12</td>\n",
       "      <td>meat seafood</td>\n",
       "    </tr>\n",
       "    <tr>\n",
       "      <th>12</th>\n",
       "      <td>13</td>\n",
       "      <td>pantry</td>\n",
       "    </tr>\n",
       "    <tr>\n",
       "      <th>13</th>\n",
       "      <td>14</td>\n",
       "      <td>breakfast</td>\n",
       "    </tr>\n",
       "    <tr>\n",
       "      <th>14</th>\n",
       "      <td>15</td>\n",
       "      <td>canned goods</td>\n",
       "    </tr>\n",
       "    <tr>\n",
       "      <th>15</th>\n",
       "      <td>16</td>\n",
       "      <td>dairy eggs</td>\n",
       "    </tr>\n",
       "    <tr>\n",
       "      <th>16</th>\n",
       "      <td>17</td>\n",
       "      <td>household</td>\n",
       "    </tr>\n",
       "    <tr>\n",
       "      <th>17</th>\n",
       "      <td>18</td>\n",
       "      <td>babies</td>\n",
       "    </tr>\n",
       "    <tr>\n",
       "      <th>18</th>\n",
       "      <td>19</td>\n",
       "      <td>snacks</td>\n",
       "    </tr>\n",
       "    <tr>\n",
       "      <th>19</th>\n",
       "      <td>20</td>\n",
       "      <td>deli</td>\n",
       "    </tr>\n",
       "    <tr>\n",
       "      <th>20</th>\n",
       "      <td>21</td>\n",
       "      <td>missing</td>\n",
       "    </tr>\n",
       "  </tbody>\n",
       "</table>\n",
       "</div>"
      ],
      "text/plain": [
       "    department_id       department\n",
       "0               1           frozen\n",
       "1               2            other\n",
       "2               3           bakery\n",
       "3               4          produce\n",
       "4               5          alcohol\n",
       "5               6    international\n",
       "6               7        beverages\n",
       "7               8             pets\n",
       "8               9  dry goods pasta\n",
       "9              10             bulk\n",
       "10             11    personal care\n",
       "11             12     meat seafood\n",
       "12             13           pantry\n",
       "13             14        breakfast\n",
       "14             15     canned goods\n",
       "15             16       dairy eggs\n",
       "16             17        household\n",
       "17             18           babies\n",
       "18             19           snacks\n",
       "19             20             deli\n",
       "20             21          missing"
      ]
     },
     "execution_count": 55,
     "metadata": {},
     "output_type": "execute_result"
    }
   ],
   "source": [
    "df_depart.head(25)"
   ]
  },
  {
   "cell_type": "code",
   "execution_count": 56,
   "id": "47881870",
   "metadata": {},
   "outputs": [
    {
     "data": {
      "text/plain": [
       "department_id  department     \n",
       "1              frozen             1\n",
       "12             meat seafood       1\n",
       "20             deli               1\n",
       "19             snacks             1\n",
       "18             babies             1\n",
       "17             household          1\n",
       "16             dairy eggs         1\n",
       "15             canned goods       1\n",
       "14             breakfast          1\n",
       "13             pantry             1\n",
       "11             personal care      1\n",
       "2              other              1\n",
       "10             bulk               1\n",
       "9              dry goods pasta    1\n",
       "8              pets               1\n",
       "7              beverages          1\n",
       "6              international      1\n",
       "5              alcohol            1\n",
       "4              produce            1\n",
       "3              bakery             1\n",
       "21             missing            1\n",
       "dtype: int64"
      ]
     },
     "execution_count": 56,
     "metadata": {},
     "output_type": "execute_result"
    }
   ],
   "source": [
    "df_depart.value_counts()"
   ]
  },
  {
   "cell_type": "code",
   "execution_count": 57,
   "id": "33f769d0",
   "metadata": {},
   "outputs": [],
   "source": [
    "df_merged= df_merged.merge(df_depart, on = 'department_id')"
   ]
  },
  {
   "cell_type": "code",
   "execution_count": 58,
   "id": "aea3d3f2",
   "metadata": {},
   "outputs": [
    {
     "data": {
      "text/plain": [
       "Index(['order_id', 'user_id', 'order_number', 'Order_day_of_week',\n",
       "       'order_hour_of_day', 'Days since last order', 'New customer',\n",
       "       'product_id', 'add_to_cart_order', 'reordered', 'product_name',\n",
       "       'aisle_id', 'department_id', 'prices', '_merge', 'price_range_loc',\n",
       "       'Busiest day', '2 busy/slow days', 'busiest_period_of_day', 'max order',\n",
       "       'loyalty_flag', 'Mean_price', 'Spend_flag', 'Median_since_last_ordered',\n",
       "       'Order_frequency_flag', 'Gender', 'State', 'Age', 'Date joined',\n",
       "       'No of dependents', 'Marital status', 'income', 'Region',\n",
       "       'total_orders', 'activity_flag', 'age_group', 'dependent_flag',\n",
       "       'department'],\n",
       "      dtype='object')"
      ]
     },
     "execution_count": 58,
     "metadata": {},
     "output_type": "execute_result"
    }
   ],
   "source": [
    "df_merged.columns"
   ]
  },
  {
   "cell_type": "code",
   "execution_count": 59,
   "id": "de6fdfc2",
   "metadata": {},
   "outputs": [
    {
     "data": {
      "text/plain": [
       "produce            9109507\n",
       "dairy eggs         5188656\n",
       "snacks             2774135\n",
       "beverages          2582147\n",
       "frozen             2150710\n",
       "pantry             1802447\n",
       "bakery             1127577\n",
       "canned goods       1026965\n",
       "deli               1010388\n",
       "dry goods pasta     833013\n",
       "household           709970\n",
       "meat seafood        681740\n",
       "breakfast           676141\n",
       "personal care       430565\n",
       "babies              407558\n",
       "international       258750\n",
       "alcohol             147510\n",
       "pets                 94036\n",
       "missing              66678\n",
       "other                34945\n",
       "bulk                 33338\n",
       "Name: department, dtype: int64"
      ]
     },
     "execution_count": 59,
     "metadata": {},
     "output_type": "execute_result"
    }
   ],
   "source": [
    "df_merged['department'].value_counts()"
   ]
  },
  {
   "cell_type": "code",
   "execution_count": 60,
   "id": "d61ec48f",
   "metadata": {},
   "outputs": [
    {
     "data": {
      "text/html": [
       "<div>\n",
       "<style scoped>\n",
       "    .dataframe tbody tr th:only-of-type {\n",
       "        vertical-align: middle;\n",
       "    }\n",
       "\n",
       "    .dataframe tbody tr th {\n",
       "        vertical-align: top;\n",
       "    }\n",
       "\n",
       "    .dataframe thead th {\n",
       "        text-align: right;\n",
       "    }\n",
       "</style>\n",
       "<table border=\"1\" class=\"dataframe\">\n",
       "  <thead>\n",
       "    <tr style=\"text-align: right;\">\n",
       "      <th></th>\n",
       "      <th>order_id</th>\n",
       "      <th>user_id</th>\n",
       "      <th>order_number</th>\n",
       "      <th>Order_day_of_week</th>\n",
       "      <th>order_hour_of_day</th>\n",
       "      <th>Days since last order</th>\n",
       "      <th>New customer</th>\n",
       "      <th>product_id</th>\n",
       "      <th>add_to_cart_order</th>\n",
       "      <th>reordered</th>\n",
       "      <th>product_name</th>\n",
       "      <th>aisle_id</th>\n",
       "      <th>department_id</th>\n",
       "      <th>prices</th>\n",
       "      <th>_merge</th>\n",
       "      <th>price_range_loc</th>\n",
       "      <th>Busiest day</th>\n",
       "      <th>2 busy/slow days</th>\n",
       "      <th>busiest_period_of_day</th>\n",
       "      <th>max order</th>\n",
       "      <th>loyalty_flag</th>\n",
       "      <th>Mean_price</th>\n",
       "      <th>Spend_flag</th>\n",
       "      <th>Median_since_last_ordered</th>\n",
       "      <th>Order_frequency_flag</th>\n",
       "      <th>Gender</th>\n",
       "      <th>State</th>\n",
       "      <th>Age</th>\n",
       "      <th>Date joined</th>\n",
       "      <th>No of dependents</th>\n",
       "      <th>Marital status</th>\n",
       "      <th>income</th>\n",
       "      <th>Region</th>\n",
       "      <th>total_orders</th>\n",
       "      <th>activity_flag</th>\n",
       "      <th>age_group</th>\n",
       "      <th>dependent_flag</th>\n",
       "      <th>department</th>\n",
       "    </tr>\n",
       "  </thead>\n",
       "  <tbody>\n",
       "    <tr>\n",
       "      <th>0</th>\n",
       "      <td>2539329</td>\n",
       "      <td>1</td>\n",
       "      <td>1</td>\n",
       "      <td>2</td>\n",
       "      <td>8</td>\n",
       "      <td>NaN</td>\n",
       "      <td>True</td>\n",
       "      <td>196.0</td>\n",
       "      <td>1.0</td>\n",
       "      <td>0.0</td>\n",
       "      <td>Soda</td>\n",
       "      <td>77</td>\n",
       "      <td>7</td>\n",
       "      <td>9.0</td>\n",
       "      <td>both</td>\n",
       "      <td>Mid range products</td>\n",
       "      <td>Regular busy</td>\n",
       "      <td>Regular busy</td>\n",
       "      <td>Average orders</td>\n",
       "      <td>10</td>\n",
       "      <td>New customer</td>\n",
       "      <td>6.367797</td>\n",
       "      <td>Low spender</td>\n",
       "      <td>20.5</td>\n",
       "      <td>Non-frequent cust</td>\n",
       "      <td>Female</td>\n",
       "      <td>Alabama</td>\n",
       "      <td>31</td>\n",
       "      <td>2/17/2019</td>\n",
       "      <td>3</td>\n",
       "      <td>married</td>\n",
       "      <td>40423</td>\n",
       "      <td>South</td>\n",
       "      <td>59</td>\n",
       "      <td>Regular_activity</td>\n",
       "      <td>Adult</td>\n",
       "      <td>Parent</td>\n",
       "      <td>beverages</td>\n",
       "    </tr>\n",
       "    <tr>\n",
       "      <th>1</th>\n",
       "      <td>2398795</td>\n",
       "      <td>1</td>\n",
       "      <td>2</td>\n",
       "      <td>3</td>\n",
       "      <td>7</td>\n",
       "      <td>15.0</td>\n",
       "      <td>False</td>\n",
       "      <td>196.0</td>\n",
       "      <td>1.0</td>\n",
       "      <td>1.0</td>\n",
       "      <td>Soda</td>\n",
       "      <td>77</td>\n",
       "      <td>7</td>\n",
       "      <td>9.0</td>\n",
       "      <td>both</td>\n",
       "      <td>Mid range products</td>\n",
       "      <td>Regular busy</td>\n",
       "      <td>Two slowest days</td>\n",
       "      <td>Average orders</td>\n",
       "      <td>10</td>\n",
       "      <td>New customer</td>\n",
       "      <td>6.367797</td>\n",
       "      <td>Low spender</td>\n",
       "      <td>20.5</td>\n",
       "      <td>Non-frequent cust</td>\n",
       "      <td>Female</td>\n",
       "      <td>Alabama</td>\n",
       "      <td>31</td>\n",
       "      <td>2/17/2019</td>\n",
       "      <td>3</td>\n",
       "      <td>married</td>\n",
       "      <td>40423</td>\n",
       "      <td>South</td>\n",
       "      <td>59</td>\n",
       "      <td>Regular_activity</td>\n",
       "      <td>Adult</td>\n",
       "      <td>Parent</td>\n",
       "      <td>beverages</td>\n",
       "    </tr>\n",
       "    <tr>\n",
       "      <th>2</th>\n",
       "      <td>473747</td>\n",
       "      <td>1</td>\n",
       "      <td>3</td>\n",
       "      <td>3</td>\n",
       "      <td>12</td>\n",
       "      <td>21.0</td>\n",
       "      <td>False</td>\n",
       "      <td>196.0</td>\n",
       "      <td>1.0</td>\n",
       "      <td>1.0</td>\n",
       "      <td>Soda</td>\n",
       "      <td>77</td>\n",
       "      <td>7</td>\n",
       "      <td>9.0</td>\n",
       "      <td>both</td>\n",
       "      <td>Mid range products</td>\n",
       "      <td>Regular busy</td>\n",
       "      <td>Two slowest days</td>\n",
       "      <td>Most orders</td>\n",
       "      <td>10</td>\n",
       "      <td>New customer</td>\n",
       "      <td>6.367797</td>\n",
       "      <td>Low spender</td>\n",
       "      <td>20.5</td>\n",
       "      <td>Non-frequent cust</td>\n",
       "      <td>Female</td>\n",
       "      <td>Alabama</td>\n",
       "      <td>31</td>\n",
       "      <td>2/17/2019</td>\n",
       "      <td>3</td>\n",
       "      <td>married</td>\n",
       "      <td>40423</td>\n",
       "      <td>South</td>\n",
       "      <td>59</td>\n",
       "      <td>Regular_activity</td>\n",
       "      <td>Adult</td>\n",
       "      <td>Parent</td>\n",
       "      <td>beverages</td>\n",
       "    </tr>\n",
       "    <tr>\n",
       "      <th>3</th>\n",
       "      <td>2254736</td>\n",
       "      <td>1</td>\n",
       "      <td>4</td>\n",
       "      <td>4</td>\n",
       "      <td>7</td>\n",
       "      <td>29.0</td>\n",
       "      <td>False</td>\n",
       "      <td>196.0</td>\n",
       "      <td>1.0</td>\n",
       "      <td>1.0</td>\n",
       "      <td>Soda</td>\n",
       "      <td>77</td>\n",
       "      <td>7</td>\n",
       "      <td>9.0</td>\n",
       "      <td>both</td>\n",
       "      <td>Mid range products</td>\n",
       "      <td>Least busy</td>\n",
       "      <td>Two slowest days</td>\n",
       "      <td>Average orders</td>\n",
       "      <td>10</td>\n",
       "      <td>New customer</td>\n",
       "      <td>6.367797</td>\n",
       "      <td>Low spender</td>\n",
       "      <td>20.5</td>\n",
       "      <td>Non-frequent cust</td>\n",
       "      <td>Female</td>\n",
       "      <td>Alabama</td>\n",
       "      <td>31</td>\n",
       "      <td>2/17/2019</td>\n",
       "      <td>3</td>\n",
       "      <td>married</td>\n",
       "      <td>40423</td>\n",
       "      <td>South</td>\n",
       "      <td>59</td>\n",
       "      <td>Regular_activity</td>\n",
       "      <td>Adult</td>\n",
       "      <td>Parent</td>\n",
       "      <td>beverages</td>\n",
       "    </tr>\n",
       "    <tr>\n",
       "      <th>4</th>\n",
       "      <td>431534</td>\n",
       "      <td>1</td>\n",
       "      <td>5</td>\n",
       "      <td>4</td>\n",
       "      <td>15</td>\n",
       "      <td>28.0</td>\n",
       "      <td>False</td>\n",
       "      <td>196.0</td>\n",
       "      <td>1.0</td>\n",
       "      <td>1.0</td>\n",
       "      <td>Soda</td>\n",
       "      <td>77</td>\n",
       "      <td>7</td>\n",
       "      <td>9.0</td>\n",
       "      <td>both</td>\n",
       "      <td>Mid range products</td>\n",
       "      <td>Least busy</td>\n",
       "      <td>Two slowest days</td>\n",
       "      <td>Most orders</td>\n",
       "      <td>10</td>\n",
       "      <td>New customer</td>\n",
       "      <td>6.367797</td>\n",
       "      <td>Low spender</td>\n",
       "      <td>20.5</td>\n",
       "      <td>Non-frequent cust</td>\n",
       "      <td>Female</td>\n",
       "      <td>Alabama</td>\n",
       "      <td>31</td>\n",
       "      <td>2/17/2019</td>\n",
       "      <td>3</td>\n",
       "      <td>married</td>\n",
       "      <td>40423</td>\n",
       "      <td>South</td>\n",
       "      <td>59</td>\n",
       "      <td>Regular_activity</td>\n",
       "      <td>Adult</td>\n",
       "      <td>Parent</td>\n",
       "      <td>beverages</td>\n",
       "    </tr>\n",
       "  </tbody>\n",
       "</table>\n",
       "</div>"
      ],
      "text/plain": [
       "   order_id  user_id  order_number  Order_day_of_week  order_hour_of_day  \\\n",
       "0   2539329        1             1                  2                  8   \n",
       "1   2398795        1             2                  3                  7   \n",
       "2    473747        1             3                  3                 12   \n",
       "3   2254736        1             4                  4                  7   \n",
       "4    431534        1             5                  4                 15   \n",
       "\n",
       "   Days since last order  New customer  product_id  add_to_cart_order  \\\n",
       "0                    NaN          True       196.0                1.0   \n",
       "1                   15.0         False       196.0                1.0   \n",
       "2                   21.0         False       196.0                1.0   \n",
       "3                   29.0         False       196.0                1.0   \n",
       "4                   28.0         False       196.0                1.0   \n",
       "\n",
       "   reordered product_name  aisle_id  department_id  prices _merge  \\\n",
       "0        0.0         Soda        77              7     9.0   both   \n",
       "1        1.0         Soda        77              7     9.0   both   \n",
       "2        1.0         Soda        77              7     9.0   both   \n",
       "3        1.0         Soda        77              7     9.0   both   \n",
       "4        1.0         Soda        77              7     9.0   both   \n",
       "\n",
       "      price_range_loc   Busiest day  2 busy/slow days busiest_period_of_day  \\\n",
       "0  Mid range products  Regular busy      Regular busy        Average orders   \n",
       "1  Mid range products  Regular busy  Two slowest days        Average orders   \n",
       "2  Mid range products  Regular busy  Two slowest days           Most orders   \n",
       "3  Mid range products    Least busy  Two slowest days        Average orders   \n",
       "4  Mid range products    Least busy  Two slowest days           Most orders   \n",
       "\n",
       "   max order  loyalty_flag  Mean_price   Spend_flag  \\\n",
       "0         10  New customer    6.367797  Low spender   \n",
       "1         10  New customer    6.367797  Low spender   \n",
       "2         10  New customer    6.367797  Low spender   \n",
       "3         10  New customer    6.367797  Low spender   \n",
       "4         10  New customer    6.367797  Low spender   \n",
       "\n",
       "   Median_since_last_ordered Order_frequency_flag  Gender    State  Age  \\\n",
       "0                       20.5    Non-frequent cust  Female  Alabama   31   \n",
       "1                       20.5    Non-frequent cust  Female  Alabama   31   \n",
       "2                       20.5    Non-frequent cust  Female  Alabama   31   \n",
       "3                       20.5    Non-frequent cust  Female  Alabama   31   \n",
       "4                       20.5    Non-frequent cust  Female  Alabama   31   \n",
       "\n",
       "  Date joined  No of dependents Marital status  income Region  total_orders  \\\n",
       "0   2/17/2019                 3        married   40423  South            59   \n",
       "1   2/17/2019                 3        married   40423  South            59   \n",
       "2   2/17/2019                 3        married   40423  South            59   \n",
       "3   2/17/2019                 3        married   40423  South            59   \n",
       "4   2/17/2019                 3        married   40423  South            59   \n",
       "\n",
       "      activity_flag age_group dependent_flag department  \n",
       "0  Regular_activity     Adult         Parent  beverages  \n",
       "1  Regular_activity     Adult         Parent  beverages  \n",
       "2  Regular_activity     Adult         Parent  beverages  \n",
       "3  Regular_activity     Adult         Parent  beverages  \n",
       "4  Regular_activity     Adult         Parent  beverages  "
      ]
     },
     "execution_count": 60,
     "metadata": {},
     "output_type": "execute_result"
    }
   ],
   "source": [
    "df_merged.head()"
   ]
  },
  {
   "cell_type": "markdown",
   "id": "b4a063e4",
   "metadata": {},
   "source": [
    "# pet flag"
   ]
  },
  {
   "cell_type": "code",
   "execution_count": 143,
   "id": "1f4b6768",
   "metadata": {},
   "outputs": [],
   "source": [
    "#creating pet flag\n",
    "df_merged['Has_pets']=['yes' if x=='pets' else 'no' for x in df_merged['department']]\n",
    "df_merged['Has_pets']=df_merged.groupby(['user_id'])['Has_pets'].transform(np.max)"
   ]
  },
  {
   "cell_type": "code",
   "execution_count": 144,
   "id": "e9a837b3",
   "metadata": {},
   "outputs": [
    {
     "data": {
      "text/plain": [
       "no     27753706\n",
       "yes     3393070\n",
       "Name: Has_pets, dtype: int64"
      ]
     },
     "execution_count": 144,
     "metadata": {},
     "output_type": "execute_result"
    }
   ],
   "source": [
    "df_merged['Has_pets'].value_counts(dropna=False)"
   ]
  },
  {
   "cell_type": "code",
   "execution_count": 145,
   "id": "a0792ea4",
   "metadata": {},
   "outputs": [
    {
     "data": {
      "image/png": "[encoded data removed]",
      "text/plain": [
       "<Figure size 432x288 with 1 Axes>"
      ]
     },
     "metadata": {
      "needs_background": "light"
     },
     "output_type": "display_data"
    }
   ],
   "source": [
    "#create bar chart\n",
    "bar_pets=df_merged['Has_pets'].value_counts(dropna=False).sort_values(ascending=True).plot.bar(color=['blue'])"
   ]
  },
  {
   "cell_type": "code",
   "execution_count": 146,
   "id": "d208e64e",
   "metadata": {},
   "outputs": [],
   "source": [
    "bar_pets.figure.savefig(os.path.join(path, '04 Analysis', 'Visualizations', 'bar_pets.final.png'))"
   ]
  },
  {
   "cell_type": "markdown",
   "id": "77a9f31a",
   "metadata": {},
   "source": [
    "# creating aggregates on pet flag"
   ]
  },
  {
   "cell_type": "code",
   "execution_count": 147,
   "id": "74643374",
   "metadata": {},
   "outputs": [
    {
     "data": {
      "text/html": [
       "<div>\n",
       "<style scoped>\n",
       "    .dataframe tbody tr th:only-of-type {\n",
       "        vertical-align: middle;\n",
       "    }\n",
       "\n",
       "    .dataframe tbody tr th {\n",
       "        vertical-align: top;\n",
       "    }\n",
       "\n",
       "    .dataframe thead tr th {\n",
       "        text-align: left;\n",
       "    }\n",
       "\n",
       "    .dataframe thead tr:last-of-type th {\n",
       "        text-align: right;\n",
       "    }\n",
       "</style>\n",
       "<table border=\"1\" class=\"dataframe\">\n",
       "  <thead>\n",
       "    <tr>\n",
       "      <th></th>\n",
       "      <th colspan=\"3\" halign=\"left\">prices</th>\n",
       "    </tr>\n",
       "    <tr>\n",
       "      <th></th>\n",
       "      <th>mean</th>\n",
       "      <th>max</th>\n",
       "      <th>min</th>\n",
       "    </tr>\n",
       "    <tr>\n",
       "      <th>Has_pets</th>\n",
       "      <th></th>\n",
       "      <th></th>\n",
       "      <th></th>\n",
       "    </tr>\n",
       "  </thead>\n",
       "  <tbody>\n",
       "    <tr>\n",
       "      <th>no</th>\n",
       "      <td>7.788493</td>\n",
       "      <td>25.0</td>\n",
       "      <td>1.0</td>\n",
       "    </tr>\n",
       "    <tr>\n",
       "      <th>yes</th>\n",
       "      <td>7.812923</td>\n",
       "      <td>25.0</td>\n",
       "      <td>1.0</td>\n",
       "    </tr>\n",
       "  </tbody>\n",
       "</table>\n",
       "</div>"
      ],
      "text/plain": [
       "            prices           \n",
       "              mean   max  min\n",
       "Has_pets                     \n",
       "no        7.788493  25.0  1.0\n",
       "yes       7.812923  25.0  1.0"
      ]
     },
     "execution_count": 147,
     "metadata": {},
     "output_type": "execute_result"
    }
   ],
   "source": [
    "df_merged.groupby('Has_pets').agg({'prices': ['mean', 'max', 'min']})"
   ]
  },
  {
   "cell_type": "code",
   "execution_count": 148,
   "id": "a5c962f2",
   "metadata": {},
   "outputs": [
    {
     "data": {
      "text/html": [
       "<div>\n",
       "<style scoped>\n",
       "    .dataframe tbody tr th:only-of-type {\n",
       "        vertical-align: middle;\n",
       "    }\n",
       "\n",
       "    .dataframe tbody tr th {\n",
       "        vertical-align: top;\n",
       "    }\n",
       "\n",
       "    .dataframe thead tr th {\n",
       "        text-align: left;\n",
       "    }\n",
       "\n",
       "    .dataframe thead tr:last-of-type th {\n",
       "        text-align: right;\n",
       "    }\n",
       "</style>\n",
       "<table border=\"1\" class=\"dataframe\">\n",
       "  <thead>\n",
       "    <tr>\n",
       "      <th></th>\n",
       "      <th colspan=\"3\" halign=\"left\">Median_since_last_ordered</th>\n",
       "    </tr>\n",
       "    <tr>\n",
       "      <th></th>\n",
       "      <th>mean</th>\n",
       "      <th>max</th>\n",
       "      <th>min</th>\n",
       "    </tr>\n",
       "    <tr>\n",
       "      <th>Has_pets</th>\n",
       "      <th></th>\n",
       "      <th></th>\n",
       "      <th></th>\n",
       "    </tr>\n",
       "  </thead>\n",
       "  <tbody>\n",
       "    <tr>\n",
       "      <th>no</th>\n",
       "      <td>10.517021</td>\n",
       "      <td>30.0</td>\n",
       "      <td>0.0</td>\n",
       "    </tr>\n",
       "    <tr>\n",
       "      <th>yes</th>\n",
       "      <td>9.431576</td>\n",
       "      <td>30.0</td>\n",
       "      <td>0.0</td>\n",
       "    </tr>\n",
       "  </tbody>\n",
       "</table>\n",
       "</div>"
      ],
      "text/plain": [
       "         Median_since_last_ordered           \n",
       "                              mean   max  min\n",
       "Has_pets                                     \n",
       "no                       10.517021  30.0  0.0\n",
       "yes                       9.431576  30.0  0.0"
      ]
     },
     "execution_count": 148,
     "metadata": {},
     "output_type": "execute_result"
    }
   ],
   "source": [
    "df_merged.groupby('Has_pets').agg({'Median_since_last_ordered': ['mean', 'max', 'min']})"
   ]
  },
  {
   "cell_type": "markdown",
   "id": "f7ea08f7",
   "metadata": {},
   "source": [
    "# comparing profile with regions and departments:"
   ]
  },
  {
   "cell_type": "code",
   "execution_count": 149,
   "id": "28bf5410",
   "metadata": {},
   "outputs": [
    {
     "data": {
      "text/html": [
       "<div>\n",
       "<style scoped>\n",
       "    .dataframe tbody tr th:only-of-type {\n",
       "        vertical-align: middle;\n",
       "    }\n",
       "\n",
       "    .dataframe tbody tr th {\n",
       "        vertical-align: top;\n",
       "    }\n",
       "\n",
       "    .dataframe thead th {\n",
       "        text-align: right;\n",
       "    }\n",
       "</style>\n",
       "<table border=\"1\" class=\"dataframe\">\n",
       "  <thead>\n",
       "    <tr style=\"text-align: right;\">\n",
       "      <th>Has_pets</th>\n",
       "      <th>no</th>\n",
       "      <th>yes</th>\n",
       "    </tr>\n",
       "    <tr>\n",
       "      <th>Region</th>\n",
       "      <th></th>\n",
       "      <th></th>\n",
       "    </tr>\n",
       "  </thead>\n",
       "  <tbody>\n",
       "    <tr>\n",
       "      <th>South</th>\n",
       "      <td>9650143</td>\n",
       "      <td>1141742</td>\n",
       "    </tr>\n",
       "    <tr>\n",
       "      <th>West</th>\n",
       "      <td>7363501</td>\n",
       "      <td>929412</td>\n",
       "    </tr>\n",
       "    <tr>\n",
       "      <th>Midwest</th>\n",
       "      <td>6752777</td>\n",
       "      <td>844548</td>\n",
       "    </tr>\n",
       "    <tr>\n",
       "      <th>Northeast</th>\n",
       "      <td>3987285</td>\n",
       "      <td>477368</td>\n",
       "    </tr>\n",
       "  </tbody>\n",
       "</table>\n",
       "</div>"
      ],
      "text/plain": [
       "Has_pets        no      yes\n",
       "Region                     \n",
       "South      9650143  1141742\n",
       "West       7363501   929412\n",
       "Midwest    6752777   844548\n",
       "Northeast  3987285   477368"
      ]
     },
     "execution_count": 149,
     "metadata": {},
     "output_type": "execute_result"
    }
   ],
   "source": [
    "# has pets in comparaison to region\n",
    "pets_region=pd.crosstab(df_merged['Region'], df_merged['Has_pets'].sort_values(ascending=False))\n",
    "pets_region=pets_region.reindex(['no', 'yes'], axis=\"columns\").reindex(['South', 'West', 'Midwest', 'Northeast'])\n",
    "pets_region"
   ]
  },
  {
   "cell_type": "code",
   "execution_count": 150,
   "id": "5d0c5a2d",
   "metadata": {},
   "outputs": [
    {
     "data": {
      "text/plain": [
       "<matplotlib.legend.Legend at 0x1bd65b4c0d0>"
      ]
     },
     "execution_count": 150,
     "metadata": {},
     "output_type": "execute_result"
    },
    {
     "data": {
      "image/png": "[encoded data removed]",
      "text/plain": [
       "<Figure size 432x288 with 1 Axes>"
      ]
     },
     "metadata": {
      "needs_background": "light"
     },
     "output_type": "display_data"
    }
   ],
   "source": [
    "#Grouped bar chart. pets vs regions\n",
    "bar_pets_region=dependent_region.plot.bar(color=['#5D8AA8', '#00308F'])\n",
    "plt.title('pets vs regions')\n",
    "plt.xlabel('Region')\n",
    "plt.ylabel('Has_pets')\n",
    "plt.legend()"
   ]
  },
  {
   "cell_type": "code",
   "execution_count": 151,
   "id": "7b7858f8",
   "metadata": {},
   "outputs": [],
   "source": [
    "bar_pets_region.figure.savefig(os.path.join(path, '04 Analysis', 'Visualizations', 'bar_pets_region.final.png'))"
   ]
  },
  {
   "cell_type": "code",
   "execution_count": 152,
   "id": "0e52f91a",
   "metadata": {},
   "outputs": [
    {
     "data": {
      "text/html": [
       "<div>\n",
       "<style scoped>\n",
       "    .dataframe tbody tr th:only-of-type {\n",
       "        vertical-align: middle;\n",
       "    }\n",
       "\n",
       "    .dataframe tbody tr th {\n",
       "        vertical-align: top;\n",
       "    }\n",
       "\n",
       "    .dataframe thead th {\n",
       "        text-align: right;\n",
       "    }\n",
       "</style>\n",
       "<table border=\"1\" class=\"dataframe\">\n",
       "  <thead>\n",
       "    <tr style=\"text-align: right;\">\n",
       "      <th>Has_pets</th>\n",
       "      <th>no</th>\n",
       "      <th>yes</th>\n",
       "    </tr>\n",
       "    <tr>\n",
       "      <th>department</th>\n",
       "      <th></th>\n",
       "      <th></th>\n",
       "    </tr>\n",
       "  </thead>\n",
       "  <tbody>\n",
       "    <tr>\n",
       "      <th>alcohol</th>\n",
       "      <td>121513</td>\n",
       "      <td>25997</td>\n",
       "    </tr>\n",
       "    <tr>\n",
       "      <th>babies</th>\n",
       "      <td>372785</td>\n",
       "      <td>34773</td>\n",
       "    </tr>\n",
       "    <tr>\n",
       "      <th>bakery</th>\n",
       "      <td>992161</td>\n",
       "      <td>135416</td>\n",
       "    </tr>\n",
       "    <tr>\n",
       "      <th>beverages</th>\n",
       "      <td>2269368</td>\n",
       "      <td>312779</td>\n",
       "    </tr>\n",
       "    <tr>\n",
       "      <th>breakfast</th>\n",
       "      <td>603381</td>\n",
       "      <td>72760</td>\n",
       "    </tr>\n",
       "    <tr>\n",
       "      <th>bulk</th>\n",
       "      <td>31262</td>\n",
       "      <td>2076</td>\n",
       "    </tr>\n",
       "    <tr>\n",
       "      <th>canned goods</th>\n",
       "      <td>902772</td>\n",
       "      <td>124193</td>\n",
       "    </tr>\n",
       "    <tr>\n",
       "      <th>dairy eggs</th>\n",
       "      <td>4674137</td>\n",
       "      <td>514519</td>\n",
       "    </tr>\n",
       "    <tr>\n",
       "      <th>deli</th>\n",
       "      <td>902700</td>\n",
       "      <td>107688</td>\n",
       "    </tr>\n",
       "    <tr>\n",
       "      <th>dry goods pasta</th>\n",
       "      <td>734160</td>\n",
       "      <td>98853</td>\n",
       "    </tr>\n",
       "    <tr>\n",
       "      <th>frozen</th>\n",
       "      <td>1874951</td>\n",
       "      <td>275759</td>\n",
       "    </tr>\n",
       "    <tr>\n",
       "      <th>household</th>\n",
       "      <td>577740</td>\n",
       "      <td>132230</td>\n",
       "    </tr>\n",
       "    <tr>\n",
       "      <th>international</th>\n",
       "      <td>228299</td>\n",
       "      <td>30451</td>\n",
       "    </tr>\n",
       "    <tr>\n",
       "      <th>meat seafood</th>\n",
       "      <td>603573</td>\n",
       "      <td>78167</td>\n",
       "    </tr>\n",
       "    <tr>\n",
       "      <th>missing</th>\n",
       "      <td>59307</td>\n",
       "      <td>7371</td>\n",
       "    </tr>\n",
       "    <tr>\n",
       "      <th>other</th>\n",
       "      <td>29796</td>\n",
       "      <td>5149</td>\n",
       "    </tr>\n",
       "    <tr>\n",
       "      <th>pantry</th>\n",
       "      <td>1590190</td>\n",
       "      <td>212257</td>\n",
       "    </tr>\n",
       "    <tr>\n",
       "      <th>personal care</th>\n",
       "      <td>355635</td>\n",
       "      <td>74930</td>\n",
       "    </tr>\n",
       "    <tr>\n",
       "      <th>pets</th>\n",
       "      <td>0</td>\n",
       "      <td>94036</td>\n",
       "    </tr>\n",
       "    <tr>\n",
       "      <th>produce</th>\n",
       "      <td>8354549</td>\n",
       "      <td>754958</td>\n",
       "    </tr>\n",
       "    <tr>\n",
       "      <th>snacks</th>\n",
       "      <td>2475427</td>\n",
       "      <td>298708</td>\n",
       "    </tr>\n",
       "  </tbody>\n",
       "</table>\n",
       "</div>"
      ],
      "text/plain": [
       "Has_pets              no     yes\n",
       "department                      \n",
       "alcohol           121513   25997\n",
       "babies            372785   34773\n",
       "bakery            992161  135416\n",
       "beverages        2269368  312779\n",
       "breakfast         603381   72760\n",
       "bulk               31262    2076\n",
       "canned goods      902772  124193\n",
       "dairy eggs       4674137  514519\n",
       "deli              902700  107688\n",
       "dry goods pasta   734160   98853\n",
       "frozen           1874951  275759\n",
       "household         577740  132230\n",
       "international     228299   30451\n",
       "meat seafood      603573   78167\n",
       "missing            59307    7371\n",
       "other              29796    5149\n",
       "pantry           1590190  212257\n",
       "personal care     355635   74930\n",
       "pets                   0   94036\n",
       "produce          8354549  754958\n",
       "snacks           2475427  298708"
      ]
     },
     "execution_count": 152,
     "metadata": {},
     "output_type": "execute_result"
    }
   ],
   "source": [
    "#Measuring pets vs dependent_flag\n",
    "Pets_depart2=pd.crosstab(df_merged['department'], df_merged['Has_pets'])\n",
    "Pets_depart2=Pets_depart2.reindex(['no', 'yes'], axis=\"columns\")\n",
    "Pets_depart2"
   ]
  },
  {
   "cell_type": "code",
   "execution_count": 153,
   "id": "d420a205",
   "metadata": {},
   "outputs": [
    {
     "data": {
      "text/html": [
       "<div>\n",
       "<style scoped>\n",
       "    .dataframe tbody tr th:only-of-type {\n",
       "        vertical-align: middle;\n",
       "    }\n",
       "\n",
       "    .dataframe tbody tr th {\n",
       "        vertical-align: top;\n",
       "    }\n",
       "\n",
       "    .dataframe thead th {\n",
       "        text-align: right;\n",
       "    }\n",
       "</style>\n",
       "<table border=\"1\" class=\"dataframe\">\n",
       "  <thead>\n",
       "    <tr style=\"text-align: right;\">\n",
       "      <th>Has_pets</th>\n",
       "      <th>no</th>\n",
       "      <th>yes</th>\n",
       "    </tr>\n",
       "    <tr>\n",
       "      <th>department</th>\n",
       "      <th></th>\n",
       "      <th></th>\n",
       "    </tr>\n",
       "  </thead>\n",
       "  <tbody>\n",
       "    <tr>\n",
       "      <th>produce</th>\n",
       "      <td>0.917124</td>\n",
       "      <td>0.082876</td>\n",
       "    </tr>\n",
       "    <tr>\n",
       "      <th>dairy eggs</th>\n",
       "      <td>0.900838</td>\n",
       "      <td>0.099162</td>\n",
       "    </tr>\n",
       "    <tr>\n",
       "      <th>snacks</th>\n",
       "      <td>0.892324</td>\n",
       "      <td>0.107676</td>\n",
       "    </tr>\n",
       "    <tr>\n",
       "      <th>beverages</th>\n",
       "      <td>0.878869</td>\n",
       "      <td>0.121131</td>\n",
       "    </tr>\n",
       "  </tbody>\n",
       "</table>\n",
       "</div>"
      ],
      "text/plain": [
       "Has_pets          no       yes\n",
       "department                    \n",
       "produce     0.917124  0.082876\n",
       "dairy eggs  0.900838  0.099162\n",
       "snacks      0.892324  0.107676\n",
       "beverages   0.878869  0.121131"
      ]
     },
     "execution_count": 153,
     "metadata": {},
     "output_type": "execute_result"
    }
   ],
   "source": [
    "#creating a bar chart for pets vs dependent_flag\n",
    "Pets_depart3=pd.crosstab(index=df_age_depart2['department'], columns=df_merged['Has_pets'], normalize='index')\n",
    "Pets_depart3=Pets_depart3.reindex(['no', 'yes'], axis=\"columns\").reindex(['produce', 'dairy eggs', 'snacks', 'beverages'])\n",
    "Pets_depart3_labels=pd.crosstab(index=df_age_depart2['department'], columns=df_merged['Has_pets'])\n",
    "Pets_depart3_labels=Pets_depart3_labels.reindex(['no', 'yes'], axis=\"columns\").reindex(['produce', 'dairy eggs', 'snacks', 'beverages'])\n",
    "Pets_depart3"
   ]
  },
  {
   "cell_type": "code",
   "execution_count": 177,
   "id": "2d8b138f",
   "metadata": {},
   "outputs": [
    {
     "data": {
      "image/png": "[encoded data removed]",
      "text/plain": [
       "<Figure size 432x288 with 1 Axes>"
      ]
     },
     "metadata": {
      "needs_background": "light"
     },
     "output_type": "display_data"
    }
   ],
   "source": [
    "bar_Pets_depart3=Pets_depart3.plot.bar(stacked=True,color=['#5D8AA8', '#00308F'])\n",
    "plt.title('department vs has pets')\n",
    "plt.xlabel('department')\n",
    "plt.legend()\n",
    "for n, y in enumerate([*age_depart3.index.values]):\n",
    "    for (proportion, count, x_loc) in zip(Pets_depart3.loc[y],\n",
    "                                         Pets_depart3_labels.loc[y],\n",
    "                                          Pets_depart3.loc[y].cumsum()):\n",
    "                \n",
    "        plt.text(y=(x_loc - proportion) + (proportion / 2),\n",
    "                 x=n - 0.11,\n",
    "                 s=f'{count}\\n({np.round(proportion * 100, 1)}%)', \n",
    "                 color=\"white\")"
   ]
  },
  {
   "cell_type": "code",
   "execution_count": 155,
   "id": "3a0d95ca",
   "metadata": {},
   "outputs": [],
   "source": [
    "bar_Pets_depart3.figure.savefig(os.path.join(path, '04 Analysis', 'Visualizations', 'bar_Pets_depart3.final.png'))"
   ]
  },
  {
   "cell_type": "markdown",
   "id": "880513cd",
   "metadata": {},
   "source": [
    "# creating customer profile: baby flag"
   ]
  },
  {
   "cell_type": "code",
   "execution_count": 156,
   "id": "2e67fde8",
   "metadata": {},
   "outputs": [],
   "source": [
    "#creating baby flag\n",
    "df_merged['Has_baby'] = ['yes' if x == 'babies' else 'no' for x in df_merged['department']]\n",
    "df_merged['Has_baby']=df_merged.groupby(['user_id'])['Has_baby'].transform(np.max)"
   ]
  },
  {
   "cell_type": "code",
   "execution_count": 157,
   "id": "30bb7b0b",
   "metadata": {},
   "outputs": [
    {
     "data": {
      "text/plain": [
       "no     21550727\n",
       "yes     9596049\n",
       "Name: Has_baby, dtype: int64"
      ]
     },
     "execution_count": 157,
     "metadata": {},
     "output_type": "execute_result"
    }
   ],
   "source": [
    "df_merged['Has_baby'].value_counts(dropna=False)"
   ]
  },
  {
   "cell_type": "code",
   "execution_count": 158,
   "id": "6a5fe331",
   "metadata": {},
   "outputs": [
    {
     "data": {
      "image/png": "[encoded data removed]",
      "text/plain": [
       "<Figure size 432x288 with 1 Axes>"
      ]
     },
     "metadata": {
      "needs_background": "light"
     },
     "output_type": "display_data"
    }
   ],
   "source": [
    "#create bar chart\n",
    "bar_baby=df_merged['Has_baby'].value_counts(dropna=False).sort_values(ascending=True).plot.bar(color=['blue'])"
   ]
  },
  {
   "cell_type": "code",
   "execution_count": 159,
   "id": "c7319a42",
   "metadata": {},
   "outputs": [],
   "source": [
    "bar_baby.figure.savefig(os.path.join(path, '04 Analysis', 'Visualizations', 'bar_baby.final.png'))"
   ]
  },
  {
   "cell_type": "markdown",
   "id": "971c215f",
   "metadata": {},
   "source": [
    "# creating aggregates on baby flag"
   ]
  },
  {
   "cell_type": "code",
   "execution_count": 160,
   "id": "ddf48299",
   "metadata": {},
   "outputs": [
    {
     "data": {
      "text/html": [
       "<div>\n",
       "<style scoped>\n",
       "    .dataframe tbody tr th:only-of-type {\n",
       "        vertical-align: middle;\n",
       "    }\n",
       "\n",
       "    .dataframe tbody tr th {\n",
       "        vertical-align: top;\n",
       "    }\n",
       "\n",
       "    .dataframe thead tr th {\n",
       "        text-align: left;\n",
       "    }\n",
       "\n",
       "    .dataframe thead tr:last-of-type th {\n",
       "        text-align: right;\n",
       "    }\n",
       "</style>\n",
       "<table border=\"1\" class=\"dataframe\">\n",
       "  <thead>\n",
       "    <tr>\n",
       "      <th></th>\n",
       "      <th colspan=\"3\" halign=\"left\">prices</th>\n",
       "    </tr>\n",
       "    <tr>\n",
       "      <th></th>\n",
       "      <th>mean</th>\n",
       "      <th>max</th>\n",
       "      <th>min</th>\n",
       "    </tr>\n",
       "    <tr>\n",
       "      <th>Has_baby</th>\n",
       "      <th></th>\n",
       "      <th></th>\n",
       "      <th></th>\n",
       "    </tr>\n",
       "  </thead>\n",
       "  <tbody>\n",
       "    <tr>\n",
       "      <th>no</th>\n",
       "      <td>7.772326</td>\n",
       "      <td>25.0</td>\n",
       "      <td>1.0</td>\n",
       "    </tr>\n",
       "    <tr>\n",
       "      <th>yes</th>\n",
       "      <td>7.833435</td>\n",
       "      <td>25.0</td>\n",
       "      <td>1.0</td>\n",
       "    </tr>\n",
       "  </tbody>\n",
       "</table>\n",
       "</div>"
      ],
      "text/plain": [
       "            prices           \n",
       "              mean   max  min\n",
       "Has_baby                     \n",
       "no        7.772326  25.0  1.0\n",
       "yes       7.833435  25.0  1.0"
      ]
     },
     "execution_count": 160,
     "metadata": {},
     "output_type": "execute_result"
    }
   ],
   "source": [
    "df_merged.groupby('Has_baby').agg({'prices': ['mean', 'max', 'min']})"
   ]
  },
  {
   "cell_type": "code",
   "execution_count": 161,
   "id": "aa2fea1b",
   "metadata": {},
   "outputs": [
    {
     "data": {
      "text/html": [
       "<div>\n",
       "<style scoped>\n",
       "    .dataframe tbody tr th:only-of-type {\n",
       "        vertical-align: middle;\n",
       "    }\n",
       "\n",
       "    .dataframe tbody tr th {\n",
       "        vertical-align: top;\n",
       "    }\n",
       "\n",
       "    .dataframe thead tr th {\n",
       "        text-align: left;\n",
       "    }\n",
       "\n",
       "    .dataframe thead tr:last-of-type th {\n",
       "        text-align: right;\n",
       "    }\n",
       "</style>\n",
       "<table border=\"1\" class=\"dataframe\">\n",
       "  <thead>\n",
       "    <tr>\n",
       "      <th></th>\n",
       "      <th colspan=\"3\" halign=\"left\">Median_since_last_ordered</th>\n",
       "    </tr>\n",
       "    <tr>\n",
       "      <th></th>\n",
       "      <th>mean</th>\n",
       "      <th>max</th>\n",
       "      <th>min</th>\n",
       "    </tr>\n",
       "    <tr>\n",
       "      <th>Has_baby</th>\n",
       "      <th></th>\n",
       "      <th></th>\n",
       "      <th></th>\n",
       "    </tr>\n",
       "  </thead>\n",
       "  <tbody>\n",
       "    <tr>\n",
       "      <th>no</th>\n",
       "      <td>11.254911</td>\n",
       "      <td>30.0</td>\n",
       "      <td>0.0</td>\n",
       "    </tr>\n",
       "    <tr>\n",
       "      <th>yes</th>\n",
       "      <td>8.476073</td>\n",
       "      <td>30.0</td>\n",
       "      <td>0.0</td>\n",
       "    </tr>\n",
       "  </tbody>\n",
       "</table>\n",
       "</div>"
      ],
      "text/plain": [
       "         Median_since_last_ordered           \n",
       "                              mean   max  min\n",
       "Has_baby                                     \n",
       "no                       11.254911  30.0  0.0\n",
       "yes                       8.476073  30.0  0.0"
      ]
     },
     "execution_count": 161,
     "metadata": {},
     "output_type": "execute_result"
    }
   ],
   "source": [
    "df_merged.groupby('Has_baby').agg({'Median_since_last_ordered': ['mean', 'max', 'min']})"
   ]
  },
  {
   "cell_type": "markdown",
   "id": "b8b95c5b",
   "metadata": {},
   "source": [
    "# comparing profile with regions and departments:"
   ]
  },
  {
   "cell_type": "code",
   "execution_count": 162,
   "id": "13775b4c",
   "metadata": {},
   "outputs": [
    {
     "data": {
      "text/html": [
       "<div>\n",
       "<style scoped>\n",
       "    .dataframe tbody tr th:only-of-type {\n",
       "        vertical-align: middle;\n",
       "    }\n",
       "\n",
       "    .dataframe tbody tr th {\n",
       "        vertical-align: top;\n",
       "    }\n",
       "\n",
       "    .dataframe thead th {\n",
       "        text-align: right;\n",
       "    }\n",
       "</style>\n",
       "<table border=\"1\" class=\"dataframe\">\n",
       "  <thead>\n",
       "    <tr style=\"text-align: right;\">\n",
       "      <th>Has_baby</th>\n",
       "      <th>no</th>\n",
       "      <th>yes</th>\n",
       "    </tr>\n",
       "    <tr>\n",
       "      <th>Region</th>\n",
       "      <th></th>\n",
       "      <th></th>\n",
       "    </tr>\n",
       "  </thead>\n",
       "  <tbody>\n",
       "    <tr>\n",
       "      <th>South</th>\n",
       "      <td>7468733</td>\n",
       "      <td>3323152</td>\n",
       "    </tr>\n",
       "    <tr>\n",
       "      <th>West</th>\n",
       "      <td>5762448</td>\n",
       "      <td>2530465</td>\n",
       "    </tr>\n",
       "    <tr>\n",
       "      <th>Midwest</th>\n",
       "      <td>5255842</td>\n",
       "      <td>2341483</td>\n",
       "    </tr>\n",
       "    <tr>\n",
       "      <th>Northeast</th>\n",
       "      <td>3063704</td>\n",
       "      <td>1400949</td>\n",
       "    </tr>\n",
       "  </tbody>\n",
       "</table>\n",
       "</div>"
      ],
      "text/plain": [
       "Has_baby        no      yes\n",
       "Region                     \n",
       "South      7468733  3323152\n",
       "West       5762448  2530465\n",
       "Midwest    5255842  2341483\n",
       "Northeast  3063704  1400949"
      ]
     },
     "execution_count": 162,
     "metadata": {},
     "output_type": "execute_result"
    }
   ],
   "source": [
    "# has_baby in comparaison to region\n",
    "baby_region=pd.crosstab(df_merged['Region'], df_merged['Has_baby'].sort_values(ascending=False))\n",
    "baby_region=baby_region.reindex(['no', 'yes'], axis=\"columns\").reindex(['South', 'West', 'Midwest', 'Northeast'])\n",
    "baby_region"
   ]
  },
  {
   "cell_type": "code",
   "execution_count": 163,
   "id": "b991da3e",
   "metadata": {},
   "outputs": [
    {
     "data": {
      "text/plain": [
       "<matplotlib.legend.Legend at 0x1bd64650220>"
      ]
     },
     "execution_count": 163,
     "metadata": {},
     "output_type": "execute_result"
    },
    {
     "data": {
      "image/png": "[encoded data removed]",
      "text/plain": [
       "<Figure size 432x288 with 1 Axes>"
      ]
     },
     "metadata": {
      "needs_background": "light"
     },
     "output_type": "display_data"
    }
   ],
   "source": [
    "#Grouped bar chart. baby vs regions\n",
    "bar_baby_region=baby_region.plot.bar(color=['#5D8AA8', '#00308F'])\n",
    "plt.title('baby vs regions')\n",
    "plt.xlabel('Region')\n",
    "plt.ylabel('Has_baby')\n",
    "plt.legend()"
   ]
  },
  {
   "cell_type": "code",
   "execution_count": 164,
   "id": "8db76276",
   "metadata": {},
   "outputs": [],
   "source": [
    "bar_baby_region.figure.savefig(os.path.join(path, '04 Analysis', 'Visualizations', 'bar_baby_region.final.png'))"
   ]
  },
  {
   "cell_type": "code",
   "execution_count": 165,
   "id": "8f253296",
   "metadata": {},
   "outputs": [
    {
     "data": {
      "text/html": [
       "<div>\n",
       "<style scoped>\n",
       "    .dataframe tbody tr th:only-of-type {\n",
       "        vertical-align: middle;\n",
       "    }\n",
       "\n",
       "    .dataframe tbody tr th {\n",
       "        vertical-align: top;\n",
       "    }\n",
       "\n",
       "    .dataframe thead th {\n",
       "        text-align: right;\n",
       "    }\n",
       "</style>\n",
       "<table border=\"1\" class=\"dataframe\">\n",
       "  <thead>\n",
       "    <tr style=\"text-align: right;\">\n",
       "      <th>Has_baby</th>\n",
       "      <th>no</th>\n",
       "      <th>yes</th>\n",
       "    </tr>\n",
       "    <tr>\n",
       "      <th>department</th>\n",
       "      <th></th>\n",
       "      <th></th>\n",
       "    </tr>\n",
       "  </thead>\n",
       "  <tbody>\n",
       "    <tr>\n",
       "      <th>alcohol</th>\n",
       "      <td>126851</td>\n",
       "      <td>20659</td>\n",
       "    </tr>\n",
       "    <tr>\n",
       "      <th>babies</th>\n",
       "      <td>0</td>\n",
       "      <td>407558</td>\n",
       "    </tr>\n",
       "    <tr>\n",
       "      <th>bakery</th>\n",
       "      <td>770237</td>\n",
       "      <td>357340</td>\n",
       "    </tr>\n",
       "    <tr>\n",
       "      <th>beverages</th>\n",
       "      <td>1945944</td>\n",
       "      <td>636203</td>\n",
       "    </tr>\n",
       "    <tr>\n",
       "      <th>breakfast</th>\n",
       "      <td>469602</td>\n",
       "      <td>206539</td>\n",
       "    </tr>\n",
       "    <tr>\n",
       "      <th>bulk</th>\n",
       "      <td>23909</td>\n",
       "      <td>9429</td>\n",
       "    </tr>\n",
       "    <tr>\n",
       "      <th>canned goods</th>\n",
       "      <td>714447</td>\n",
       "      <td>312518</td>\n",
       "    </tr>\n",
       "    <tr>\n",
       "      <th>dairy eggs</th>\n",
       "      <td>3502879</td>\n",
       "      <td>1685777</td>\n",
       "    </tr>\n",
       "    <tr>\n",
       "      <th>deli</th>\n",
       "      <td>712997</td>\n",
       "      <td>297391</td>\n",
       "    </tr>\n",
       "    <tr>\n",
       "      <th>dry goods pasta</th>\n",
       "      <td>547331</td>\n",
       "      <td>285682</td>\n",
       "    </tr>\n",
       "    <tr>\n",
       "      <th>frozen</th>\n",
       "      <td>1485328</td>\n",
       "      <td>665382</td>\n",
       "    </tr>\n",
       "    <tr>\n",
       "      <th>household</th>\n",
       "      <td>491963</td>\n",
       "      <td>218007</td>\n",
       "    </tr>\n",
       "    <tr>\n",
       "      <th>international</th>\n",
       "      <td>184341</td>\n",
       "      <td>74409</td>\n",
       "    </tr>\n",
       "    <tr>\n",
       "      <th>meat seafood</th>\n",
       "      <td>474713</td>\n",
       "      <td>207027</td>\n",
       "    </tr>\n",
       "    <tr>\n",
       "      <th>missing</th>\n",
       "      <td>46366</td>\n",
       "      <td>20312</td>\n",
       "    </tr>\n",
       "    <tr>\n",
       "      <th>other</th>\n",
       "      <td>23754</td>\n",
       "      <td>11191</td>\n",
       "    </tr>\n",
       "    <tr>\n",
       "      <th>pantry</th>\n",
       "      <td>1288077</td>\n",
       "      <td>514370</td>\n",
       "    </tr>\n",
       "    <tr>\n",
       "      <th>personal care</th>\n",
       "      <td>293836</td>\n",
       "      <td>136729</td>\n",
       "    </tr>\n",
       "    <tr>\n",
       "      <th>pets</th>\n",
       "      <td>70810</td>\n",
       "      <td>23226</td>\n",
       "    </tr>\n",
       "    <tr>\n",
       "      <th>produce</th>\n",
       "      <td>6387007</td>\n",
       "      <td>2722500</td>\n",
       "    </tr>\n",
       "    <tr>\n",
       "      <th>snacks</th>\n",
       "      <td>1990335</td>\n",
       "      <td>783800</td>\n",
       "    </tr>\n",
       "  </tbody>\n",
       "</table>\n",
       "</div>"
      ],
      "text/plain": [
       "Has_baby              no      yes\n",
       "department                       \n",
       "alcohol           126851    20659\n",
       "babies                 0   407558\n",
       "bakery            770237   357340\n",
       "beverages        1945944   636203\n",
       "breakfast         469602   206539\n",
       "bulk               23909     9429\n",
       "canned goods      714447   312518\n",
       "dairy eggs       3502879  1685777\n",
       "deli              712997   297391\n",
       "dry goods pasta   547331   285682\n",
       "frozen           1485328   665382\n",
       "household         491963   218007\n",
       "international     184341    74409\n",
       "meat seafood      474713   207027\n",
       "missing            46366    20312\n",
       "other              23754    11191\n",
       "pantry           1288077   514370\n",
       "personal care     293836   136729\n",
       "pets               70810    23226\n",
       "produce          6387007  2722500\n",
       "snacks           1990335   783800"
      ]
     },
     "execution_count": 165,
     "metadata": {},
     "output_type": "execute_result"
    }
   ],
   "source": [
    "#Measuring departments vs has_baby\n",
    "baby_depart2=pd.crosstab(df_merged['department'], df_merged['Has_baby'])\n",
    "baby_depart2=baby_depart2.reindex(['no', 'yes'], axis=\"columns\")\n",
    "baby_depart2"
   ]
  },
  {
   "cell_type": "code",
   "execution_count": 166,
   "id": "78dabbd2",
   "metadata": {},
   "outputs": [
    {
     "data": {
      "text/html": [
       "<div>\n",
       "<style scoped>\n",
       "    .dataframe tbody tr th:only-of-type {\n",
       "        vertical-align: middle;\n",
       "    }\n",
       "\n",
       "    .dataframe tbody tr th {\n",
       "        vertical-align: top;\n",
       "    }\n",
       "\n",
       "    .dataframe thead th {\n",
       "        text-align: right;\n",
       "    }\n",
       "</style>\n",
       "<table border=\"1\" class=\"dataframe\">\n",
       "  <thead>\n",
       "    <tr style=\"text-align: right;\">\n",
       "      <th>Has_baby</th>\n",
       "      <th>no</th>\n",
       "      <th>yes</th>\n",
       "    </tr>\n",
       "    <tr>\n",
       "      <th>department</th>\n",
       "      <th></th>\n",
       "      <th></th>\n",
       "    </tr>\n",
       "  </thead>\n",
       "  <tbody>\n",
       "    <tr>\n",
       "      <th>produce</th>\n",
       "      <td>0.701136</td>\n",
       "      <td>0.298864</td>\n",
       "    </tr>\n",
       "    <tr>\n",
       "      <th>dairy eggs</th>\n",
       "      <td>0.675103</td>\n",
       "      <td>0.324897</td>\n",
       "    </tr>\n",
       "    <tr>\n",
       "      <th>snacks</th>\n",
       "      <td>0.717461</td>\n",
       "      <td>0.282539</td>\n",
       "    </tr>\n",
       "    <tr>\n",
       "      <th>beverages</th>\n",
       "      <td>0.753615</td>\n",
       "      <td>0.246385</td>\n",
       "    </tr>\n",
       "  </tbody>\n",
       "</table>\n",
       "</div>"
      ],
      "text/plain": [
       "Has_baby          no       yes\n",
       "department                    \n",
       "produce     0.701136  0.298864\n",
       "dairy eggs  0.675103  0.324897\n",
       "snacks      0.717461  0.282539\n",
       "beverages   0.753615  0.246385"
      ]
     },
     "execution_count": 166,
     "metadata": {},
     "output_type": "execute_result"
    }
   ],
   "source": [
    "#creating a bar chart for department vs has_baby\n",
    "baby_depart3=pd.crosstab(index=df_age_depart2['department'], columns=df_merged['Has_baby'], normalize='index')\n",
    "baby_depart3=baby_depart3.reindex(['no', 'yes'], axis=\"columns\").reindex(['produce', 'dairy eggs', 'snacks', 'beverages'])\n",
    "baby_depart3_labels=pd.crosstab(index=df_age_depart2['department'], columns=df_merged['Has_baby'])\n",
    "baby_depart3_labels=baby_depart3_labels.reindex(['no', 'yes'], axis=\"columns\").reindex(['produce', 'dairy eggs', 'snacks', 'beverages'])\n",
    "baby_depart3"
   ]
  },
  {
   "cell_type": "code",
   "execution_count": 178,
   "id": "580f6ceb",
   "metadata": {},
   "outputs": [
    {
     "data": {
      "image/png": "[encoded data removed]",
      "text/plain": [
       "<Figure size 432x288 with 1 Axes>"
      ]
     },
     "metadata": {
      "needs_background": "light"
     },
     "output_type": "display_data"
    }
   ],
   "source": [
    "bar_baby_depart3=baby_depart3.plot.bar(stacked=True,color=['#5D8AA8', '#00308F'])\n",
    "plt.title('department vs has_baby')\n",
    "plt.xlabel('department')\n",
    "plt.legend(bbox_to_anchor=(1.02, 0.1), loc='upper left', borderaxespad=0)\n",
    "for n, y in enumerate([*age_depart3.index.values]):\n",
    "    for (proportion, count, x_loc) in zip(baby_depart3.loc[y],\n",
    "                                         baby_depart3_labels.loc[y],\n",
    "                                          baby_depart3.loc[y].cumsum()):\n",
    "                \n",
    "        plt.text(y=(x_loc - proportion) + (proportion / 2),\n",
    "                 x=n - 0.11,\n",
    "                 s=f'{count}\\n({np.round(proportion * 100, 1)}%)', \n",
    "                 color=\"white\")"
   ]
  },
  {
   "cell_type": "code",
   "execution_count": 179,
   "id": "0ac6bcbf",
   "metadata": {},
   "outputs": [],
   "source": [
    "bar_Dependent_depart3.figure.savefig(os.path.join(path, '04 Analysis', 'Visualizations', 'bar_Dependent_depart3.final.png'))"
   ]
  },
  {
   "cell_type": "markdown",
   "id": "0b49595b",
   "metadata": {},
   "source": [
    "# exporting data"
   ]
  },
  {
   "cell_type": "code",
   "execution_count": 169,
   "id": "e13be68e",
   "metadata": {},
   "outputs": [],
   "source": [
    "df_merged.to_pickle(os.path.join(path, '02 Data','Prepared Data', 'final_cust_profile.pkl'))"
   ]
  }
 ],
 "metadata": {
  "kernelspec": {
   "display_name": "Python 3 (ipykernel)",
   "language": "python",
   "name": "python3"
  },
  "language_info": {
   "codemirror_mode": {
    "name": "ipython",
    "version": 3
   },
   "file_extension": ".py",
   "mimetype": "text/x-python",
   "name": "python",
   "nbconvert_exporter": "python",
   "pygments_lexer": "ipython3",
   "version": "3.9.12"
  }
 },
 "nbformat": 4,
 "nbformat_minor": 5
}
